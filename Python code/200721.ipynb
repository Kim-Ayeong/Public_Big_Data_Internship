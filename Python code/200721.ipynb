{
 "cells": [
  {
   "cell_type": "markdown",
   "metadata": {},
   "source": [
    "200721"
   ]
  },
  {
   "cell_type": "markdown",
   "metadata": {},
   "source": [
    "# url 오픈"
   ]
  },
  {
   "cell_type": "code",
   "execution_count": 1,
   "metadata": {},
   "outputs": [],
   "source": [
    "from urllib.request import urlopen"
   ]
  },
  {
   "cell_type": "code",
   "execution_count": 2,
   "metadata": {},
   "outputs": [],
   "source": [
    "f = urlopen('http://www.hanbit.co.kr/store/books/full_book_list.html')"
   ]
  },
  {
   "cell_type": "code",
   "execution_count": 3,
   "metadata": {},
   "outputs": [
    {
     "data": {
      "text/plain": [
       "http.client.HTTPResponse"
      ]
     },
     "execution_count": 3,
     "metadata": {},
     "output_type": "execute_result"
    }
   ],
   "source": [
    "type(f)"
   ]
  },
  {
   "cell_type": "markdown",
   "metadata": {},
   "source": [
    "# 웹페이지 소스 추출"
   ]
  },
  {
   "cell_type": "code",
   "execution_count": 4,
   "metadata": {},
   "outputs": [
    {
     "data": {
      "text/plain": [
       "b'<!DOCTYPE html>\\r\\n<html lang=\"ko\">\\r\\n<head>\\r\\n<!--[if lte IE 8]>\\r\\n<script>\\r\\n  location.replace(\\'/support/explorer_upgrade.html\\');\\r\\n</script>\\r\\n<![endif]-->\\r\\n<meta charset=\"utf-8\"/>\\r\\n<title>\\xed\\x95\\x9c\\xeb\\xb9\\x9b\\xec\\xb6\\x9c\\xed\\x8c\\x90\\xeb\\x84\\xa4\\xed\\x8a\\xb8\\xec\\x9b\\x8c\\xed\\x81\\xac</title>\\r\\n<link rel=\"shortcut icon\" href=\"https://www.hanbit.co.kr/images/common/hanbit.ico\"> \\r\\n<meta http-equiv=\"X-UA-Compatible\" content=\"IE=Edge\" />\\r\\n<meta property=\"og:type\" content=\"website\"/>\\r\\n<meta property=\"og:title\" content=\"\\xed\\x95\\x9c\\xeb\\xb9\\x9b\\xec\\xb6\\x9c\\xed\\x8c\\x90\\xeb\\x84\\xa4\\xed\\x8a\\xb8\\xec\\x9b\\x8c\\xed\\x81\\xac\"/>\\r\\n<meta property=\"og:description\" content=\"\\xeb\\x8d\\x94 \\xeb\\x84\\x93\\xec\\x9d\\x80 \\xec\\x84\\xb8\\xec\\x83\\x81, \\xeb\\x8d\\x94 \\xeb\\x82\\x98\\xec\\x9d\\x80 \\xeb\\xaf\\xb8\\xeb\\x9e\\x98\\xeb\\xa5\\xbc \\xec\\x9c\\x84\\xed\\x95\\x9c \\xec\\x95\\x84\\xec\\x8b\\x9c\\xec\\x95\\x84 \\xec\\xb6\\x9c\\xed\\x8c\\x90 \\xeb\\x84\\xa4\\xed\\x8a\\xb8\\xec\\x9b\\x8c\\xed\\x81\\xac :: \\xed\\x95\\x9c\\xeb\\xb9\\x9b\\xeb\\xaf\\xb8\\xeb\\x94\\x94\\xec\\x96\\xb4, \\xed\\x95\\x9c\\xeb\\xb9\\x9b\\xec\\x95\\x84\\xec\\xb9\\xb4\\xeb\\x8d\\xb0\\xeb\\xaf\\xb8, \\xed\\x95\\x9c\\xeb\\xb9\\x9b\\xeb\\xb9\\x84\\xec\\xa6\\x88, \\xed\\x95\\x9c\\xeb\\xb9\\x9b\\xeb\\x9d\\xbc\\xec\\x9d\\xb4\\xed\\x94\\x84, \\xed\\x95\\x9c\\xeb\\xb9\\x9b\\xec\\x97\\x90\\xeb\\x93\\x80\"/>\\r\\n<meta property=\"og:image\" content=\"https://www.hanbit.co.kr/images/hanbitpubnet_logo.jpg\" />\\r\\n<meta property=\"og:url\" content=\"https://www.hanbit.co.kr/store/books/full_book_list.html\"/>\\r\\n<link rel=\"canonical\" href=\"https://www.hanbit.co.kr/store/books/full_book_list.html\" />\\r\\n<meta name=\"keywords\" content=\"\\xed\\x95\\x9c\\xeb\\xb9\\x9b\\xeb\\xaf\\xb8\\xeb\\x94\\x94\\xec\\x96\\xb4,\\xed\\x95\\x9c\\xeb\\xb9\\x9b\\xec\\x95\\x84\\xec\\xb9\\xb4\\xeb\\x8d\\xb0\\xeb\\xaf\\xb8,\\xed\\x95\\x9c\\xeb\\xb9\\x9b\\xeb\\xb9\\x84\\xec\\xa6\\x88,\\xed\\x95\\x9c\\xeb\\xb9\\x9b\\xeb\\x9d\\xbc\\xec\\x9d\\xb4\\xed\\x94\\x84,\\xed\\x95\\x9c\\xeb\\xb9\\x9b\\xec\\x97\\x90\\xeb\\x93\\x80,\\xeb\\xa6\\xac\\xec\\x96\\xbc\\xed\\x83\\x80\\xec\\x9e\\x84,\\xeb\\x8c\\x80\\xea\\xb4\\x80\\xec\\x84\\x9c\\xeb\\xb9\\x84\\xec\\x8a\\xa4,\\xec\\xb1\\x85,\\xec\\xb6\\x9c\\xed\\x8c\\x90\\xec\\x82\\xac,IT\\xec\\xa0\\x84\\xeb\\xac\\xb8\\xec\\x84\\x9c,IT\\xed\\x99\\x9c\\xec\\x9a\\xa9\\xec\\x84\\x9c,\\xeb\\x8c\\x80\\xed\\x95\\x99\\xea\\xb5\\x90\\xec\\x9e\\xac,\\xea\\xb2\\xbd\\xec\\xa0\\x9c\\xea\\xb2\\xbd\\xec\\x98\\x81,\\xec\\x96\\xb4\\xeb\\xa6\\xb0\\xec\\x9d\\xb4/\\xec\\x9c\\xa0\\xec\\x95\\x84,\\xec\\x8b\\xa4\\xec\\x9a\\xa9/\\xec\\x97\\xac\\xed\\x96\\x89,\\xec\\xa0\\x84\\xec\\x9e\\x90\\xec\\xb1\\x85,\\xec\\x9e\\x90\\xea\\xb2\\xa9\\xec\\xa6\\x9d,\\xea\\xb5\\x90\\xec\\x9c\\xa1,\\xec\\x84\\xb8\\xeb\\xaf\\xb8\\xeb\\x82\\x98,\\xea\\xb0\\x95\\xec\\x9d\\x98,ebook,\\xec\\xa0\\x95\\xeb\\xb3\\xb4\\xea\\xb5\\x90\\xea\\xb3\\xbc\\xec\\x84\\x9c\" />\\r\\n<meta name=\"description\" content=\"\\xeb\\x8d\\x94 \\xeb\\x84\\x93\\xec\\x9d\\x80 \\xec\\x84\\xb8\\xec\\x83\\x81, \\xeb\\x8d\\x94 \\xeb\\x82\\x98\\xec\\x9d\\x80 \\xeb\\xaf\\xb8\\xeb\\x9e\\x98\\xeb\\xa5\\xbc \\xec\\x9c\\x84\\xed\\x95\\x9c \\xec\\x95\\x84\\xec\\x8b\\x9c\\xec\\x95\\x84 \\xec\\xb6\\x9c\\xed\\x8c\\x90 \\xeb\\x84\\xa4\\xed\\x8a\\xb8\\xec\\x9b\\x8c\\xed\\x81\\xac :: \\xed\\x95\\x9c\\xeb\\xb9\\x9b\\xeb\\xaf\\xb8\\xeb\\x94\\x94\\xec\\x96\\xb4, \\xed\\x95\\x9c\\xeb\\xb9\\x9b\\xec\\x95\\x84\\xec\\xb9\\xb4\\xeb\\x8d\\xb0\\xeb\\xaf\\xb8, \\xed\\x95\\x9c\\xeb\\xb9\\x9b\\xeb\\xb9\\x84\\xec\\xa6\\x88, \\xed\\x95\\x9c\\xeb\\xb9\\x9b\\xeb\\x9d\\xbc\\xec\\x9d\\xb4\\xed\\x94\\x84, \\xed\\x95\\x9c\\xeb\\xb9\\x9b\\xec\\x97\\x90\\xeb\\x93\\x80\" />\\r\\n<meta name=\"viewport\" content=\"width=device-width,initial-scale=1.0,minimum-scale=1.0,maximum-scale=1.0\">\\r\\n<meta name=\"viewport\" content=\"width=1260\">\\r\\n<meta name=\"apple-mobile-web-app-capable\" content=\"yes\" />\\r\\n<meta name=\"naver-site-verification\" content=\"01c29ed1852aecca7a48ac0c3e0869627bc512d8\"/>\\r\\n<link rel=\"stylesheet\" href=\"/css/common.css?20190625102532\" />\\r\\n<link href=\"/css/hover.css\" rel=\"stylesheet\" media=\"all\">\\r\\n<link rel=\"stylesheet\" href=\"/js/jquery.raty.css\" />\\r\\n<script type=\"text/javascript\" src=\"/js/jquery-latest.js\"></script>\\r\\n<script type=\"text/javascript\" src=\"/js/jquery-ui.js\"></script>\\r\\n<script type=\"text/javascript\" src=\"/js/jquery.event.drag-1.5.min.js\"></script>\\r\\n<script type=\"text/javascript\" src=\"/js/jquery.touchSlider.js\"></script>\\r\\n<script type=\"text/javascript\" src=\"/js/jquery.raty.js\"></script>\\r\\n<script type=\"text/javascript\" src=\"/js/main.js\"></script>\\r\\n<script type=\"text/javascript\" src=\"/lib/cheditor/cheditor.js\"></script>\\r\\n<script type=\"text/javascript\" src=\"/js/jquery.ui.datepicker-ko.js\"></script>\\r\\n<script type=\"text/javascript\" src=\"/js/engine.js\"></script>\\r\\n<script type=\"text/javascript\" src=\"/js/vue.js\"></script>\\r\\n\\r\\n<!-- Google Analytics -->\\r\\n<script>\\r\\n(function(i,s,o,g,r,a,m){i[\\'GoogleAnalyticsObject\\']=r;i[r]=i[r]||function(){\\r\\n(i[r].q=i[r].q||[]).push(arguments)},i[r].l=1*new Date();a=s.createElement(o),\\r\\nm=s.getElementsByTagName(o)[0];a.async=1;a.src=g;m.parentNode.insertBefore(a,m)\\r\\n})(window,document,\\'script\\',\\'//www.google-analytics.com/analytics.js\\',\\'ga\\');\\r\\nga(\\'create\\', \\'UA-47080738-1\\', \\'hanbit.co.kr\\');\\r\\nga(\\'require\\', \\'linkid\\', \\'linkid.js\\');\\r\\nga(\\'send\\', \\'pageview\\');\\r\\n</script>\\r\\n<!-- Google Analytics -->\\r\\n\\r\\n<!-- Facebook Pixel Code -->\\r\\n<script>\\r\\n  !function(f,b,e,v,n,t,s)\\r\\n  {if(f.fbq)return;n=f.fbq=function(){n.callMethod?\\r\\n  n.callMethod.apply(n,arguments):n.queue.push(arguments)};\\r\\n  if(!f._fbq)f._fbq=n;n.push=n;n.loaded=!0;n.version=\\'2.0\\';\\r\\n  n.queue=[];t=b.createElement(e);t.async=!0;\\r\\n  t.src=v;s=b.getElementsByTagName(e)[0];\\r\\n  s.parentNode.insertBefore(t,s)}(window, document,\\'script\\',\\r\\n  \\'https://connect.facebook.net/en_US/fbevents.js\\');\\r\\n  fbq(\\'init\\', \\'406459623338891\\');\\r\\n  fbq(\\'track\\', \\'PageView\\');\\r\\n</script>\\r\\n<noscript><img height=\"1\" width=\"1\" style=\"display:none\"\\r\\n  src=\"https://www.facebook.com/tr?id=406459623338891&ev=PageView&noscript=1\"\\r\\n/></noscript>\\r\\n<!-- End Facebook Pixel Code -->\\r\\n\\r\\n<!-- Kakao Pixel Code -->\\r\\n<script type=\"text/javascript\" charset=\"UTF-8\" src=\"//t1.daumcdn.net/adfit/static/kp.js\"></script>\\r\\n<script type=\"text/javascript\">\\r\\n  kakaoPixel(\\'3011392806152551233\\').pageView();\\r\\n</script>\\r\\n<!-- //Kakao Pixel Code -->\\r\\n</head>\\r\\n<body>\\r\\n<!-- Google Tag Manager (noscript) -->\\r\\n<noscript><iframe src=\"https://www.googletagmanager.com/ns.html?id=GTM-W9D5PM3\"\\r\\nheight=\"0\" width=\"0\" style=\"display:none;visibility:hidden\"></iframe></noscript>\\r\\n<!-- End Google Tag Manager (noscript) -->\\r\\n<link rel=\"stylesheet\" href=\"/css/layout-hanbit.css?20191130\" />\\r\\n<link rel=\"stylesheet\" href=\"/css/layout-member.css\" />\\r\\n<link rel=\"stylesheet\" href=\"/css/layout-network.css\" />\\r\\n<link rel=\"stylesheet\" href=\"/css/layout-store.css\" />\\r\\n<link rel=\"stylesheet\" href=\"/css/layout-myhanbit.css\" />\\r\\n<link rel=\"stylesheet\" href=\"/css/layout-event.css\" />\\r\\n<!-- \\xeb\\xa9\\x94\\xeb\\x89\\xb4 \\xeb\\xb0\\x94\\xeb\\xa1\\x9c\\xea\\xb0\\x80\\xea\\xb8\\xb0 -->\\r\\n<div id=\"quick_skip_menu\">\\r\\n  <a href=\"#gnb\" onclick=\"document.getElementById(\\'gnb\\').tabIndex = -1;document.getElementById(\\'gnb\\').focus();return false;\"><span>\\xeb\\xa9\\x94\\xeb\\x89\\xb4 \\xeb\\xb0\\x94\\xeb\\xa1\\x9c\\xea\\xb0\\x80\\xea\\xb8\\xb0</span></a>\\r\\n  <a href=\"#top_search\" onclick=\"view_hover(\\'main_search_area\\',\\'\\',\\'show\\'), document.getElementById(\\'top_search\\').tabIndex = -1;document.getElementById(\\'top_search\\').focus();return false;\"><span>\\xea\\xb2\\x80\\xec\\x83\\x89 \\xeb\\xb0\\x8f \\xec\\xb9\\xb4\\xed\\x85\\x8c\\xea\\xb3\\xa0\\xeb\\xa6\\xac \\xeb\\xb0\\x94\\xeb\\xa1\\x9c\\xea\\xb0\\x80\\xea\\xb8\\xb0</span></a>\\r\\n    <a href=\"#container\" onclick=\"document.getElementById(\\'container\\').tabIndex = -1;document.getElementById(\\'container\\').focus();return false;\"><span>\\xeb\\xb3\\xb8\\xeb\\xac\\xb8 \\xeb\\xb0\\x94\\xeb\\xa1\\x9c\\xea\\xb0\\x80\\xea\\xb8\\xb0</span></a>\\r\\n  </div>\\r\\n<!-- //\\xeb\\xa9\\x94\\xeb\\x89\\xb4 \\xeb\\xb0\\x94\\xeb\\xa1\\x9c\\xea\\xb0\\x80\\xea\\xb8\\xb0 -->\\r\\n\\r\\n<!-- header -->\\r\\n<header>\\r\\n  <!-- top menu -->\\r\\n  \\t<nav>\\r\\n\\t\\t<div id=\"wrap_nav\">\\r\\n\\t\\t\\t<ul class=\"top_brand\">\\r\\n\\t\\t\\t\\t<li><a href=\"https://www.hanbit.co.kr/index.html\" name=\"hanbit_network\"><span>HOME</span></a></li>\\r\\n\\t\\t\\t\\t<li><a href=\"https://www.hanbit.co.kr/media/\">\\xed\\x95\\x9c\\xeb\\xb9\\x9b\\xeb\\xaf\\xb8\\xeb\\x94\\x94\\xec\\x96\\xb4</a></li>\\r\\n\\t\\t\\t\\t<li><a href=\"https://www.hanbit.co.kr/academy/\">\\xed\\x95\\x9c\\xeb\\xb9\\x9b\\xec\\x95\\x84\\xec\\xb9\\xb4\\xeb\\x8d\\xb0\\xeb\\xaf\\xb8</a></li>\\r\\n\\t\\t\\t\\t<li><a href=\"https://www.hanbit.co.kr/biz/\">\\xed\\x95\\x9c\\xeb\\xb9\\x9b\\xeb\\xb9\\x84\\xec\\xa6\\x88</a></li>\\r\\n\\t\\t\\t\\t<li><a href=\"https://www.hanbit.co.kr/life/\">\\xed\\x95\\x9c\\xeb\\xb9\\x9b\\xeb\\x9d\\xbc\\xec\\x9d\\xb4\\xed\\x94\\x84</a></li>\\r\\n\\t\\t\\t\\t<li><a href=\"https://www.hanbit.co.kr/edu/\">\\xed\\x95\\x9c\\xeb\\xb9\\x9b\\xec\\x97\\x90\\xeb\\x93\\x80</a></li>\\r\\n\\t\\t\\t\\t<li><a href=\"https://www.hanbit.co.kr/realtime/\">\\xeb\\xa6\\xac\\xec\\x96\\xbc\\xed\\x83\\x80\\xec\\x9e\\x84</a></li>\\r\\n\\t\\t\\t\\t<li><a href=\"https://www.hanbit.co.kr/textbook/\" target=\"_blank\">\\xed\\x95\\x9c\\xeb\\xb9\\x9b\\xec\\xa0\\x95\\xeb\\xb3\\xb4\\xea\\xb5\\x90\\xea\\xb3\\xbc\\xec\\x84\\x9c</a></li>\\r\\n        <li><a href=\"https://www.hanbit.co.kr/rent/\" target=\"_blank\">\\xed\\x95\\x9c\\xeb\\xb9\\x9b\\xeb\\x8c\\x80\\xea\\xb4\\x80\\xec\\x84\\x9c\\xeb\\xb9\\x84\\xec\\x8a\\xa4</a></li>\\r\\n\\t\\t\\t</ul>\\r\\n\\t\\t\\t\\r\\n\\t\\t\\t<ul class=\"top_menu\">\\r\\n                        \\t<li><a href=\"https://www.hanbit.co.kr/member/login.html\" class=\"login\">\\xeb\\xa1\\x9c\\xea\\xb7\\xb8\\xec\\x9d\\xb8</a></li>\\r\\n\\t\\t\\t\\t<li><a href=\"https://www.hanbit.co.kr/member/member_agree.html\" class=\"join\">\\xed\\x9a\\x8c\\xec\\x9b\\x90\\xea\\xb0\\x80\\xec\\x9e\\x85</a></li>\\r\\n\\t\\t\\t\\t<li><a href=\"https://www.hanbit.co.kr/myhanbit/myhanbit.html\" class=\"myhanbit\">\\xeb\\xa7\\x88\\xec\\x9d\\xb4\\xed\\x95\\x9c\\xeb\\xb9\\x9b</a></li>\\r\\n\\t\\t\\t\\t<li><a href=\"https://www.hanbit.co.kr/myhanbit/cart.html\" class=\"cart\">\\xec\\x9e\\xa5\\xeb\\xb0\\x94\\xea\\xb5\\xac\\xeb\\x8b\\x88</a></li>\\r\\n            \\t\\t\\t\\t<!-- <li class=\"top_menu_store\"><a href=\"https://www.hanbit.co.kr/store/store_submain.html\">STORE</a></li> -->\\r\\n\\t\\t\\t</ul>\\r\\n\\t\\t</div>\\r\\n\\t</nav>  <!-- //top menu -->\\r\\n\\r\\n  <div id=\"wrap_gnb\">\\r\\n    <!-- logo -->\\r\\n    <h1><a href=\"https://www.hanbit.co.kr/index.html\">\\xed\\x95\\x9c\\xeb\\xb9\\x9b\\xec\\xb6\\x9c\\xed\\x8c\\x90\\xeb\\x84\\xa4\\xed\\x8a\\xb8\\xec\\x9b\\x8c\\xed\\x81\\xac</a></h1>\\r\\n    <!-- //logo -->\\r\\n\\r\\n    <!-- Menu -->\\r\\n    <div id=\"gnb\" name=\"gnb\">\\r\\n      <ul>\\r\\n        <li><a href=\"https://www.hanbit.co.kr/brand/brand_submain.html\" class=\"\">BRAND</a></li>\\r\\n        <li><a href=\"https://www.hanbit.co.kr/channel/channel_submain.html\" class=\"\">Channel.H</a></li>\\r\\n        <li><a href=\"https://www.hanbit.co.kr/store/store_submain.html\" class=\"curr\">STORE</a></li>\\r\\n        <li><a href=\"https://www.hanbit.co.kr/support/help_info.html\" class=\"\">SUPPORT</a></li>\\r\\n        <li><a href=\"https://www.hanbit.co.kr/event/current/current_event_list.html\" class=\"\">EVENT</a></li>\\r\\n        \\r\\n        <li id=\"top_search\" class=\"search\"><a href=\"javascript:;\" onClick=\"view_hover(\\'main_search_area\\',\\'\\',\\'show\\'); $(\\'#keyword_str\\').focus();\"><span>SERACH</span></a></li>\\r\\n      </ul>\\r\\n    </div>\\r\\n    <!-- //Menu -->\\r\\n    \\r\\n    <!-- lnb -->\\r\\n    <div class=\"lnb\" style=\"top:92px;\">\\r\\n      <div class=\"lnb_area\">\\r\\n      <!-- BRAND -->\\r\\n            <ul class=\"lnb_depth1_category\">\\r\\n        <li onmouseover=\"view_hover(\\'category_store\\',\\'\\',\\'show\\')\" onMouseOut=\"view_hover(\\'category_store\\',\\'\\',\\'hide\\')\"><a href=\"#\" onFocus=\"view_hover(\\'category_store\\',\\'\\',\\'show\\')\" class=\"gnb_category\">\\xec\\xb9\\xb4\\xed\\x85\\x8c\\xea\\xb3\\xa0\\xeb\\xa6\\xac</a>\\r\\n          <ul id=\"category_store\">\\r\\n\\r\\n                          <li onmouseover=\"view_hover(\\'category_store1\\',\\'\\',\\'show\\')\" onMouseOut=\"view_hover(\\'category_store1\\',\\'\\',\\'hide\\')\"><a href=\"/store/books/category_list.html?cate_cd=001\" onFocus=\"view_hover(\\'category_store1\\',\\'\\',\\'show\\')\">IT/\\xeb\\xaa\\xa8\\xeb\\xb0\\x94\\xec\\x9d\\xbc</a>\\r\\n                <ul id=\"category_store1\">\\r\\n                              <li><a href=\"/store/books/category_list.html?cate_cd=001001\">\\xed\\x94\\x84\\xeb\\xa1\\x9c\\xea\\xb7\\xb8\\xeb\\x9e\\x98\\xeb\\xb0\\x8d</a></li>      \\r\\n                              <li><a href=\"/store/books/category_list.html?cate_cd=001002\">\\xec\\x9b\\xb9</a></li>      \\r\\n                              <li><a href=\"/store/books/category_list.html?cate_cd=001003\">\\xeb\\xaa\\xa8\\xeb\\xb0\\x94\\xec\\x9d\\xbc/\\xec\\x8a\\xa4\\xeb\\xa7\\x88\\xed\\x8a\\xb8\\xea\\xb8\\xb0\\xea\\xb8\\xb0</a></li>      \\r\\n                              <li><a href=\"/store/books/category_list.html?cate_cd=001013\">\\xeb\\x8d\\xb0\\xec\\x9d\\xb4\\xed\\x84\\xb0\\xeb\\xb2\\xa0\\xec\\x9d\\xb4\\xec\\x8a\\xa4</a></li>      \\r\\n                              <li><a href=\"/store/books/category_list.html?cate_cd=001005\">\\xec\\x9a\\xb4\\xec\\x98\\x81\\xec\\xb2\\xb4\\xec\\xa0\\x9c</a></li>      \\r\\n                              <li><a href=\"/store/books/category_list.html?cate_cd=001014\">\\xed\\x95\\x98\\xeb\\x93\\x9c\\xec\\x9b\\xa8\\xec\\x96\\xb4</a></li>      \\r\\n                              <li><a href=\"/store/books/category_list.html?cate_cd=001015\">\\xec\\x8b\\x9c\\xec\\x8a\\xa4\\xed\\x85\\x9c/\\xeb\\x84\\xa4\\xed\\x8a\\xb8\\xec\\x9b\\x8c\\xed\\x81\\xac</a></li>      \\r\\n                              <li><a href=\"/store/books/category_list.html?cate_cd=001016\">\\xeb\\xb3\\xb4\\xec\\x95\\x88</a></li>      \\r\\n                              <li><a href=\"/store/books/category_list.html?cate_cd=001009\">\\xeb\\xb9\\x84\\xec\\xa6\\x88\\xeb\\x8b\\x88\\xec\\x8a\\xa4/\\xeb\\xac\\xb8\\xed\\x99\\x94</a></li>      \\r\\n                              <li><a href=\"/store/books/category_list.html?cate_cd=001010\">\\xea\\xb2\\x8c\\xec\\x9e\\x84</a></li>      \\r\\n                              <li><a href=\"/store/books/category_list.html?cate_cd=001017\">IT\\xec\\x97\\x90\\xec\\x84\\xb8\\xec\\x9d\\xb4</a></li>      \\r\\n                              <li><a href=\"/store/books/category_list.html?cate_cd=001012\">\\xec\\x9e\\x90\\xea\\xb2\\xa9\\xec\\xa6\\x9d</a></li>      \\r\\n                              <li><a href=\"/store/books/category_list.html?cate_cd=001018\">\\xec\\x9d\\xb8\\xea\\xb3\\xb5\\xec\\xa7\\x80\\xeb\\x8a\\xa5/\\xeb\\x8d\\xb0\\xec\\x9d\\xb4\\xed\\x84\\xb0\\xea\\xb3\\xbc\\xed\\x95\\x99</a></li>      \\r\\n              </ul></li>              <li onmouseover=\"view_hover(\\'category_store2\\',\\'\\',\\'show\\')\" onMouseOut=\"view_hover(\\'category_store2\\',\\'\\',\\'hide\\')\"><a href=\"/store/books/category_list.html?cate_cd=002\" onFocus=\"view_hover(\\'category_store2\\',\\'\\',\\'show\\')\">MAKE</a>\\r\\n                <ul id=\"category_store2\">\\r\\n                              <li><a href=\"/store/books/category_list.html?cate_cd=002001\">Make \\xeb\\xa7\\xa4\\xea\\xb1\\xb0\\xec\\xa7\\x84</a></li>      \\r\\n                              <li><a href=\"/store/books/category_list.html?cate_cd=002002\">Make \\xed\\x94\\x84\\xeb\\xa1\\x9c\\xec\\xa0\\x9d\\xed\\x8a\\xb8 \\xeb\\xb6\\x81</a></li>      \\r\\n              </ul></li>              <li onmouseover=\"view_hover(\\'category_store3\\',\\'\\',\\'show\\')\" onMouseOut=\"view_hover(\\'category_store3\\',\\'\\',\\'hide\\')\"><a href=\"/store/books/category_list.html?cate_cd=003\" onFocus=\"view_hover(\\'category_store3\\',\\'\\',\\'show\\')\">IT\\xed\\x99\\x9c\\xec\\x9a\\xa9</a>\\r\\n                <ul id=\"category_store3\">\\r\\n                              <li><a href=\"/store/books/category_list.html?cate_cd=003001\">\\xec\\x98\\xa4\\xed\\x94\\xbc\\xec\\x8a\\xa4/OA</a></li>      \\r\\n                              <li><a href=\"/store/books/category_list.html?cate_cd=003002\">\\xea\\xb7\\xb8\\xeb\\x9e\\x98\\xed\\x94\\xbd/\\xeb\\xa9\\x80\\xed\\x8b\\xb0\\xeb\\xaf\\xb8\\xeb\\x94\\x94\\xec\\x96\\xb4</a></li>      \\r\\n                              <li><a href=\"/store/books/category_list.html?cate_cd=003003\">\\xec\\x82\\xac\\xec\\xa7\\x84/\\xec\\x98\\x88\\xec\\x88\\xa0</a></li>      \\r\\n                              <li><a href=\"/store/books/category_list.html?cate_cd=003004\">\\xec\\xbb\\xb4\\xed\\x93\\xa8\\xed\\x84\\xb0\\xec\\x9e\\x85\\xeb\\xac\\xb8/IT\\xea\\xb5\\x90\\xec\\x96\\x91</a></li>      \\r\\n              </ul></li>              <li onmouseover=\"view_hover(\\'category_store4\\',\\'\\',\\'show\\')\" onMouseOut=\"view_hover(\\'category_store4\\',\\'\\',\\'hide\\')\"><a href=\"/store/books/category_list.html?cate_cd=004\" onFocus=\"view_hover(\\'category_store4\\',\\'\\',\\'show\\')\">\\xeb\\x8c\\x80\\xed\\x95\\x99\\xea\\xb5\\x90\\xec\\x9e\\xac</a>\\r\\n                <ul id=\"category_store4\">\\r\\n                              <li><a href=\"/store/books/category_list.html?cate_cd=004007\">\\xec\\xbb\\xb4\\xed\\x93\\xa8\\xed\\x84\\xb0\\xea\\xb3\\xb5\\xed\\x95\\x99</a></li>      \\r\\n                              <li><a href=\"/store/books/category_list.html?cate_cd=004008\">\\xec\\xa0\\x95\\xeb\\xb3\\xb4\\xed\\x86\\xb5\\xec\\x8b\\xa0/\\xec\\xa0\\x84\\xea\\xb8\\xb0/\\xec\\xa0\\x84\\xec\\x9e\\x90</a></li>      \\r\\n                              <li><a href=\"/store/books/category_list.html?cate_cd=004003\">\\xec\\x88\\x98\\xed\\x95\\x99/\\xea\\xb3\\xbc\\xed\\x95\\x99/\\xea\\xb3\\xb5\\xed\\x95\\x99</a></li>      \\r\\n                              <li><a href=\"/store/books/category_list.html?cate_cd=004004\">\\xed\\x94\\x84\\xeb\\xa1\\x9c\\xea\\xb7\\xb8\\xeb\\x9e\\x98\\xeb\\xb0\\x8d/\\xec\\x9b\\xb9</a></li>      \\r\\n                              <li><a href=\"/store/books/category_list.html?cate_cd=004005\">\\xea\\xb7\\xb8\\xeb\\x9e\\x98\\xed\\x94\\xbd/\\xeb\\x94\\x94\\xec\\x9e\\x90\\xec\\x9d\\xb8</a></li>      \\r\\n                              <li><a href=\"/store/books/category_list.html?cate_cd=004006\">OA/\\xed\\x99\\x9c\\xec\\x9a\\xa9</a></li>      \\r\\n                              <li><a href=\"/store/books/category_list.html?cate_cd=004009\">\\xec\\x88\\x98\\xed\\x97\\x98\\xec\\x84\\x9c/\\xec\\x9e\\x90\\xea\\xb2\\xa9\\xec\\xa6\\x9d</a></li>      \\r\\n              </ul></li>              <li onmouseover=\"view_hover(\\'category_store5\\',\\'\\',\\'show\\')\" onMouseOut=\"view_hover(\\'category_store5\\',\\'\\',\\'hide\\')\"><a href=\"/store/books/category_list.html?cate_cd=006\" onFocus=\"view_hover(\\'category_store5\\',\\'\\',\\'show\\')\">\\xec\\x8b\\xa4\\xec\\x9a\\xa9\\xec\\x84\\x9c</a>\\r\\n                <ul id=\"category_store5\">\\r\\n                              <li><a href=\"/store/books/category_list.html?cate_cd=006001\">\\xec\\xb7\\xa8\\xeb\\xaf\\xb8/\\xec\\x8b\\xa4\\xec\\x9a\\xa9</a></li>      \\r\\n                              <li><a href=\"/store/books/category_list.html?cate_cd=006002\">\\xec\\x97\\xac\\xed\\x96\\x89</a></li>      \\r\\n                              <li><a href=\"/store/books/category_list.html?cate_cd=006003\">\\xea\\xb1\\xb4\\xea\\xb0\\x95</a></li>      \\r\\n                              <li><a href=\"/store/books/category_list.html?cate_cd=006004\">\\xec\\x9c\\xa0\\xec\\x95\\x84/\\xec\\x9c\\xa1\\xec\\x95\\x84</a></li>      \\r\\n              </ul></li>              <li onmouseover=\"view_hover(\\'category_store6\\',\\'\\',\\'show\\')\" onMouseOut=\"view_hover(\\'category_store6\\',\\'\\',\\'hide\\')\"><a href=\"/store/books/category_list.html?cate_cd=007\" onFocus=\"view_hover(\\'category_store6\\',\\'\\',\\'show\\')\">\\xea\\xb2\\xbd\\xec\\xa0\\x9c/\\xea\\xb2\\xbd\\xec\\x98\\x81/\\xec\\x9d\\xb8\\xeb\\xac\\xb8</a>\\r\\n                <ul id=\"category_store6\">\\r\\n                              <li><a href=\"/store/books/category_list.html?cate_cd=007001\">\\xea\\xb2\\xbd\\xec\\xa0\\x9c/\\xea\\xb2\\xbd\\xec\\x98\\x81</a></li>      \\r\\n                              <li><a href=\"/store/books/category_list.html?cate_cd=007002\">\\xec\\x9e\\x90\\xea\\xb8\\xb0\\xea\\xb3\\x84\\xeb\\xb0\\x9c</a></li>      \\r\\n                              <li><a href=\"/store/books/category_list.html?cate_cd=007003\">\\xec\\x9d\\xb8\\xeb\\xac\\xb8/\\xea\\xb5\\x90\\xec\\x96\\x91</a></li>      \\r\\n                              <li><a href=\"/store/books/category_list.html?cate_cd=007004\">\\xeb\\xa7\\x88\\xec\\xbc\\x80\\xed\\x8c\\x85</a></li>      \\r\\n                              <li><a href=\"/store/books/category_list.html?cate_cd=007005\">\\xec\\x97\\x90\\xec\\x84\\xb8\\xec\\x9d\\xb4</a></li>      \\r\\n              </ul></li>              <li onmouseover=\"view_hover(\\'category_store7\\',\\'\\',\\'show\\')\" onMouseOut=\"view_hover(\\'category_store7\\',\\'\\',\\'hide\\')\"><a href=\"/store/books/category_list.html?cate_cd=008\" onFocus=\"view_hover(\\'category_store7\\',\\'\\',\\'show\\')\">\\xec\\x9c\\xa0\\xec\\x95\\x84/\\xec\\x96\\xb4\\xeb\\xa6\\xb0\\xec\\x9d\\xb4/\\xec\\xb4\\x88\\xeb\\x93\\xb1</a>\\r\\n                <ul id=\"category_store7\">\\r\\n                              <li><a href=\"/store/books/category_list.html?cate_cd=008001\">4~6\\xec\\x84\\xb8</a></li>      \\r\\n                              <li><a href=\"/store/books/category_list.html?cate_cd=008002\">5~7\\xec\\x84\\xb8</a></li>      \\r\\n                              <li><a href=\"/store/books/category_list.html?cate_cd=008003\">\\xec\\x98\\x88\\xeb\\xb9\\x84\\xec\\xb4\\x88\\xeb\\x93\\xb1</a></li>      \\r\\n                              <li><a href=\"/store/books/category_list.html?cate_cd=008004\">\\xec\\xb4\\x88\\xeb\\x93\\xb1\\xea\\xb5\\x90\\xea\\xb3\\xbc\\xec\\x97\\xb0\\xea\\xb3\\x84 1~12\\xec\\x98\\x81\\xec\\x97\\xad</a></li>      \\r\\n                              <li><a href=\"/store/books/category_list.html?cate_cd=008005\">\\xec\\xb4\\x88\\xeb\\x93\\xb1 \\xec\\xa0\\x84\\xed\\x95\\x99\\xeb\\x85\\x84</a></li>      \\r\\n              </ul></li>            \\r\\n          <!-- \\xed\\x95\\xad\\xec\\x83\\x81 \\xeb\\x85\\xb8\\xec\\xb6\\x9c \\xeb\\xa9\\x94\\xeb\\x89\\xb4 -->          \\r\\n          <li class=\"gnb_category_series\"><a href=\"https://www.hanbit.co.kr/store/books/series_list.html\">\\xec\\x8b\\x9c\\xeb\\xa6\\xac\\xec\\xa6\\x88</a></li>\\r\\n          <li class=\"gnb_category_reservations\"><a href=\"https://www.hanbit.co.kr/store/books/reservations_list.html\">\\xec\\x98\\x88\\xec\\x95\\xbd\\xeb\\x8f\\x84\\xec\\x84\\x9c</a></li>\\r\\n          <!--\\r\\n          <li class=\"gnb_category_full\"><a href=\"https://www.hanbit.co.kr/store/books/full_book_list.html\">\\xec\\xa0\\x84\\xec\\xb2\\xb4\\xeb\\x8f\\x84\\xec\\x84\\x9c\\xeb\\xaa\\xa9\\xeb\\xa1\\x9d</a></li>\\r\\n          -->\\r\\n          <!--/li-->\\r\\n        </ul>\\r\\n      </ul>\\r\\n      <!--/li-->        \\r\\n      <!--/ul-->\\r\\n\\r\\n      <ul class=\"lnb_depth1\">\\r\\n        <li><a href=\"https://www.hanbit.co.kr/store/books/new_book_list.html\">\\xec\\x83\\x88\\xeb\\xa1\\x9c\\xeb\\x82\\x98\\xec\\x98\\xa8 \\xec\\xb1\\x85</a></li><span>l</span>\\r\\n        <li><a href=\"https://www.hanbit.co.kr/store/books/bestseller_list.html\">\\xeb\\xb2\\xa0\\xec\\x8a\\xa4\\xed\\x8a\\xb8\\xec\\x85\\x80\\xeb\\x9f\\xac</a></li><span>l</span>\\r\\n        <li><a href=\"https://www.hanbit.co.kr/store/books/full_book_list.html\">\\xec\\xa0\\x84\\xec\\xb2\\xb4\\xeb\\x8f\\x84\\xec\\x84\\x9c\\xeb\\xaa\\xa9\\xeb\\xa1\\x9d</a></li><span>l</span>\\r\\n        <li><a href=\"https://www.hanbit.co.kr/store/education/edu_list.html\">\\xea\\xb5\\x90\\xec\\x9c\\xa1</a></li><span>l</span>\\r\\n        <li><a href=\"https://www.hanbit.co.kr/store/item/item_list.html\">Item &amp; Maker Shed</a></li>\\r\\n      </ul>\\r\\n      \\r\\n      <!-- SUPPORT -->\\r\\n          </div>\\r\\n    </div>\\r\\n    <!--// lnb -->\\r\\n  </div>\\r\\n</header>\\r\\n<!-- //header -->\\r\\n\\r\\n<!-- \\xeb\\xa9\\x94\\xec\\x9d\\xb8 \\xea\\xb2\\x80\\xec\\x83\\x89 \\xeb\\xb0\\x8f \\xec\\xb9\\xb4\\xed\\x85\\x8c\\xea\\xb3\\xa0\\xeb\\xa6\\xac \\xec\\x98\\x81\\xec\\x97\\xad -->\\r\\n<div id=\"main_search_area\" class=\"fixed\" style=\"display:none;\">\\n  <div class=\"msa_wrap\">\\n\\n    <!-- \\xea\\xb2\\x80\\xec\\x83\\x89 -->\\n    <div class=\"msa_srch_wrap\">\\n      <form onsubmit=\"return false;\">\\n      <fieldset class=\"msa_srch_field\">\\n        <legend>\\xed\\x95\\x9c\\xeb\\xb9\\x9b\\xec\\xb6\\x9c\\xed\\x8c\\x90\\xeb\\x84\\xa4\\xed\\x8a\\xb8\\xec\\x9b\\x8c\\xed\\x81\\xac \\xea\\xb2\\x80\\xec\\x83\\x89</legend>\\n        <input title=\"\\xea\\xb2\\x80\\xec\\x83\\x89\\xec\\x96\\xb4\" autocomplete=\"off\" class=\"srch_keyword\" accesskey=\"s\" type=\"text\" name=\"keyword_str\" id=\"keyword_str\" v-model=\"keyword\" @input=\"typeKeyword\">\\n        <input type=\"submit\" class=\"srch_btn\" style=\"cursor:pointer;\" @click=\"clickSearch\">\\n      </fieldset>\\n      </form>\\n    </div>\\n    <!-- //\\xea\\xb2\\x80\\xec\\x83\\x89 -->\\n\\n    <!-- \\xe2\\x91\\xa0 \\xec\\x9d\\xb8\\xea\\xb8\\xb0\\xea\\xb2\\x80\\xec\\x83\\x89\\xec\\x96\\xb4 -->\\n    <div class=\"msa_srch_polular\" v-if=\"showPopularKeyword === true\">\\n      <h2 class=\"tit\">\\xec\\x9d\\xb8\\xea\\xb8\\xb0 \\xea\\xb2\\x80\\xec\\x83\\x89\\xec\\x96\\xb4 <span>(\\xec\\xb5\\x9c\\xea\\xb7\\xbc 1\\xea\\xb0\\x9c\\xec\\x9b\\x94\\xea\\xb0\\x84)</span></h2>\\n        <div class=\"popula_box\">\\n          <ul class=\"left\">\\n            <li v-for=\"keyword in leftPopularKeywordList\">\\n              <a :class=\"keyword.bold\" @click=\"clickPopularKeyword(keyword)\">\\n                  {{ keyword.number }} {{ keyword.bookName }}\\n              </a>\\n            </li>\\n          </ul>\\n          <ul class=\"right\">\\n            <li v-for=\"keyword in rightPopularKeywordList\">\\n              <a :class=\"keyword.bold\" @click=\"clickPopularKeyword(keyword)\">\\n                  {{ keyword.number }} {{ keyword.bookName }}\\n              </a>\\n            </li>\\n          </ul>\\n        </div>\\n    </div>\\n    <!-- \\xe2\\x91\\xa0 \\xec\\x9d\\xb8\\xea\\xb8\\xb0\\xea\\xb2\\x80\\xec\\x83\\x89\\xec\\x96\\xb4 -->\\n\\n    <!-- \\xe2\\x91\\xa1 \\xea\\xb2\\x80\\xec\\x83\\x89\\xea\\xb2\\xb0\\xea\\xb3\\xbc/\\xea\\xb2\\x80\\xec\\x83\\x89\\xec\\x84\\x9c\\xec\\xa0\\x9c\\xec\\x8a\\xa4\\xec\\xb3\\x94 -->\\n    <div class=\"msa_srch_suggestion\" v-if=\"showPopularKeyword === false\">\\n      <div class=\"sugg_left\" v-if=\"bookList.length !== 0\">\\n        <h3 class=\"tit\">BOOK</h3>\\n        <ul class=\"books_list\">\\n          <li v-for=\"book in bookList\" @mouseover=\"mouseOverBook(book.id)\"><a @click=\"clickBookKeyword(book)\"><p v-html=\"book.name\"></p></a></li>\\n        </ul>\\n      </div>\\n\\n      <div class=\"sugg_right\">\\n        <div class=\"sugg_book\" v-if=\"bookList.length !== 0\">\\n          <table class=\"sugg_book_detail\">\\n            <tr>\\n              <td class=\"cover\">\\n                <a @click=\"clickBookKeyword(bookSummary)\">\\n                  <img :src=\"bookSummary.imgUrl\" class=\"b_cover\">\\n                </a>\\n              </td>\\n              <td class=\"draft\">\\n                <a @click=\"clickBookKeyword(bookSummary)\" class=\"b_title\"><strong v-html=\"bookSummary.originName\"></strong></a>\\n                <p class=\"b_int\">\\n                {{ bookSummary.author }} \\xec\\xa7\\x80\\xec\\x9d\\x8c<br />\\n                {{ bookSummary.publishingCompany }} | {{ bookSummary.date }}\\n                </p>\\n                <p class=\"b_type\">\\n                <span>{{ bookSummary.bookType }}</span>\\n                </p>\\n              </td>\\n            </tr>\\n          </table>\\n        </div>\\n\\n        <div class=\"sugg_edu\" v-if=\"educationList.length !== 0\">\\n          <h3 class=\"tit\">EDUCATION</h3>\\n          <ul class=\"edu_list\">\\n            <li v-for=\"education in educationList\">&#149; <a @click=\"clickEducationKeyword(education)\"><span v-html=\"education.title\"></span></a></li>\\n          </ul>\\n        </div>\\n\\n        <div class=\"sugg_cont\" v-if=\"contentList.length !== 0\">\\n          <h3 class=\"tit\">CONTENTS</h3>\\n          <ul class=\"cont_list\">\\n            <li v-for=\"content in contentList\">&#149; <a @click=\"clickContentKeyword(content)\"><span v-html=\"content.title\"></span></a></li>\\n          </ul>\\n        </div>\\n      </div>\\n    </div>\\n    <!-- //\\xe2\\x91\\xa1 \\xea\\xb2\\x80\\xec\\x83\\x89\\xea\\xb2\\xb0\\xea\\xb3\\xbc/\\xea\\xb2\\x80\\xec\\x83\\x89\\xec\\x84\\x9c\\xec\\xa0\\x9c\\xec\\x8a\\xa4\\xec\\xb3\\x94 -->\\n\\n  <!-- \\xeb\\x8b\\xab\\xea\\xb8\\xb0 -->\\n  <div class=\"msa_wrap_close\">\\n    <a href=\"javascript:;\" onclick=\"view_hover(\\'main_search_area\\',\\'\\',\\'hide\\')\">\\xeb\\x8b\\xab\\xea\\xb8\\xb0</a>\\n  </div>\\n  <!-- //\\xeb\\x8b\\xab\\xea\\xb8\\xb0 -->\\n\\n  </div>\\n</div>\\n\\n<!-- old // \\xea\\xb5\\xac\\xed\\x98\\x84\\xec\\x8b\\x9c \\xed\\x95\\x84\\xec\\x9a\\x94\\xec\\x97\\x86\\xec\\x9c\\xbc\\xeb\\xa9\\xb4 \\xec\\x82\\xad\\xec\\xa0\\x9c\\xed\\x95\\xb4\\xeb\\x8f\\x84 \\xeb\\x90\\xa9\\xeb\\x8b\\x88\\xeb\\x8b\\xa4.\\n<script type=\"text/javascript\">\\n  function sch_smit(){\\n    if(!$.trim($(\"#keyword_str\").val()).length) {\\n      alert(\"\\xea\\xb2\\x80\\xec\\x83\\x89\\xec\\x96\\xb4\\xeb\\xa5\\xbc \\xec\\x9e\\x85\\xeb\\xa0\\xa5\\xed\\x95\\xb4\\xec\\xa3\\xbc\\xec\\x84\\xb8\\xec\\x9a\\x94\");\\n      $(\"#keyword_str\").focus();\\n      return false;\\n    }else{\\n      $(\"#gnbsearchfrm\").attr(\"action\",\"/search/search_list.html\");\\n      $(\"#gnbsearchfrm\").submit(); \\n    }\\n  }\\n</script>\\n-->\\n\\n<script type=\"text/javascript\">\\n    \"use strict\";\\n\\n    var common_top_search_vue = new Vue({\\n        el: \\'#main_search_area\\',\\n        data: {\\n            //\\xea\\xb2\\x80\\xec\\x83\\x89\\xec\\x97\\x94\\xec\\xa7\\x84 URL\\n            searchProxyURL: \"https://search.hanbit.co.kr\",\\n            //\\xec\\x9d\\xb8\\xea\\xb8\\xb0 \\xea\\xb2\\x80\\xec\\x83\\x89\\xec\\x96\\xb4 show \\xec\\x97\\xac\\xeb\\xb6\\x80\\n            showPopularKeyword: true,\\n            //\\xec\\x82\\xac\\xec\\x9a\\xa9\\xec\\x9e\\x90 \\xea\\xb2\\x80\\xec\\x83\\x89 \\xed\\x82\\xa4\\xec\\x9b\\x8c\\xeb\\x93\\x9c\\n            keyword: \\'\\',\\n            //\\xec\\x9d\\xb8\\xea\\xb8\\xb0 \\xea\\xb2\\x80\\xec\\x83\\x89\\xec\\x96\\xb4 \\xeb\\xa6\\xac\\xec\\x8a\\xa4\\xed\\x8a\\xb8\\n            popularKeywordList: [],\\n            // \\xec\\x9d\\xb8\\xea\\xb8\\xb0 \\xea\\xb2\\x80\\xec\\x83\\x89\\xec\\x96\\xb4 \\xeb\\xa6\\xac\\xec\\x8a\\xa4\\xed\\x8a\\xb8 (\\xec\\x99\\xbc\\xec\\xaa\\xbd)\\n            leftPopularKeywordList: [],\\n            // \\xec\\x9d\\xb8\\xea\\xb8\\xb0 \\xea\\xb2\\x80\\xec\\x83\\x89\\xec\\x96\\xb4 \\xeb\\xa6\\xac\\xec\\x8a\\xa4\\xed\\x8a\\xb8 (\\xec\\x98\\xa4\\xeb\\xa5\\xb8\\xec\\xaa\\xbd)\\n            rightPopularKeywordList: [],\\n            // \\xec\\x9e\\x90\\xeb\\x8f\\x99\\xec\\x99\\x84\\xec\\x84\\xb1\\xec\\x97\\x90\\xec\\x84\\x9c\\xec\\x9d\\x98 \\xec\\xb1\\x85 \\xeb\\xa6\\xac\\xec\\x8a\\xa4\\xed\\x8a\\xb8\\n            bookList: [],\\n            // \\xec\\x9e\\x90\\xeb\\x8f\\x99\\xec\\x99\\x84\\xec\\x84\\xb1\\xec\\x97\\x90\\xec\\x84\\x9c\\xec\\x9d\\x98 \\xec\\xb1\\x85 \\xec\\xa0\\x95\\xeb\\xb3\\xb4\\n            bookSummary: {\\n                \\'imgUrl\\': \\'\\',\\n                \\'link\\': \\'\\',\\n                \\'name\\': \\'\\',\\n                \\'author\\': \\'\\',\\n                \\'publishingCompany\\': \\'\\',\\n                \\'date\\': \\'\\',\\n                \\'bookType\\': \\'\\'\\n            },\\n            //\\xec\\x97\\x90\\xeb\\x93\\x80\\xec\\xbc\\x80\\xec\\x9d\\xb4\\xec\\x85\\x98 \\xeb\\xa6\\xac\\xec\\x8a\\xa4\\xed\\x8a\\xb8\\n            educationList: [],\\n            //\\xec\\xbb\\xa8\\xed\\x85\\x90\\xec\\xb8\\xa0 \\xeb\\xa6\\xac\\xec\\x8a\\xa4\\xed\\x8a\\xb8\\n            contentList: []\\n        },\\n        created: function created() {\\n            // \\xec\\x9d\\xb8\\xea\\xb8\\xb0 \\xea\\xb2\\x80\\xec\\x83\\x89\\xec\\x96\\xb4 \\xec\\xa1\\xb0\\xed\\x9a\\x8c\\n            this.getPopularKeyword();\\n        },\\n        methods: {\\n            /**\\n             * \\xec\\x82\\xac\\xec\\x9a\\xa9\\xec\\x9e\\x90\\xea\\xb0\\x80 \\xea\\xb2\\x80\\xec\\x83\\x89 \\xed\\x82\\xa4\\xec\\x9b\\x8c\\xeb\\x93\\x9c\\xeb\\xa5\\xbc \\xec\\x9e\\x85\\xeb\\xa0\\xa5\\xed\\x95\\xa0\\xeb\\x95\\x8c \\xeb\\xb0\\x9c\\xec\\x83\\x9d\\xed\\x95\\x98\\xeb\\x8a\\x94 \\xec\\x9d\\xb4\\xeb\\xb2\\xa4\\xed\\x8a\\xb8\\n             */\\n            typeKeyword: function typeKeyword() {\\n                var self = this;\\n                var keyword = $(\"#keyword_str\").val();\\n\\n                if (keyword.length !== 0) {\\n                    //\\xec\\x9e\\x90\\xeb\\x8f\\x99\\xec\\x99\\x84\\xec\\x84\\xb1\\xec\\x96\\xb4\\n                    this.findAutocompleteResult(keyword);\\n                } else {\\n                    //\\xec\\x9d\\xb8\\xea\\xb8\\xb0\\xea\\xb2\\x80\\xec\\x83\\x89\\xec\\x96\\xb4\\n                    self.showPopularKeyword = true;\\n                }\\n            },\\n\\n            /**\\n             * \\xec\\x9d\\xb8\\xea\\xb8\\xb0\\xea\\xb2\\x80\\xec\\x83\\x89\\xec\\x96\\xb4 \\xec\\xa1\\xb0\\xed\\x9a\\x8c\\n             */\\n            getPopularKeyword: function getPopularKeyword() {\\n                var self = this;\\n                this.popularKeywordList = [];\\n                $.get(this.searchProxyURL + \"/querylog/popularKeyword\").done(function (data) {\\n                    if (data != null) {\\n                        self.drawPopularKeyword(data);\\n                    }\\n                });\\n            },\\n\\n            /**\\n             * \\xec\\x9d\\xb8\\xea\\xb8\\xb0 \\xea\\xb2\\x80\\xec\\x83\\x89\\xec\\x96\\xb4 \\xea\\xb7\\xb8\\xeb\\xa6\\xac\\xea\\xb8\\xb0\\n             */\\n            drawPopularKeyword: function drawPopularKeyword(popularBooks) {\\n                var self = this;\\n                popularBooks.forEach(function (item) {\\n                    var popularBook = {\\n                        bookName: item.keyword\\n                    };\\n                    self.popularKeywordList.push(popularBook);\\n                });\\n                var number = 0;\\n\\n                for (var _iterator = this.popularKeywordList, _isArray = Array.isArray(_iterator), _i = 0, _iterator = _isArray ? _iterator : _iterator[Symbol.iterator]();;) {\\n                    var _ref;\\n\\n                    if (_isArray) {\\n                        if (_i >= _iterator.length) break;\\n                        _ref = _iterator[_i++];\\n                    } else {\\n                        _i = _iterator.next();\\n                        if (_i.done) break;\\n                        _ref = _i.value;\\n                    }\\n\\n                    var keyword = _ref;\\n                    number = number + 1;\\n                    keyword.number = number.toString().length < 2 ? \"0\" + number : number;\\n\\n                    if (number > 5) {\\n                        keyword.direction = \"right\";\\n                        self.rightPopularKeywordList.push(keyword);\\n                    } else {\\n                        keyword.direction = \"left\";\\n\\n                        if (number < 4) {\\n                            keyword.bold = \\'active\\';\\n                        }\\n\\n                        self.leftPopularKeywordList.push(keyword);\\n                    }\\n                }\\n            },\\n\\n            /**\\n             * \\xec\\x9e\\x90\\xeb\\x8f\\x99\\xec\\x99\\x84\\xec\\x84\\xb1 \\xea\\xb2\\x80\\xec\\x83\\x89 \\xea\\xb2\\xb0\\xea\\xb3\\xbc\\n             */\\n            findAutocompleteResult: function findAutocompleteResult(keyword) {\\n                var self = this;\\n                var param = {\\n                    q: keyword,\\n                    types: \"education,book,contents\",\\n                    fq: keyword\\n                };\\n                $.post(this.searchProxyURL + \"/autocomplete/search\", param).done(function (data) {\\n                    if (data != null) {\\n                        var bookResult = data.booksResults;\\n                        self.changeBookList(keyword, bookResult);\\n                        var contentResult = data.contentsResults;\\n                        self.changeContentList(keyword, contentResult);\\n                        var educationResult = data.educationResults;\\n                        self.changeEducationList(keyword, educationResult);\\n                    }\\n                });\\n                this.showPopularKeyword = false;\\n            },\\n\\n            /**\\n             * \\xec\\x9e\\x90\\xeb\\x8f\\x99\\xec\\x99\\x84\\xec\\x84\\xb1\\xec\\x96\\xb4\\xec\\x97\\x90\\xec\\x84\\x9c BOOK \\xeb\\xb6\\x80\\xeb\\xb6\\x84\\xec\\x97\\x90\\xec\\x84\\x9c \\xeb\\xa7\\x88\\xec\\x9a\\xb0\\xec\\x8a\\xa4\\xeb\\xa5\\xbc \\xec\\x98\\xac\\xeb\\xa0\\xb8\\xec\\x9d\\x84 \\xec\\x8b\\x9c\\xec\\x97\\x90 \\xeb\\xb0\\x9c\\xec\\x83\\x9d\\xed\\x95\\x98\\xeb\\x8a\\x94 \\xec\\x9d\\xb4\\xeb\\xb2\\xa4\\xed\\x8a\\xb8\\n             * @param bookId\\n             */\\n            mouseOverBook: function mouseOverBook(bookId) {\\n                var currentBook = this.bookList.filter(function (book) {\\n                    return book.id === bookId;\\n                });\\n                this.changeBookSummary(currentBook[0]);\\n            },\\n\\n            /**\\n             * \\xec\\xb1\\x85 \\xec\\x86\\x8c\\xea\\xb0\\x9c \\xeb\\xb3\\x80\\xea\\xb2\\xbd\\n             * @param book\\n             */\\n            changeBookSummary: function changeBookSummary(book) {\\n                if (book !== {}) {\\n                    this.bookSummary.name = book.name;\\n                    this.bookSummary.originName = book.originName;\\n                    this.bookSummary.author = book.author;\\n                    this.bookSummary.bookType = book.bookType;\\n                    this.bookSummary.imgUrl = book.imgUrl;\\n                    this.bookSummary.link = book.link;\\n                    this.bookSummary.publishingCompany = book.publishingCompany;\\n                    this.bookSummary.date = book.date;\\n                    this.bookSummary.bookType = book.bookType;\\n                }\\n            },\\n\\n            /**\\n             * BOOK \\xeb\\xa6\\xac\\xec\\x8a\\xa4\\xed\\x8a\\xb8 \\xeb\\xb3\\x80\\xea\\xb2\\xbd\\n             */\\n            changeBookList: function changeBookList(keyword, bookResultList) {\\n                var self = this;\\n                self.bookList = [];\\n                var index = 0;\\n\\n                if (bookResultList != null) {\\n                    for (var _iterator2 = bookResultList, _isArray2 = Array.isArray(_iterator2), _i2 = 0, _iterator2 = _isArray2 ? _iterator2 : _iterator2[Symbol.iterator]();;) {\\n                        var _ref2;\\n\\n                        if (_isArray2) {\\n                            if (_i2 >= _iterator2.length) break;\\n                            _ref2 = _iterator2[_i2++];\\n                        } else {\\n                            _i2 = _iterator2.next();\\n                            if (_i2.done) break;\\n                            _ref2 = _i2.value;\\n                        }\\n\\n                        var result = _ref2;\\n\\n                        if (index < 10) {\\n                            var book = {};\\n                            book.id = result.code;\\n                            book.originName = result.title;\\n                            book.name = JSON.parse(JSON.stringify(self.replaceHighlightWord(result.title, keyword)));\\n                            book.link = result.code;\\n                            book.imgUrl = self.getBookImageURL(result.code);\\n                            book.author = result.author;\\n                            book.publishingCompany = result.brand;\\n                            book.date = result.pubDate;\\n                            book.bookType = result.bookType;\\n                            self.bookList.push(book); //\\xec\\xb1\\x85 \\xeb\\xaf\\xb8\\xeb\\xa6\\xac\\xeb\\xb3\\xb4\\xea\\xb8\\xb0 \\xeb\\xb3\\x80\\xea\\xb2\\xbd\\n\\n                            self.changeBookSummary(self.bookList[0]);\\n                        }\\n                    }\\n                } else {\\n                    self.initBookSummary();\\n                }\\n            },\\n\\n            /**\\n             * \\xec\\xb1\\x85 \\xec\\x9d\\xb4\\xeb\\xaf\\xb8\\xec\\xa7\\x80 \\xec\\xa3\\xbc\\xec\\x86\\x8c \\xea\\xb0\\x80\\xec\\xa0\\xb8\\xec\\x98\\xa4\\xea\\xb8\\xb0\\n             */\\n            getBookImageURL: function getBookImageURL(bookCode) {\\n                var imgURL;\\n\\n                if (bookCode.substr(0, 1) === \"E\") {\\n                    imgURL = \\'/data/ebook/\\' + bookCode + \\'_m.jpg\\';\\n                } else {\\n                    imgURL = \\'/data/books/\\' + bookCode + \"_m.jpg\";\\n                }\\n\\n                return imgURL;\\n            },\\n\\n            /**\\n             * \\xea\\xb2\\x80\\xec\\x83\\x89 \\xea\\xb2\\xb0\\xea\\xb3\\xbc\\xea\\xb0\\x80 \\xec\\x97\\x86\\xec\\x9d\\x84 \\xea\\xb2\\xbd\\xec\\x9a\\xb0 \\xec\\xb1\\x85 \\xeb\\xaf\\xb8\\xeb\\xa6\\xac\\xeb\\xb3\\xb4\\xea\\xb8\\xb0 \\xec\\xb4\\x88\\xea\\xb8\\xb0\\xed\\x99\\x94\\n             */\\n            initBookSummary: function initBookSummary() {\\n                this.bookSummary = {\\n                    \\'imgUrl\\': \\'\\',\\n                    \\'link\\': \\'\\',\\n                    \\'name\\': \\'\\',\\n                    \\'author\\': \\'\\',\\n                    \\'publishingCompany\\': \\'\\',\\n                    \\'date\\': \\'\\',\\n                    \\'bookType\\': \\'\\'\\n                };\\n            },\\n\\n            /**\\n             * education \\xeb\\xa6\\xac\\xec\\x8a\\xa4\\xed\\x8a\\xb8 \\xeb\\xb3\\x80\\xea\\xb2\\xbd\\n             */\\n            changeEducationList: function changeEducationList(keyword, educationResultList) {\\n                var self = this;\\n                self.educationList = [];\\n                var index = 0;\\n\\n                if (educationResultList != null) {\\n                    for (var _iterator3 = educationResultList, _isArray3 = Array.isArray(_iterator3), _i3 = 0, _iterator3 = _isArray3 ? _iterator3 : _iterator3[Symbol.iterator]();;) {\\n                        var _ref3;\\n\\n                        if (_isArray3) {\\n                            if (_i3 >= _iterator3.length) break;\\n                            _ref3 = _iterator3[_i3++];\\n                        } else {\\n                            _i3 = _iterator3.next();\\n                            if (_i3.done) break;\\n                            _ref3 = _i3.value;\\n                        }\\n\\n                        var result = _ref3;\\n\\n                        if (index < 3) {\\n                            var content = {};\\n                            content.title = JSON.parse(JSON.stringify(self.replaceHighlightWord(result.title, keyword)));\\n                            content.link = result.code;\\n                            self.educationList.push(content);\\n                            index = index + 1;\\n                        }\\n                    }\\n                }\\n            },\\n\\n            /**\\n             * contents \\xeb\\xa6\\xac\\xec\\x8a\\xa4\\xed\\x8a\\xb8 \\xeb\\xb3\\x80\\xea\\xb2\\xbd\\n             */\\n            changeContentList: function changeContentList(keyword, contentResult) {\\n                var self = this;\\n                self.contentList = [];\\n                var index = 0;\\n\\n                if (contentResult != null) {\\n                    for (var _iterator4 = contentResult, _isArray4 = Array.isArray(_iterator4), _i4 = 0, _iterator4 = _isArray4 ? _iterator4 : _iterator4[Symbol.iterator]();;) {\\n                        var _ref4;\\n\\n                        if (_isArray4) {\\n                            if (_i4 >= _iterator4.length) break;\\n                            _ref4 = _iterator4[_i4++];\\n                        } else {\\n                            _i4 = _iterator4.next();\\n                            if (_i4.done) break;\\n                            _ref4 = _i4.value;\\n                        }\\n\\n                        var result = _ref4;\\n\\n                        if (index < 3) {\\n                            var content = {};\\n                            content.title = JSON.parse(JSON.stringify(self.replaceHighlightWord(result.title, keyword)));\\n                            content.link = result.code;\\n                            self.contentList.push(content);\\n                            index = index + 1;\\n                        }\\n                    }\\n                }\\n            },\\n\\n            /**\\n             * \\xed\\x95\\x98\\xec\\x9d\\xb4\\xeb\\x9d\\xbc\\xec\\x9d\\xb4\\xed\\x8a\\xb8 \\xed\\x91\\x9c\\xec\\x8b\\x9c\\n             */\\n            replaceHighlightWord: function replaceHighlightWord(str, highlightKeyword) {\\n                var replaceHighlightKeyword = highlightKeyword.replace(/[^a-z0-9\\xea\\xb0\\x80-\\xed\\x9e\\xa3_ ]/gi, \\'\\');\\n                var regEx = new RegExp(replaceHighlightKeyword, \"gi\");\\n                str = str.replace(regEx, function (a) {\\n                    return \\'<span class=\"keysel\">\\' + a + \\'</span>\\';\\n                });\\n                return str;\\n            },\\n\\n            /**\\n             * \\xea\\xb2\\x80\\xec\\x83\\x89 \\xeb\\xb2\\x84\\xed\\x8a\\xbc \\xed\\x81\\xb4\\xeb\\xa6\\xad \\xec\\x8b\\x9c\\n             * @param e\\n             */\\n            clickSearch: function clickSearch(e) {\\n                if (!this.keyword || this.keyword.length === 0) {\\n                    alert(\"\\xea\\xb2\\x80\\xec\\x83\\x89\\xec\\x96\\xb4\\xeb\\xa5\\xbc \\xec\\x9e\\x85\\xeb\\xa0\\xa5\\xed\\x95\\x98\\xec\\x84\\xb8\\xec\\x9a\\x94\");\\n                    $(\"#keyword_str\").focus();\\n                    e.preventDefault();\\n                } else {\\n                    location.href = \"/search/search_list.html?keyword=\" + this.keyword;\\n                }\\n            },\\n\\n            /**\\n             * \\xec\\x9d\\xb8\\xea\\xb8\\xb0 \\xea\\xb2\\x80\\xec\\x83\\x89\\xec\\x96\\xb4 \\xed\\x81\\xb4\\xeb\\xa6\\xad\\xec\\x8b\\x9c\\n             * @param book\\n             */\\n            clickPopularKeyword: function clickPopularKeyword(book) {\\n                var searchKeyword = book.bookName;\\n                location.href = \"/search/search_list.html?keyword=\" + searchKeyword;\\n            },\\n\\n            /**\\n             * \\xec\\xb1\\x85 \\xea\\xb2\\x80\\xec\\x83\\x89\\xec\\x96\\xb4 \\xed\\x81\\xb4\\xeb\\xa6\\xad\\xec\\x8b\\x9c \\xec\\xb1\\x85 \\xec\\x83\\x81\\xec\\x84\\xb8\\xeb\\xa1\\x9c \\xec\\x9d\\xb4\\xeb\\x8f\\x99\\n             * @param book\\n             */\\n            clickBookKeyword: function clickBookKeyword(book) {\\n                location.href = \"/store/books/look.php?p_code=\" + book.link;\\n            },\\n\\n            /**\\n             * \\xea\\xb5\\x90\\xec\\x9c\\xa1 \\xed\\x81\\xb4\\xeb\\xa6\\xad\\xec\\x8b\\x9c \\xea\\xb5\\x90\\xec\\x9c\\xa1 \\xec\\x83\\x81\\xec\\x84\\xb8\\xeb\\xa1\\x9c \\xec\\x9d\\xb4\\xeb\\x8f\\x99\\n             * @param education\\n             */\\n            clickEducationKeyword: function clickEducationKeyword(education) {\\n                location.href = \"/store/education/edu_view.html?p_code=\" + education.link;\\n            },\\n\\n            /**\\n             * \\xec\\xbb\\xa8\\xed\\x85\\x90\\xec\\xb8\\xa0 \\xed\\x81\\xb4\\xeb\\xa6\\xad\\xec\\x8b\\x9c \\xec\\xbb\\xa8\\xed\\x85\\x90\\xec\\xb8\\xa0 \\xec\\x83\\x81\\xec\\x84\\xb8\\xeb\\xa1\\x9c \\xec\\x9d\\xb4\\xeb\\x8f\\x99\\n             * @param contents\\n             */\\n            clickContentKeyword: function clickContentKeyword(content) {\\n                location.href = \"/channel/category/category_view.html?cms_code=\" + content.link;\\n            }\\n        }\\n    });\\n</script>\\n<!-- //\\xeb\\xa9\\x94\\xec\\x9d\\xb8 \\xea\\xb2\\x80\\xec\\x83\\x89 \\xeb\\xb0\\x8f \\xec\\xb9\\xb4\\xed\\x85\\x8c\\xea\\xb3\\xa0\\xeb\\xa6\\xac \\xec\\x98\\x81\\xec\\x97\\xad -->\\r\\n\\r\\n<!-- Contents -->\\r\\n<div id=\"container\">\\r\\n\\t<div class=\"docu_title\">\\r\\n\\t\\t<h2>\\xec\\xa0\\x84\\xec\\xb2\\xb4\\xeb\\x8f\\x84\\xec\\x84\\x9c\\xeb\\xaa\\xa9\\xeb\\xa1\\x9d</h2>\\r\\n\\t</div>\\r\\n\\t\\r\\n\\t<!-- \\xec\\xa0\\x84\\xec\\xb2\\xb4\\xeb\\x8f\\x84\\xec\\x84\\x9c\\xeb\\xaa\\xa9\\xeb\\xa1\\x9d wrap -->\\r\\n\\t<div class=\"full_book_list_wrap\">\\r\\n\\t\\t<!-- \\xeb\\xb8\\x8c\\xeb\\x9e\\x9c\\xeb\\x93\\x9c \\xec\\xa0\\x95\\xeb\\xa0\\xac \\xeb\\xb2\\x84\\xed\\x8a\\xbc -->\\r\\n\\t\\t\\r\\n        <div class=\"btn_brand_area\">       \\r\\n\\t\\t\\t<ul>\\r\\n\\t\\t\\t\\t<li class=\"curr\">\\r\\n                \\t<a href=\"/store/books/full_book_list.html\">\\r\\n                    \\t                    <span class=\"name_full\">\\xec\\xa0\\x84\\xec\\xb2\\xb4</span>\\r\\n                                        </a>\\r\\n                    \\r\\n                </li>\\r\\n\\t\\t\\t\\t<li >\\r\\n\\t\\t\\t\\t\\t<a href=\"/store/books/full_book_list.html?brand=HM\">\\r\\n                                        \\t<span class=\"name_abbr\">M</span>\\r\\n                    \\t\\t\\t\\t\\t</a>\\r\\n\\t\\t\\t\\t</li>\\r\\n\\r\\n\\t\\t\\t\\t<li >\\r\\n                \\t<a href=\"/store/books/full_book_list.html?brand=HA\">\\r\\n                                        \\t<span class=\"name_abbr\">A</span>\\r\\n                    \\t\\t\\t\\t\\t</a>\\r\\n                </li>\\r\\n\\t\\t\\t\\t<li >\\r\\n                \\t<a href=\"/store/books/full_book_list.html?brand=HB\">\\r\\n                                        \\t<span class=\"name_abbr\">B</span>\\r\\n                    \\t\\t\\t\\t\\t</a>\\r\\n                </li>\\r\\n\\t\\t\\t\\t<li >\\r\\n                \\t<a href=\"/store/books/full_book_list.html?brand=HL\">\\r\\n                                        \\t<span class=\"name_abbr\">L</span>\\r\\n                    \\t\\t\\t\\t\\t</a>\\r\\n                </li>\\r\\n\\t\\t\\t\\t<li >\\r\\n                \\t<a href=\"/store/books/full_book_list.html?brand=HE\">\\r\\n                                        \\t<span class=\"name_abbr\">E</span>\\r\\n                    \\t\\t\\t\\t\\t</a>\\r\\n                </li>\\r\\n\\t\\t\\t\\t<li >\\r\\n                \\t<a href=\"/store/books/full_book_list.html?brand=HR\">\\r\\n                                        \\t<span class=\"name_abbr\">R</span>\\r\\n                    \\t\\t\\t\\t\\t</a>\\r\\n                </li>\\r\\n\\t\\t\\t\\t<li >\\r\\n                \\t<a href=\"/store/books/full_book_list.html?brand=MK\">\\r\\n                                        \\t<span class=\"name_abbr\">MK</span>\\r\\n                    \\t\\t\\t\\t\\t</a>\\r\\n                </li>\\r\\n\\t\\t\\t\\t\\r\\n\\t\\t\\t</ul>\\r\\n\\t\\t</div>\\r\\n\\r\\n\\r\\n\\r\\n\\t\\t<!-- //\\xeb\\xb8\\x8c\\xeb\\x9e\\x9c\\xeb\\x93\\x9c \\xec\\xa0\\x95\\xeb\\xa0\\xac \\xeb\\xb2\\x84\\xed\\x8a\\xbc -->\\r\\n\\t\\t\\r\\n\\t\\t<!-- \\xec\\xb6\\x9c\\xea\\xb0\\x84\\xec\\x9d\\xbc/\\xeb\\x8f\\x84\\xec\\x84\\x9c\\xeb\\xaa\\x85 \\xec\\x88\\x9c-->\\r\\n\\t\\t<div class=\"series_lineup\">\\r\\n\\t\\t\\t<ul>\\r\\n\\t\\t\\t\\t<li><a href=\"/store/books/full_book_list.html?srt=p_pub_date&brand=\"  class=\"curr\" >\\xec\\xb6\\x9c\\xea\\xb0\\x84\\xec\\x9d\\xbc \\xec\\x88\\x9c</a></li>\\r\\n\\t\\t\\t\\t<li><a href=\"/store/books/full_book_list.html?srt=p_title&brand=\" >\\xeb\\x8f\\x84\\xec\\x84\\x9c\\xeb\\xaa\\x85 \\xec\\x88\\x9c</a></li>\\r\\n\\t\\t\\t</ul>\\r\\n\\t\\t</div>\\r\\n\\t\\t<!-- //\\xec\\xb6\\x9c\\xea\\xb0\\x84\\xec\\x9d\\xbc/\\xeb\\x8f\\x84\\xec\\x84\\x9c\\xeb\\xaa\\x85 \\xec\\x88\\x9c-->\\r\\n\\t\\t\\r\\n\\t\\t<!-- \\xec\\xa0\\x84\\xec\\xb2\\xb4 \\xeb\\xaa\\xa9\\xeb\\xa1\\x9d \\xeb\\x8b\\xa4\\xec\\x9a\\xb4\\xeb\\xa1\\x9c\\xeb\\x93\\x9c \\xeb\\xb2\\x84\\xed\\x8a\\xbc-->\\r\\n\\t\\t<div class=\"btn_full_list\"><a href=\"javascript:document.frm.submit();\">\\xec\\xa0\\x84\\xec\\xb2\\xb4 \\xeb\\xaa\\xa9\\xeb\\xa1\\x9d \\xeb\\x8b\\xa4\\xec\\x9a\\xb4\\xeb\\xa1\\x9c\\xeb\\x93\\x9c</a></div>\\r\\n\\t\\t\\r\\n\\t\\t<!-- \\xec\\xb1\\x85 \\xeb\\xa6\\xac\\xec\\x8a\\xa4\\xed\\x8a\\xb8 -->\\r\\n\\t\\t<div class=\"table_area\">\\r\\n\\t\\t\\t<table class=\"tbl_type_list\" border=\"0\" cellspacing=\"0\" summary=\"\\xec\\xa0\\x84\\xec\\xb2\\xb4\\xeb\\xaa\\xa9\\xeb\\xa1\\x9d \\xeb\\xa6\\xac\\xec\\x8a\\xa4\\xed\\x8a\\xb8 \\xed\\x85\\x8c\\xec\\x9d\\xb4\\xeb\\xb8\\x94\">\\r\\n\\t\\t\\t\\t<caption>\\xec\\xa0\\x84\\xec\\xb2\\xb4\\xeb\\xaa\\xa9\\xeb\\xa1\\x9d \\xeb\\xa6\\xac\\xec\\x8a\\xa4\\xed\\x8a\\xb8</caption>\\r\\n\\t\\t\\t\\t<colgroup>\\r\\n\\t\\t\\t\\t<col width=\"180px\">\\r\\n\\t\\t\\t\\t<col width=\"\">\\r\\n\\t\\t\\t\\t<col width=\"160px\">\\r\\n\\t\\t\\t\\t<col width=\"134px\">\\r\\n\\t\\t\\t\\t<col width=\"130px\">\\r\\n\\t\\t\\t\\t</colgroup>\\r\\n\\t\\t\\t\\t<thead>\\r\\n\\t\\t\\t\\t\\t<tr>\\r\\n\\t\\t\\t\\t\\t\\t<th scope=\"col\">\\xeb\\xb8\\x8c\\xeb\\x9e\\x9c\\xeb\\x93\\x9c</th>\\r\\n\\t\\t\\t\\t\\t\\t<th scope=\"col\">\\xeb\\x8f\\x84\\xec\\x84\\x9c\\xeb\\xaa\\x85</th>\\r\\n\\t\\t\\t\\t\\t\\t<th scope=\"col\">\\xec\\xa0\\x80\\xec\\x9e\\x90</th>\\r\\n\\t\\t\\t\\t\\t\\t<th scope=\"col\">\\xeb\\xb0\\x9c\\xed\\x96\\x89\\xec\\x9d\\xbc</th>\\r\\n\\t\\t\\t\\t\\t\\t<th scope=\"col\">\\xec\\xa0\\x95\\xea\\xb0\\x80</th>\\r\\n\\t\\t\\t\\t\\t</tr>\\r\\n\\t\\t\\t\\t</thead>\\r\\n\\t\\t\\t\\t<tbody>\\r\\n\\t\\t\\t\\t\\t\\t\\t\\t\\t<tr>\\r\\n\\t\\t\\t\\t\\t\\t<td class=\"brd_m\">\\xed\\x95\\x9c\\xeb\\xb9\\x9b\\xeb\\xaf\\xb8\\xeb\\x94\\x94\\xec\\x96\\xb4</td>\\r\\n\\t\\t\\t\\t\\t\\t<td class=\"left\"><a href=\"/store/books/look.php?p_code=B8460934222\">\\xec\\x9c\\xa0\\xeb\\x8b\\x89\\xec\\x8a\\xa4\\xec\\x9d\\x98 \\xed\\x83\\x84\\xec\\x83\\x9d</a></td>\\r\\n\\t\\t\\t\\t\\t\\t\\t\\t\\t\\t\\t\\t\\t<td class=\"left\">\\xeb\\xb8\\x8c\\xeb\\x9d\\xbc\\xec\\x9d\\xb4\\xec\\x96\\xb8 \\xec\\xbb\\xa4\\xeb\\x8b\\x88\\xed\\x95\\xb8   </td>\\r\\n\\t\\t\\t\\t\\t\\t\\t\\t\\t\\t\\t\\t<td>2020-08-03</td>\\r\\n\\t\\t\\t\\t\\t\\t<td class=\"right\">20,000\\xec\\x9b\\x90</td>\\r\\n\\t\\t\\t\\t\\t</tr>\\r\\n\\r\\n\\t\\t\\t\\t\\t\\t\\t\\t\\t\\t<tr>\\r\\n\\t\\t\\t\\t\\t\\t<td class=\"brd_b\">\\xed\\x95\\x9c\\xeb\\xb9\\x9b\\xeb\\xb9\\x84\\xec\\xa6\\x88</td>\\r\\n\\t\\t\\t\\t\\t\\t<td class=\"left\"><a href=\"/store/books/look.php?p_code=B5877288702\">\\xeb\\xb3\\x84, \\xea\\xb1\\x94 \\xeb\\x8b\\xa4 \\xea\\xb7\\xb8\\xeb\\xa6\\xbd\\xeb\\x84\\xa4</a></td>\\r\\n\\t\\t\\t\\t\\t\\t\\t\\t\\t\\t\\t\\t\\t<td class=\"left\">\\xeb\\xb0\\xa4\\xed\\x95\\x98\\xeb\\x8a\\x98(\\xea\\xb9\\x80\\xed\\x95\\x98\\xeb\\x8a\\x98) \\xec\\x99\\xb8 1\\xeb\\xaa\\x85  </td>\\r\\n\\t\\t\\t\\t\\t\\t\\t\\t\\t\\t\\t\\t<td>2020-07-30</td>\\r\\n\\t\\t\\t\\t\\t\\t<td class=\"right\">11,200\\xec\\x9b\\x90</td>\\r\\n\\t\\t\\t\\t\\t</tr>\\r\\n\\r\\n\\t\\t\\t\\t\\t\\t\\t\\t\\t\\t<tr>\\r\\n\\t\\t\\t\\t\\t\\t<td class=\"brd_a\">\\xed\\x95\\x9c\\xeb\\xb9\\x9b\\xec\\x95\\x84\\xec\\xb9\\xb4\\xeb\\x8d\\xb0\\xeb\\xaf\\xb8</td>\\r\\n\\t\\t\\t\\t\\t\\t<td class=\"left\"><a href=\"/store/books/look.php?p_code=B5937482728\">IT CookBook, \\xeb\\x94\\xb0\\xeb\\x9d\\xbc \\xed\\x95\\x98\\xeb\\xa9\\xb4\\xec\\x84\\x9c \\xeb\\xb0\\xb0\\xec\\x9a\\xb0\\xeb\\x8a\\x94 \\xec\\x82\\xac\\xeb\\xac\\xbc\\xec\\x9d\\xb8\\xed\\x84\\xb0\\xeb\\x84\\xb7</a></td>\\r\\n\\t\\t\\t\\t\\t\\t\\t\\t\\t\\t\\t\\t\\t<td class=\"left\">\\xec\\x96\\x91\\xec\\x9e\\xac\\xec\\x82\\xbc   </td>\\r\\n\\t\\t\\t\\t\\t\\t\\t\\t\\t\\t\\t\\t<td>2020-07-23</td>\\r\\n\\t\\t\\t\\t\\t\\t<td class=\"right\">28,000\\xec\\x9b\\x90</td>\\r\\n\\t\\t\\t\\t\\t</tr>\\r\\n\\r\\n\\t\\t\\t\\t\\t\\t\\t\\t\\t\\t<tr>\\r\\n\\t\\t\\t\\t\\t\\t<td class=\"brd_e\">\\xed\\x95\\x9c\\xeb\\xb9\\x9b\\xec\\x97\\x90\\xeb\\x93\\x80</td>\\r\\n\\t\\t\\t\\t\\t\\t<td class=\"left\"><a href=\"/store/books/look.php?p_code=B5555860904\">\\xec\\x9e\\xac\\xeb\\xaf\\xb8\\xec\\x9e\\x88\\xea\\xb3\\xa0 \\xeb\\xb9\\xa0\\xeb\\xa5\\xb8 \\xec\\xb2\\xab \\xed\\x95\\x9c\\xea\\xb8\\x80 \\xec\\xa4\\x80\\xeb\\xb9\\x84 \\xec\\x84\\xa0 \\xea\\xb8\\x8b\\xea\\xb8\\xb01\\xea\\xb6\\x8c \\xec\\xa7\\x81\\xec\\x84\\xa0\\xe2\\x88\\x99\\xea\\xb3\\xa1\\xec\\x84\\xa0\\xe2\\x88\\x99\\xec\\x9e\\x90\\xec\\x9d\\x8c\\xe2\\x88\\x99\\xeb\\xaa\\xa8\\xec\\x9d\\x8c</a></td>\\r\\n\\t\\t\\t\\t\\t\\t\\t\\t\\t\\t\\t\\t\\t<td class=\"left\">\\xed\\x95\\x9c\\xeb\\xb9\\x9b\\xed\\x95\\x99\\xec\\x8a\\xb5\\xec\\x97\\xb0\\xea\\xb5\\xac\\xed\\x9a\\x8c   </td>\\r\\n\\t\\t\\t\\t\\t\\t\\t\\t\\t\\t\\t\\t<td>2020-07-20</td>\\r\\n\\t\\t\\t\\t\\t\\t<td class=\"right\">6,000\\xec\\x9b\\x90</td>\\r\\n\\t\\t\\t\\t\\t</tr>\\r\\n\\r\\n\\t\\t\\t\\t\\t\\t\\t\\t\\t\\t<tr>\\r\\n\\t\\t\\t\\t\\t\\t<td class=\"brd_e\">\\xed\\x95\\x9c\\xeb\\xb9\\x9b\\xec\\x97\\x90\\xeb\\x93\\x80</td>\\r\\n\\t\\t\\t\\t\\t\\t<td class=\"left\"><a href=\"/store/books/look.php?p_code=B3397547488\">\\xec\\x9e\\xac\\xeb\\xaf\\xb8\\xec\\x9e\\x88\\xea\\xb3\\xa0 \\xeb\\xb9\\xa0\\xeb\\xa5\\xb8 \\xec\\xb2\\xab \\xed\\x95\\x9c\\xea\\xb8\\x80 4\\xea\\xb6\\x8c \\xec\\x8c\\x8d\\xec\\x9e\\x90\\xec\\x9d\\x8c\\xe2\\x88\\x99\\xeb\\xb0\\x9b\\xec\\xb9\\xa8</a></td>\\r\\n\\t\\t\\t\\t\\t\\t\\t\\t\\t\\t\\t\\t\\t<td class=\"left\">\\xed\\x95\\x9c\\xeb\\xb9\\x9b\\xed\\x95\\x99\\xec\\x8a\\xb5\\xec\\x97\\xb0\\xea\\xb5\\xac\\xed\\x9a\\x8c   </td>\\r\\n\\t\\t\\t\\t\\t\\t\\t\\t\\t\\t\\t\\t<td>2020-07-20</td>\\r\\n\\t\\t\\t\\t\\t\\t<td class=\"right\">6,500\\xec\\x9b\\x90</td>\\r\\n\\t\\t\\t\\t\\t</tr>\\r\\n\\r\\n\\t\\t\\t\\t\\t\\t\\t\\t\\t\\t<tr>\\r\\n\\t\\t\\t\\t\\t\\t<td class=\"brd_m\">\\xed\\x95\\x9c\\xeb\\xb9\\x9b\\xeb\\xaf\\xb8\\xeb\\x94\\x94\\xec\\x96\\xb4</td>\\r\\n\\t\\t\\t\\t\\t\\t<td class=\"left\"><a href=\"/store/books/look.php?p_code=B7126889829\">\\xed\\x95\\xb8\\xec\\xa6\\x88\\xec\\x98\\xa8 \\xeb\\xb9\\x84\\xec\\xa7\\x80\\xeb\\x8f\\x84 \\xed\\x95\\x99\\xec\\x8a\\xb5</a></td>\\r\\n\\t\\t\\t\\t\\t\\t\\t\\t\\t\\t\\t\\t\\t<td class=\"left\">\\xec\\x95\\x88\\xec\\xbf\\xa0\\xeb\\xa5\\xb4 A. \\xed\\x8c\\x8c\\xed\\x85\\x94   </td>\\r\\n\\t\\t\\t\\t\\t\\t\\t\\t\\t\\t\\t\\t<td>2020-07-20</td>\\r\\n\\t\\t\\t\\t\\t\\t<td class=\"right\">34,000\\xec\\x9b\\x90</td>\\r\\n\\t\\t\\t\\t\\t</tr>\\r\\n\\r\\n\\t\\t\\t\\t\\t\\t\\t\\t\\t\\t<tr>\\r\\n\\t\\t\\t\\t\\t\\t<td class=\"brd_e\">\\xed\\x95\\x9c\\xeb\\xb9\\x9b\\xec\\x97\\x90\\xeb\\x93\\x80</td>\\r\\n\\t\\t\\t\\t\\t\\t<td class=\"left\"><a href=\"/store/books/look.php?p_code=B7448405310\">\\xec\\x9e\\xac\\xeb\\xaf\\xb8\\xec\\x9e\\x88\\xea\\xb3\\xa0 \\xeb\\xb9\\xa0\\xeb\\xa5\\xb8 \\xec\\xb2\\xab \\xed\\x95\\x9c\\xea\\xb8\\x80 \\xec\\x93\\xb0\\xea\\xb8\\xb01\\xea\\xb6\\x8c \\xeb\\xaa\\xa8\\xec\\x9d\\x8c\\xe2\\x88\\x99\\xec\\x9e\\x90\\xec\\x9d\\x8c\\xe2\\x88\\x99\\xec\\x89\\xac\\xec\\x9a\\xb4 \\xeb\\x82\\xb1\\xeb\\xa7\\x90</a></td>\\r\\n\\t\\t\\t\\t\\t\\t\\t\\t\\t\\t\\t\\t\\t<td class=\"left\">\\xed\\x95\\x9c\\xeb\\xb9\\x9b\\xed\\x95\\x99\\xec\\x8a\\xb5\\xec\\x97\\xb0\\xea\\xb5\\xac\\xed\\x9a\\x8c   </td>\\r\\n\\t\\t\\t\\t\\t\\t\\t\\t\\t\\t\\t\\t<td>2020-07-20</td>\\r\\n\\t\\t\\t\\t\\t\\t<td class=\"right\">6,500\\xec\\x9b\\x90</td>\\r\\n\\t\\t\\t\\t\\t</tr>\\r\\n\\r\\n\\t\\t\\t\\t\\t\\t\\t\\t\\t\\t<tr>\\r\\n\\t\\t\\t\\t\\t\\t<td class=\"brd_l\">\\xed\\x95\\x9c\\xeb\\xb9\\x9b\\xeb\\x9d\\xbc\\xec\\x9d\\xb4\\xed\\x94\\x84</td>\\r\\n\\t\\t\\t\\t\\t\\t<td class=\"left\"><a href=\"/store/books/look.php?p_code=B8656803901\">\\xec\\x9a\\xb0\\xeb\\xa6\\xac \\xec\\x95\\x84\\xec\\x9d\\xb4 \\xec\\xb2\\x98\\xec\\x9d\\x8c \\xeb\\x86\\x80\\xec\\x9d\\xb4</a></td>\\r\\n\\t\\t\\t\\t\\t\\t\\t\\t\\t\\t\\t\\t\\t<td class=\"left\">\\xec\\x9d\\xb4\\xed\\x98\\x84\\xec\\xa3\\xbc(\\xeb\\x8a\\x90\\xeb\\xa6\\xbc\\xeb\\xb3\\xb4juliee) \\xec\\x99\\xb8 1\\xeb\\xaa\\x85  </td>\\r\\n\\t\\t\\t\\t\\t\\t\\t\\t\\t\\t\\t\\t<td>2020-07-20</td>\\r\\n\\t\\t\\t\\t\\t\\t<td class=\"right\">15,000\\xec\\x9b\\x90</td>\\r\\n\\t\\t\\t\\t\\t</tr>\\r\\n\\r\\n\\t\\t\\t\\t\\t\\t\\t\\t\\t\\t<tr>\\r\\n\\t\\t\\t\\t\\t\\t<td class=\"brd_b\">\\xed\\x95\\x9c\\xeb\\xb9\\x9b\\xeb\\xb9\\x84\\xec\\xa6\\x88</td>\\r\\n\\t\\t\\t\\t\\t\\t<td class=\"left\"><a href=\"/store/books/look.php?p_code=B9697194640\">\\xeb\\xaf\\xb8\\xeb\\x9d\\xbc\\xed\\x81\\xb4 \\xeb\\xaa\\xa8\\xeb\\x8b\\x9d \\xea\\xb8\\xb0\\xec\\xa0\\x81\\xec\\x9d\\x98 \\xea\\xb3\\xb5\\xec\\x8b\\x9d&#40;\\xea\\xb0\\x9c\\xec\\xa0\\x95\\xed\\x8c\\x90&#41;</a></td>\\r\\n\\t\\t\\t\\t\\t\\t\\t\\t\\t\\t\\t\\t\\t<td class=\"left\">\\xed\\x95\\xa0 \\xec\\x97\\x98\\xeb\\xa1\\x9c\\xeb\\x93\\x9c   </td>\\r\\n\\t\\t\\t\\t\\t\\t\\t\\t\\t\\t\\t\\t<td>2020-07-15</td>\\r\\n\\t\\t\\t\\t\\t\\t<td class=\"right\">15,000\\xec\\x9b\\x90</td>\\r\\n\\t\\t\\t\\t\\t</tr>\\r\\n\\r\\n\\t\\t\\t\\t\\t\\t\\t\\t\\t\\t<tr>\\r\\n\\t\\t\\t\\t\\t\\t<td class=\"brd_a\">\\xed\\x95\\x9c\\xeb\\xb9\\x9b\\xec\\x95\\x84\\xec\\xb9\\xb4\\xeb\\x8d\\xb0\\xeb\\xaf\\xb8</td>\\r\\n\\t\\t\\t\\t\\t\\t<td class=\"left\"><a href=\"/store/books/look.php?p_code=B8573612142\">\\xec\\xb0\\xbd\\xec\\x9d\\x98\\xec\\xa0\\x81 \\xea\\xb3\\xb5\\xed\\x95\\x99\\xec\\x84\\xa4\\xea\\xb3\\x84&#40;3\\xed\\x8c\\x90&#41;</a></td>\\r\\n\\t\\t\\t\\t\\t\\t\\t\\t\\t\\t\\t\\t\\t<td class=\"left\">\\xea\\xb9\\x80\\xec\\x9d\\x80\\xea\\xb2\\xbd   </td>\\r\\n\\t\\t\\t\\t\\t\\t\\t\\t\\t\\t\\t\\t<td>2020-07-10</td>\\r\\n\\t\\t\\t\\t\\t\\t<td class=\"right\">23,000\\xec\\x9b\\x90</td>\\r\\n\\t\\t\\t\\t\\t</tr>\\r\\n\\r\\n\\t\\t\\t\\t\\t\\t\\t\\t\\t\\t<tr>\\r\\n\\t\\t\\t\\t\\t\\t<td class=\"brd_a\">\\xed\\x95\\x9c\\xeb\\xb9\\x9b\\xec\\x95\\x84\\xec\\xb9\\xb4\\xeb\\x8d\\xb0\\xeb\\xaf\\xb8</td>\\r\\n\\t\\t\\t\\t\\t\\t<td class=\"left\"><a href=\"/store/books/look.php?p_code=B8404138031\">R\\xeb\\xa1\\x9c \\xed\\x95\\x98\\xeb\\x8a\\x94 \\xeb\\x8b\\xa4\\xeb\\xb3\\x80\\xeb\\x9f\\x89 \\xeb\\x8d\\xb0\\xec\\x9d\\xb4\\xed\\x84\\xb0 \\xeb\\xb6\\x84\\xec\\x84\\x9d : \\xec\\x9d\\xb4\\xeb\\xa1\\xa0\\xeb\\xb6\\x80\\xed\\x84\\xb0 \\xec\\x8b\\xa4\\xeb\\xac\\xb4 \\xed\\x99\\x9c\\xec\\x9a\\xa9\\xea\\xb9\\x8c\\xec\\xa7\\x80</a></td>\\r\\n\\t\\t\\t\\t\\t\\t\\t\\t\\t\\t\\t\\t\\t<td class=\"left\">\\xec\\xb9\\xb4\\xec\\x99\\x80\\xed\\x95\\x98\\xec\\x8b\\x9c \\xec\\x9e\\x87\\xec\\xbd\\x94 \\xec\\x99\\xb8 2\\xeb\\xaa\\x85  </td>\\r\\n\\t\\t\\t\\t\\t\\t\\t\\t\\t\\t\\t\\t<td>2020-07-10</td>\\r\\n\\t\\t\\t\\t\\t\\t<td class=\"right\">32,000\\xec\\x9b\\x90</td>\\r\\n\\t\\t\\t\\t\\t</tr>\\r\\n\\r\\n\\t\\t\\t\\t\\t\\t\\t\\t\\t\\t<tr>\\r\\n\\t\\t\\t\\t\\t\\t<td class=\"brd_a\">\\xed\\x95\\x9c\\xeb\\xb9\\x9b\\xec\\x95\\x84\\xec\\xb9\\xb4\\xeb\\x8d\\xb0\\xeb\\xaf\\xb8</td>\\r\\n\\t\\t\\t\\t\\t\\t<td class=\"left\"><a href=\"/store/books/look.php?p_code=B8658821149\">\\xea\\xb3\\xb5\\xed\\x95\\x99 \\xed\\x95\\xb5\\xec\\x8b\\xac\\xec\\x88\\x98\\xed\\x95\\x99&#40;2\\xed\\x8c\\x90&#41;  : \\xea\\xb8\\xb0\\xec\\xb4\\x88\\xeb\\xb6\\x80\\xed\\x84\\xb0 \\xec\\x8b\\xac\\xed\\x99\\x94\\xea\\xb9\\x8c\\xec\\xa7\\x80 \\xed\\x95\\xb5\\xec\\x8b\\xac\\xeb\\xa7\\x8c \\xec\\x8f\\x99\\xec\\x8f\\x99</a></td>\\r\\n\\t\\t\\t\\t\\t\\t\\t\\t\\t\\t\\t\\t\\t<td class=\"left\">\\xed\\x95\\xa8\\xeb\\x82\\xa8\\xec\\x9a\\xb0   </td>\\r\\n\\t\\t\\t\\t\\t\\t\\t\\t\\t\\t\\t\\t<td>2020-07-06</td>\\r\\n\\t\\t\\t\\t\\t\\t<td class=\"right\">23,000\\xec\\x9b\\x90</td>\\r\\n\\t\\t\\t\\t\\t</tr>\\r\\n\\r\\n\\t\\t\\t\\t\\t\\t\\t\\t\\t\\t<tr>\\r\\n\\t\\t\\t\\t\\t\\t<td class=\"brd_a\">\\xed\\x95\\x9c\\xeb\\xb9\\x9b\\xec\\x95\\x84\\xec\\xb9\\xb4\\xeb\\x8d\\xb0\\xeb\\xaf\\xb8</td>\\r\\n\\t\\t\\t\\t\\t\\t<td class=\"left\"><a href=\"/store/books/look.php?p_code=B7926921440\">\\xec\\x9d\\x91\\xec\\x9a\\xa9\\xec\\x9d\\xb4 \\xeb\\xb3\\xb4\\xec\\x9d\\xb4\\xeb\\x8a\\x94 \\xec\\x84\\xa0\\xed\\x98\\x95\\xeb\\x8c\\x80\\xec\\x88\\x98\\xed\\x95\\x99 : \\xed\\x8c\\x8c\\xec\\x9d\\xb4\\xec\\x8d\\xac\\xea\\xb3\\xbc \\xed\\x95\\xa8\\xea\\xbb\\x98\\xed\\x95\\x98\\xeb\\x8a\\x94 \\xec\\x84\\xa0\\xed\\x98\\x95\\xeb\\x8c\\x80\\xec\\x88\\x98\\xed\\x95\\x99 \\xec\\x9d\\xb4\\xeb\\xa1\\xa0\\xea\\xb3\\xbc \\xec\\x9d\\x91\\xec\\x9a\\xa9</a></td>\\r\\n\\t\\t\\t\\t\\t\\t\\t\\t\\t\\t\\t\\t\\t<td class=\"left\">\\xec\\x9d\\xb4\\xea\\xb1\\xb4\\xeb\\xaa\\x85   </td>\\r\\n\\t\\t\\t\\t\\t\\t\\t\\t\\t\\t\\t\\t<td>2020-07-06</td>\\r\\n\\t\\t\\t\\t\\t\\t<td class=\"right\">31,000\\xec\\x9b\\x90</td>\\r\\n\\t\\t\\t\\t\\t</tr>\\r\\n\\r\\n\\t\\t\\t\\t\\t\\t\\t\\t\\t\\t<tr>\\r\\n\\t\\t\\t\\t\\t\\t<td class=\"brd_m\">\\xed\\x95\\x9c\\xeb\\xb9\\x9b\\xeb\\xaf\\xb8\\xeb\\x94\\x94\\xec\\x96\\xb4</td>\\r\\n\\t\\t\\t\\t\\t\\t<td class=\"left\"><a href=\"/store/books/look.php?p_code=B7026921929\">\\xed\\x8c\\x8c\\xec\\x9d\\xb4\\xec\\x8d\\xac \\xec\\xa6\\x9d\\xea\\xb6\\x8c \\xeb\\x8d\\xb0\\xec\\x9d\\xb4\\xed\\x84\\xb0 \\xeb\\xb6\\x84\\xec\\x84\\x9d</a></td>\\r\\n\\t\\t\\t\\t\\t\\t\\t\\t\\t\\t\\t\\t\\t<td class=\"left\">\\xea\\xb9\\x80\\xed\\x99\\xa9\\xed\\x9b\\x84   </td>\\r\\n\\t\\t\\t\\t\\t\\t\\t\\t\\t\\t\\t\\t<td>2020-07-01</td>\\r\\n\\t\\t\\t\\t\\t\\t<td class=\"right\">32,000\\xec\\x9b\\x90</td>\\r\\n\\t\\t\\t\\t\\t</tr>\\r\\n\\r\\n\\t\\t\\t\\t\\t\\t\\t\\t\\t\\t<tr>\\r\\n\\t\\t\\t\\t\\t\\t<td class=\"brd_m\">\\xed\\x95\\x9c\\xeb\\xb9\\x9b\\xeb\\xaf\\xb8\\xeb\\x94\\x94\\xec\\x96\\xb4</td>\\r\\n\\t\\t\\t\\t\\t\\t<td class=\"left\"><a href=\"/store/books/look.php?p_code=B3745711486\">\\xeb\\x82\\x98\\xec\\x9d\\x98 \\xec\\xb2\\xab \\xed\\x8c\\x8c\\xec\\x9d\\xb4\\xec\\x8d\\xac&#40;2\\xed\\x8c\\x90&#41;</a></td>\\r\\n\\t\\t\\t\\t\\t\\t\\t\\t\\t\\t\\t\\t\\t<td class=\"left\">\\xec\\x97\\x90\\xeb\\xa6\\xad \\xeb\\xa7\\x88\\xed\\x85\\x8c\\xec\\x8a\\xa4   </td>\\r\\n\\t\\t\\t\\t\\t\\t\\t\\t\\t\\t\\t\\t<td>2020-07-01</td>\\r\\n\\t\\t\\t\\t\\t\\t<td class=\"right\">30,000\\xec\\x9b\\x90</td>\\r\\n\\t\\t\\t\\t\\t</tr>\\r\\n\\r\\n\\t\\t\\t\\t\\t\\t\\t\\t\\t\\t<tr>\\r\\n\\t\\t\\t\\t\\t\\t<td class=\"brd_l\">\\xed\\x95\\x9c\\xeb\\xb9\\x9b\\xeb\\x9d\\xbc\\xec\\x9d\\xb4\\xed\\x94\\x84</td>\\r\\n\\t\\t\\t\\t\\t\\t<td class=\"left\"><a href=\"/store/books/look.php?p_code=B7748014142\">\\xeb\\x82\\x98\\xeb\\x8a\\x94 \\xec\\x99\\x9c \\xeb\\x84\\xa4 \\xeb\\xa7\\x90\\xec\\x9d\\xb4 \\xed\\x9e\\x98\\xeb\\x93\\xa4\\xea\\xb9\\x8c</a></td>\\r\\n\\t\\t\\t\\t\\t\\t\\t\\t\\t\\t\\t\\t\\t<td class=\"left\">\\xeb\\xb0\\x95\\xec\\x9e\\xac\\xec\\x97\\xb0   </td>\\r\\n\\t\\t\\t\\t\\t\\t\\t\\t\\t\\t\\t\\t<td>2020-07-01</td>\\r\\n\\t\\t\\t\\t\\t\\t<td class=\"right\">16,800\\xec\\x9b\\x90</td>\\r\\n\\t\\t\\t\\t\\t</tr>\\r\\n\\r\\n\\t\\t\\t\\t\\t\\t\\t\\t\\t\\t<tr>\\r\\n\\t\\t\\t\\t\\t\\t<td class=\"brd_m\">\\xed\\x95\\x9c\\xeb\\xb9\\x9b\\xeb\\xaf\\xb8\\xeb\\x94\\x94\\xec\\x96\\xb4</td>\\r\\n\\t\\t\\t\\t\\t\\t<td class=\"left\"><a href=\"/store/books/look.php?p_code=B9609283195\">\\xed\\x98\\xbc\\xec\\x9e\\x90 \\xea\\xb3\\xb5\\xeb\\xb6\\x80\\xed\\x95\\x98\\xeb\\x8a\\x94 \\xec\\xb2\\xab \\xed\\x94\\x84\\xeb\\xa1\\x9c\\xea\\xb7\\xb8\\xeb\\x9e\\x98\\xeb\\xb0\\x8d with \\xed\\x8c\\x8c\\xec\\x9d\\xb4\\xec\\x8d\\xac</a></td>\\r\\n\\t\\t\\t\\t\\t\\t\\t\\t\\t\\t\\t\\t\\t<td class=\"left\">\\xeb\\xac\\xb8\\xed\\x98\\x84\\xec\\x9d\\xbc   </td>\\r\\n\\t\\t\\t\\t\\t\\t\\t\\t\\t\\t\\t\\t<td>2020-06-30</td>\\r\\n\\t\\t\\t\\t\\t\\t<td class=\"right\">17,000\\xec\\x9b\\x90</td>\\r\\n\\t\\t\\t\\t\\t</tr>\\r\\n\\r\\n\\t\\t\\t\\t\\t\\t\\t\\t\\t\\t<tr>\\r\\n\\t\\t\\t\\t\\t\\t<td class=\"brd_b\">\\xed\\x95\\x9c\\xeb\\xb9\\x9b\\xeb\\xb9\\x84\\xec\\xa6\\x88</td>\\r\\n\\t\\t\\t\\t\\t\\t<td class=\"left\"><a href=\"/store/books/look.php?p_code=B7346049104\">\\xed\\x87\\xb4\\xea\\xb7\\xbc\\xea\\xb8\\xb8 \\xec\\x9d\\xb8\\xeb\\xac\\xb8\\xed\\x95\\x99 \\xec\\x88\\x98\\xec\\x97\\x85 : \\xeb\\x89\\xb4\\xeb\\x85\\xb8\\xeb\\xa9\\x80</a></td>\\r\\n\\t\\t\\t\\t\\t\\t\\t\\t\\t\\t\\t\\t\\t<td class=\"left\">\\xeb\\xb0\\xb1\\xec\\x83\\x81\\xea\\xb2\\xbd\\xec\\xa0\\x9c\\xec\\x97\\xb0\\xea\\xb5\\xac\\xec\\x9b\\x90 \\xec\\x99\\xb8 12\\xeb\\xaa\\x85  </td>\\r\\n\\t\\t\\t\\t\\t\\t\\t\\t\\t\\t\\t\\t<td>2020-06-30</td>\\r\\n\\t\\t\\t\\t\\t\\t<td class=\"right\">17,000\\xec\\x9b\\x90</td>\\r\\n\\t\\t\\t\\t\\t</tr>\\r\\n\\r\\n\\t\\t\\t\\t\\t\\t\\t\\t\\t\\t<tr>\\r\\n\\t\\t\\t\\t\\t\\t<td class=\"brd_a\">\\xed\\x95\\x9c\\xeb\\xb9\\x9b\\xec\\x95\\x84\\xec\\xb9\\xb4\\xeb\\x8d\\xb0\\xeb\\xaf\\xb8</td>\\r\\n\\t\\t\\t\\t\\t\\t<td class=\"left\"><a href=\"/store/books/look.php?p_code=B4295361584\">IT CookBook, \\xec\\xb4\\x88\\xec\\x97\\xb0\\xea\\xb2\\xb0 \\xec\\x82\\xac\\xed\\x9a\\x8c\\xec\\x9d\\x98 \\xeb\\x8d\\xb0\\xec\\x9d\\xb4\\xed\\x84\\xb0\\xed\\x86\\xb5\\xec\\x8b\\xa0\\xea\\xb3\\xbc \\xeb\\x84\\xa4\\xed\\x8a\\xb8\\xec\\x9b\\x8c\\xed\\x82\\xb9</a></td>\\r\\n\\t\\t\\t\\t\\t\\t\\t\\t\\t\\t\\t\\t\\t<td class=\"left\">\\xea\\xb0\\x95\\xeb\\xac\\xb8\\xec\\x8b\\x9d   </td>\\r\\n\\t\\t\\t\\t\\t\\t\\t\\t\\t\\t\\t\\t<td>2020-06-30</td>\\r\\n\\t\\t\\t\\t\\t\\t<td class=\"right\">29,000\\xec\\x9b\\x90</td>\\r\\n\\t\\t\\t\\t\\t</tr>\\r\\n\\r\\n\\t\\t\\t\\t\\t\\t\\t\\t\\t\\t<tr>\\r\\n\\t\\t\\t\\t\\t\\t<td class=\"brd_m\">\\xed\\x95\\x9c\\xeb\\xb9\\x9b\\xeb\\xaf\\xb8\\xeb\\x94\\x94\\xec\\x96\\xb4</td>\\r\\n\\t\\t\\t\\t\\t\\t<td class=\"left\"><a href=\"/store/books/look.php?p_code=B7859887743\">\\xec\\x8b\\xa4\\xec\\xa0\\x84 \\xec\\x9e\\x90\\xeb\\xb0\\x94 \\xec\\x86\\x8c\\xed\\x94\\x84\\xed\\x8a\\xb8\\xec\\x9b\\xa8\\xec\\x96\\xb4 \\xea\\xb0\\x9c\\xeb\\xb0\\x9c</a></td>\\r\\n\\t\\t\\t\\t\\t\\t\\t\\t\\t\\t\\t\\t\\t<td class=\"left\">\\xeb\\x9d\\xbc\\xec\\x9a\\xb8-\\xea\\xb2\\x8c\\xec\\x9d\\xb4\\xeb\\xb8\\x8c\\xeb\\xa6\\xac\\xec\\x96\\xbc \\xec\\x9a\\xb0\\xeb\\xa5\\xb4\\xeb\\xa7\\x88 \\xec\\x99\\xb8 1\\xeb\\xaa\\x85  </td>\\r\\n\\t\\t\\t\\t\\t\\t\\t\\t\\t\\t\\t\\t<td>2020-06-20</td>\\r\\n\\t\\t\\t\\t\\t\\t<td class=\"right\">18,000\\xec\\x9b\\x90</td>\\r\\n\\t\\t\\t\\t\\t</tr>\\r\\n\\r\\n\\t\\t\\t\\t\\t\\t\\t\\t\\t\\t<tr>\\r\\n\\t\\t\\t\\t\\t\\t<td class=\"brd_a\">\\xed\\x95\\x9c\\xeb\\xb9\\x9b\\xec\\x95\\x84\\xec\\xb9\\xb4\\xeb\\x8d\\xb0\\xeb\\xaf\\xb8</td>\\r\\n\\t\\t\\t\\t\\t\\t<td class=\"left\"><a href=\"/store/books/look.php?p_code=B3126325886\">IT CookBook, \\xec\\x89\\xbd\\xea\\xb2\\x8c \\xeb\\xb0\\xb0\\xec\\x9a\\xb0\\xeb\\x8a\\x94 MFC \\xec\\x9c\\x88\\xeb\\x8f\\x84\\xec\\x9a\\xb0 \\xed\\x94\\x84\\xeb\\xa1\\x9c\\xea\\xb7\\xb8\\xeb\\x9e\\x98\\xeb\\xb0\\x8d</a></td>\\r\\n\\t\\t\\t\\t\\t\\t\\t\\t\\t\\t\\t\\t\\t<td class=\"left\">\\xea\\xb9\\x80\\xec\\x84\\xa0\\xec\\x9a\\xb0 \\xec\\x99\\xb8 1\\xeb\\xaa\\x85  </td>\\r\\n\\t\\t\\t\\t\\t\\t\\t\\t\\t\\t\\t\\t<td>2020-06-20</td>\\r\\n\\t\\t\\t\\t\\t\\t<td class=\"right\">30,000\\xec\\x9b\\x90</td>\\r\\n\\t\\t\\t\\t\\t</tr>\\r\\n\\r\\n\\t\\t\\t\\t\\t\\t\\t\\t\\t\\t<tr>\\r\\n\\t\\t\\t\\t\\t\\t<td class=\"brd_a\">\\xed\\x95\\x9c\\xeb\\xb9\\x9b\\xec\\x95\\x84\\xec\\xb9\\xb4\\xeb\\x8d\\xb0\\xeb\\xaf\\xb8</td>\\r\\n\\t\\t\\t\\t\\t\\t<td class=\"left\"><a href=\"/store/books/look.php?p_code=B3715221949\">IT CookBook, \\xec\\x9d\\xb8\\xea\\xb3\\xb5\\xec\\xa7\\x80\\xeb\\x8a\\xa5 \\xec\\x8b\\x9c\\xeb\\x8c\\x80\\xeb\\xa5\\xbc \\xec\\x9c\\x84\\xed\\x95\\x9c \\xec\\xbb\\xb4\\xed\\x93\\xa8\\xed\\x84\\xb0 \\xea\\xb3\\xbc\\xed\\x95\\x99 \\xea\\xb0\\x9c\\xeb\\xa1\\xa0</a></td>\\r\\n\\t\\t\\t\\t\\t\\t\\t\\t\\t\\t\\t\\t\\t<td class=\"left\">\\xec\\xa0\\x95\\xea\\xb8\\xb0\\xec\\xb2\\xa0   </td>\\r\\n\\t\\t\\t\\t\\t\\t\\t\\t\\t\\t\\t\\t<td>2020-06-19</td>\\r\\n\\t\\t\\t\\t\\t\\t<td class=\"right\">27,000\\xec\\x9b\\x90</td>\\r\\n\\t\\t\\t\\t\\t</tr>\\r\\n\\r\\n\\t\\t\\t\\t\\t\\t\\t\\t\\t\\t<tr>\\r\\n\\t\\t\\t\\t\\t\\t<td class=\"brd_b\">\\xed\\x95\\x9c\\xeb\\xb9\\x9b\\xeb\\xb9\\x84\\xec\\xa6\\x88</td>\\r\\n\\t\\t\\t\\t\\t\\t<td class=\"left\"><a href=\"/store/books/look.php?p_code=B3354514449\">\\xea\\xb9\\x8c\\xeb\\xa9\\xb4\\xec\\x84\\x9c \\xeb\\xb3\\xb4\\xeb\\x8a\\x94 \\xed\\x95\\xb4\\xeb\\xb6\\x80\\xed\\x95\\x99 \\xeb\\xa7\\x8c\\xed\\x99\\x94</a></td>\\r\\n\\t\\t\\t\\t\\t\\t\\t\\t\\t\\t\\t\\t\\t<td class=\"left\">\\xec\\x95\\x95\\xeb\\x93\\x88\\xeb\\x9d\\xbc \\xec\\x99\\xb8 1\\xeb\\xaa\\x85  </td>\\r\\n\\t\\t\\t\\t\\t\\t\\t\\t\\t\\t\\t\\t<td>2020-06-19</td>\\r\\n\\t\\t\\t\\t\\t\\t<td class=\"right\">18,500\\xec\\x9b\\x90</td>\\r\\n\\t\\t\\t\\t\\t</tr>\\r\\n\\r\\n\\t\\t\\t\\t\\t\\t\\t\\t\\t\\t<tr>\\r\\n\\t\\t\\t\\t\\t\\t<td class=\"brd_a\">\\xed\\x95\\x9c\\xeb\\xb9\\x9b\\xec\\x95\\x84\\xec\\xb9\\xb4\\xeb\\x8d\\xb0\\xeb\\xaf\\xb8</td>\\r\\n\\t\\t\\t\\t\\t\\t<td class=\"left\"><a href=\"/store/books/look.php?p_code=B3055805288\">IT CookBook, \\xec\\xbd\\x94\\xed\\x8b\\x80\\xeb\\xa6\\xb0\\xec\\x9d\\x84 \\xed\\x99\\x9c\\xec\\x9a\\xa9\\xed\\x95\\x9c \\xec\\x95\\x88\\xeb\\x93\\x9c\\xeb\\xa1\\x9c\\xec\\x9d\\xb4\\xeb\\x93\\x9c \\xed\\x94\\x84\\xeb\\xa1\\x9c\\xea\\xb7\\xb8\\xeb\\x9e\\x98\\xeb\\xb0\\x8d</a></td>\\r\\n\\t\\t\\t\\t\\t\\t\\t\\t\\t\\t\\t\\t\\t<td class=\"left\">\\xec\\x9a\\xb0\\xec\\x9e\\xac\\xeb\\x82\\xa8 \\xec\\x99\\xb8 1\\xeb\\xaa\\x85  </td>\\r\\n\\t\\t\\t\\t\\t\\t\\t\\t\\t\\t\\t\\t<td>2020-06-19</td>\\r\\n\\t\\t\\t\\t\\t\\t<td class=\"right\">34,000\\xec\\x9b\\x90</td>\\r\\n\\t\\t\\t\\t\\t</tr>\\r\\n\\r\\n\\t\\t\\t\\t\\t\\t\\t\\t\\t\\t<tr>\\r\\n\\t\\t\\t\\t\\t\\t<td class=\"brd_b\">\\xed\\x95\\x9c\\xeb\\xb9\\x9b\\xeb\\xb9\\x84\\xec\\xa6\\x88</td>\\r\\n\\t\\t\\t\\t\\t\\t<td class=\"left\"><a href=\"/store/books/look.php?p_code=B1789503265\">\\xeb\\xb1\\x85\\xed\\x81\\xac 4.0</a></td>\\r\\n\\t\\t\\t\\t\\t\\t\\t\\t\\t\\t\\t\\t\\t<td class=\"left\">\\xeb\\xb8\\x8c\\xeb\\xa0\\x9b \\xed\\x82\\xb9   </td>\\r\\n\\t\\t\\t\\t\\t\\t\\t\\t\\t\\t\\t\\t<td>2020-06-15</td>\\r\\n\\t\\t\\t\\t\\t\\t<td class=\"right\">18,000\\xec\\x9b\\x90</td>\\r\\n\\t\\t\\t\\t\\t</tr>\\r\\n\\r\\n\\t\\t\\t\\t\\t\\t\\t\\t\\t\\t<tr>\\r\\n\\t\\t\\t\\t\\t\\t<td class=\"brd_m\">\\xed\\x95\\x9c\\xeb\\xb9\\x9b\\xeb\\xaf\\xb8\\xeb\\x94\\x94\\xec\\x96\\xb4</td>\\r\\n\\t\\t\\t\\t\\t\\t<td class=\"left\"><a href=\"/store/books/look.php?p_code=B1047711884\">\\xed\\x81\\xb4\\xeb\\x9d\\xbc\\xec\\x9a\\xb0\\xeb\\x93\\x9c \\xeb\\x84\\xa4\\xec\\x9d\\xb4\\xed\\x8b\\xb0\\xeb\\xb8\\x8c</a></td>\\r\\n\\t\\t\\t\\t\\t\\t\\t\\t\\t\\t\\t\\t\\t<td class=\"left\">\\xeb\\xb3\\xb4\\xeb\\xa6\\xac\\xec\\x8a\\xa4 \\xec\\x88\\x84 \\xec\\x99\\xb8 2\\xeb\\xaa\\x85  </td>\\r\\n\\t\\t\\t\\t\\t\\t\\t\\t\\t\\t\\t\\t<td>2020-06-13</td>\\r\\n\\t\\t\\t\\t\\t\\t<td class=\"right\">22,000\\xec\\x9b\\x90</td>\\r\\n\\t\\t\\t\\t\\t</tr>\\r\\n\\r\\n\\t\\t\\t\\t\\t\\t\\t\\t\\t\\t<tr>\\r\\n\\t\\t\\t\\t\\t\\t<td class=\"brd_a\">\\xed\\x95\\x9c\\xeb\\xb9\\x9b\\xec\\x95\\x84\\xec\\xb9\\xb4\\xeb\\x8d\\xb0\\xeb\\xaf\\xb8</td>\\r\\n\\t\\t\\t\\t\\t\\t<td class=\"left\"><a href=\"/store/books/look.php?p_code=B4872546419\">IT CookBook, \\xec\\xb2\\x98\\xec\\x9d\\x8c \\xeb\\xa7\\x8c\\xeb\\x82\\x98\\xeb\\x8a\\x94 \\xec\\x8b\\xa0\\xec\\x9e\\xac\\xec\\x83\\x9d\\xec\\x97\\x90\\xeb\\x84\\x88\\xec\\xa7\\x80</a></td>\\r\\n\\t\\t\\t\\t\\t\\t\\t\\t\\t\\t\\t\\t\\t<td class=\"left\">\\xea\\xb9\\x80\\xec\\xa7\\x80\\xed\\x99\\x8d   </td>\\r\\n\\t\\t\\t\\t\\t\\t\\t\\t\\t\\t\\t\\t<td>2020-06-10</td>\\r\\n\\t\\t\\t\\t\\t\\t<td class=\"right\">25,000\\xec\\x9b\\x90</td>\\r\\n\\t\\t\\t\\t\\t</tr>\\r\\n\\r\\n\\t\\t\\t\\t\\t\\t\\t\\t\\t\\t<tr>\\r\\n\\t\\t\\t\\t\\t\\t<td class=\"brd_a\">\\xed\\x95\\x9c\\xeb\\xb9\\x9b\\xec\\x95\\x84\\xec\\xb9\\xb4\\xeb\\x8d\\xb0\\xeb\\xaf\\xb8</td>\\r\\n\\t\\t\\t\\t\\t\\t<td class=\"left\"><a href=\"/store/books/look.php?p_code=B1710834745\">\\xed\\x94\\x84\\xeb\\xa6\\xac\\xeb\\x93\\x9c\\xeb\\xb2\\x84\\xea\\xb7\\xb8 \\xec\\x84\\xa0\\xed\\x98\\x95\\xeb\\x8c\\x80\\xec\\x88\\x98\\xed\\x95\\x99</a></td>\\r\\n\\t\\t\\t\\t\\t\\t\\t\\t\\t\\t\\t\\t\\t<td class=\"left\">\\xec\\x8a\\xa4\\xed\\x8b\\xb0\\xeb\\xb8\\x90 H. \\xed\\x94\\x84\\xeb\\xa6\\xac\\xeb\\x93\\x9c\\xeb\\xb2\\x84\\xea\\xb7\\xb8 \\xec\\x99\\xb8 2\\xeb\\xaa\\x85  </td>\\r\\n\\t\\t\\t\\t\\t\\t\\t\\t\\t\\t\\t\\t<td>2020-06-05</td>\\r\\n\\t\\t\\t\\t\\t\\t<td class=\"right\">35,000\\xec\\x9b\\x90</td>\\r\\n\\t\\t\\t\\t\\t</tr>\\r\\n\\r\\n\\t\\t\\t\\t\\t\\t\\t\\t\\t\\t<tr>\\r\\n\\t\\t\\t\\t\\t\\t<td class=\"brd_m\">\\xed\\x95\\x9c\\xeb\\xb9\\x9b\\xeb\\xaf\\xb8\\xeb\\x94\\x94\\xec\\x96\\xb4</td>\\r\\n\\t\\t\\t\\t\\t\\t<td class=\"left\"><a href=\"/store/books/look.php?p_code=B9632716381\">\\xec\\x9d\\xb4\\xeb\\x8d\\x94\\xeb\\xa6\\xac\\xec\\x9b\\x80 \\xeb\\x94\\x94\\xec\\x95\\xb1 \\xea\\xb0\\x9c\\xeb\\xb0\\x9c</a></td>\\r\\n\\t\\t\\t\\t\\t\\t\\t\\t\\t\\t\\t\\t\\t<td class=\"left\">\\xeb\\xa1\\x9c\\xeb\\xb2\\xa0\\xeb\\xa5\\xb4\\xed\\x86\\xa0 \\xec\\x9d\\xb8\\xed\\x8c\\x90\\xed\\x85\\x8c   </td>\\r\\n\\t\\t\\t\\t\\t\\t\\t\\t\\t\\t\\t\\t<td>2020-06-04</td>\\r\\n\\t\\t\\t\\t\\t\\t<td class=\"right\">40,000\\xec\\x9b\\x90</td>\\r\\n\\t\\t\\t\\t\\t</tr>\\r\\n\\r\\n\\t\\t\\t\\t\\t\\t\\t\\t\\t\\t<tr>\\r\\n\\t\\t\\t\\t\\t\\t<td class=\"brd_m\">\\xed\\x95\\x9c\\xeb\\xb9\\x9b\\xeb\\xaf\\xb8\\xeb\\x94\\x94\\xec\\x96\\xb4</td>\\r\\n\\t\\t\\t\\t\\t\\t<td class=\"left\"><a href=\"/store/books/look.php?p_code=B7283790591\">\\xeb\\x94\\xa5\\xeb\\x9f\\xac\\xeb\\x8b\\x9d\\xea\\xb3\\xbc \\xeb\\xb0\\x94\\xeb\\x91\\x91</a></td>\\r\\n\\t\\t\\t\\t\\t\\t\\t\\t\\t\\t\\t\\t\\t<td class=\"left\">\\xeb\\xa7\\x89\\xec\\x8a\\xa4 \\xed\\x8e\\x8c\\xed\\x8e\\x84\\xeb\\x9d\\xbc \\xec\\x99\\xb8 1\\xeb\\xaa\\x85  </td>\\r\\n\\t\\t\\t\\t\\t\\t\\t\\t\\t\\t\\t\\t<td>2020-06-01</td>\\r\\n\\t\\t\\t\\t\\t\\t<td class=\"right\">36,000\\xec\\x9b\\x90</td>\\r\\n\\t\\t\\t\\t\\t</tr>\\r\\n\\r\\n\\t\\t\\t\\t\\t\\t\\t\\t\\t\\t<tr>\\r\\n\\t\\t\\t\\t\\t\\t<td class=\"brd_b\">\\xed\\x95\\x9c\\xeb\\xb9\\x9b\\xeb\\xb9\\x84\\xec\\xa6\\x88</td>\\r\\n\\t\\t\\t\\t\\t\\t<td class=\"left\"><a href=\"/store/books/look.php?p_code=B8151169674\">CIA \\xec\\x9a\\x94\\xec\\x9b\\x90, \\xec\\xb5\\x9c\\xea\\xb0\\x95 \\xeb\\xb9\\x84\\xec\\xa6\\x88\\xeb\\x8b\\x88\\xec\\x8a\\xa4\\xeb\\xa7\\xa8\\xec\\x9d\\xb4 \\xeb\\x90\\x98\\xeb\\x8b\\xa4</a></td>\\r\\n\\t\\t\\t\\t\\t\\t\\t\\t\\t\\t\\t\\t\\t<td class=\"left\">\\xec\\xa0\\x9c\\xec\\x9d\\xb4\\xec\\x8a\\xa8 \\xed\\x95\\xb8\\xec\\x8a\\xa8   </td>\\r\\n\\t\\t\\t\\t\\t\\t\\t\\t\\t\\t\\t\\t<td>2020-06-01</td>\\r\\n\\t\\t\\t\\t\\t\\t<td class=\"right\">15,800\\xec\\x9b\\x90</td>\\r\\n\\t\\t\\t\\t\\t</tr>\\r\\n\\r\\n\\t\\t\\t\\t\\t\\t\\t\\t\\t\\t<tr>\\r\\n\\t\\t\\t\\t\\t\\t<td class=\"brd_m\">\\xed\\x95\\x9c\\xeb\\xb9\\x9b\\xeb\\xaf\\xb8\\xeb\\x94\\x94\\xec\\x96\\xb4</td>\\r\\n\\t\\t\\t\\t\\t\\t<td class=\"left\"><a href=\"/store/books/look.php?p_code=B3669653041\">\\xed\\x95\\x84\\xec\\x88\\x98 \\xea\\xb3\\xb5\\xec\\x8b\\x9d\\xec\\x9c\\xbc\\xeb\\xa1\\x9c \\xed\\x95\\x98\\xeb\\xa3\\xa8\\xec\\x97\\x90 \\xed\\x95\\x98\\xeb\\x82\\x98\\xec\\x94\\xa9 \\xec\\xa0\\x95\\xeb\\xb3\\xb5\\xed\\x95\\x98\\xeb\\x8a\\x94 \\xec\\x97\\x91\\xec\\x85\\x80 \\xec\\x97\\x85\\xeb\\xac\\xb4 \\xea\\xb3\\xb5\\xeb\\x9e\\xb5\\xec\\xa7\\x91</a></td>\\r\\n\\t\\t\\t\\t\\t\\t\\t\\t\\t\\t\\t\\t\\t<td class=\"left\">\\xec\\xb5\\x9c\\xec\\xa4\\x80\\xec\\x84\\xa0   </td>\\r\\n\\t\\t\\t\\t\\t\\t\\t\\t\\t\\t\\t\\t<td>2020-06-01</td>\\r\\n\\t\\t\\t\\t\\t\\t<td class=\"right\">19,000\\xec\\x9b\\x90</td>\\r\\n\\t\\t\\t\\t\\t</tr>\\r\\n\\r\\n\\t\\t\\t\\t\\t\\t\\t\\t\\t\\t<tr>\\r\\n\\t\\t\\t\\t\\t\\t<td class=\"brd_a\">\\xed\\x95\\x9c\\xeb\\xb9\\x9b\\xec\\x95\\x84\\xec\\xb9\\xb4\\xeb\\x8d\\xb0\\xeb\\xaf\\xb8</td>\\r\\n\\t\\t\\t\\t\\t\\t<td class=\"left\"><a href=\"/store/books/look.php?p_code=B8200129293\">IT CookBook, CentOS \\xeb\\xa6\\xac\\xeb\\x88\\x85\\xec\\x8a\\xa4</a></td>\\r\\n\\t\\t\\t\\t\\t\\t\\t\\t\\t\\t\\t\\t\\t<td class=\"left\">\\xec\\x9d\\xb4\\xec\\xa2\\x85\\xec\\x9b\\x90   </td>\\r\\n\\t\\t\\t\\t\\t\\t\\t\\t\\t\\t\\t\\t<td>2020-05-30</td>\\r\\n\\t\\t\\t\\t\\t\\t<td class=\"right\">32,000\\xec\\x9b\\x90</td>\\r\\n\\t\\t\\t\\t\\t</tr>\\r\\n\\r\\n\\t\\t\\t\\t\\t\\t\\t\\t\\t\\t<tr>\\r\\n\\t\\t\\t\\t\\t\\t<td class=\"brd_b\">\\xed\\x95\\x9c\\xeb\\xb9\\x9b\\xeb\\xb9\\x84\\xec\\xa6\\x88</td>\\r\\n\\t\\t\\t\\t\\t\\t<td class=\"left\"><a href=\"/store/books/look.php?p_code=B8912615747\">2020 \\xeb\\xb6\\x80\\xeb\\x8f\\x99\\xec\\x82\\xb0 \\xec\\x84\\xb8\\xea\\xb8\\x88 \\xec\\x82\\xac\\xec\\x9a\\xa9\\xec\\x84\\xa4\\xeb\\xaa\\x85\\xec\\x84\\x9c</a></td>\\r\\n\\t\\t\\t\\t\\t\\t\\t\\t\\t\\t\\t\\t\\t<td class=\"left\">\\xea\\xb9\\x80\\xec\\x84\\xb1\\xec\\x9d\\xbc   </td>\\r\\n\\t\\t\\t\\t\\t\\t\\t\\t\\t\\t\\t\\t<td>2020-05-26</td>\\r\\n\\t\\t\\t\\t\\t\\t<td class=\"right\">11,200\\xec\\x9b\\x90</td>\\r\\n\\t\\t\\t\\t\\t</tr>\\r\\n\\r\\n\\t\\t\\t\\t\\t\\t\\t\\t\\t\\t<tr>\\r\\n\\t\\t\\t\\t\\t\\t<td class=\"brd_b\">\\xed\\x95\\x9c\\xeb\\xb9\\x9b\\xeb\\xb9\\x84\\xec\\xa6\\x88</td>\\r\\n\\t\\t\\t\\t\\t\\t<td class=\"left\"><a href=\"/store/books/look.php?p_code=B6465057927\">\\xeb\\x82\\xb4\\xeb\\x9f\\xac\\xed\\x8b\\xb0\\xeb\\xb8\\x8c \\xec\\x95\\xa4 \\xeb\\x84\\x98\\xeb\\xb2\\x84\\xec\\x8a\\xa4</a></td>\\r\\n\\t\\t\\t\\t\\t\\t\\t\\t\\t\\t\\t\\t\\t<td class=\"left\">\\xec\\x95\\xa0\\xec\\x8a\\xa4\\xec\\x9b\\x8c\\xeb\\x93\\x9c \\xeb\\x8b\\xa4\\xeb\\xaa\\xa8\\xeb\\x8b\\xa4\\xeb\\x9e\\x80   </td>\\r\\n\\t\\t\\t\\t\\t\\t\\t\\t\\t\\t\\t\\t<td>2020-05-20</td>\\r\\n\\t\\t\\t\\t\\t\\t<td class=\"right\">18,000\\xec\\x9b\\x90</td>\\r\\n\\t\\t\\t\\t\\t</tr>\\r\\n\\r\\n\\t\\t\\t\\t\\t\\t\\t\\t\\t\\t<tr>\\r\\n\\t\\t\\t\\t\\t\\t<td class=\"brd_e\">\\xed\\x95\\x9c\\xeb\\xb9\\x9b\\xec\\x97\\x90\\xeb\\x93\\x80</td>\\r\\n\\t\\t\\t\\t\\t\\t<td class=\"left\"><a href=\"/store/books/look.php?p_code=B1158791094\">\\xeb\\x98\\x91\\xeb\\x98\\x91\\xed\\x95\\x9c \\xeb\\x91\\x90\\xeb\\x87\\x8c \\xec\\x97\\xb0\\xec\\x8a\\xb5 : \\xec\\x84\\xb8\\xea\\xb3\\x84 \\xec\\x97\\xac\\xed\\x96\\x89 \\xeb\\x8b\\xa4\\xeb\\xa5\\xb8 \\xea\\xb7\\xb8\\xeb\\xa6\\xbc \\xec\\xb0\\xbe\\xea\\xb8\\xb0</a></td>\\r\\n\\t\\t\\t\\t\\t\\t\\t\\t\\t\\t\\t\\t\\t<td class=\"left\">\\xec\\xa0\\x9c\\xeb\\x8b\\x88 \\xec\\x97\\x90\\xec\\x8a\\xa4\\xed\\x94\\xbc\\xeb\\x85\\xb8\\xec\\x82\\xac   </td>\\r\\n\\t\\t\\t\\t\\t\\t\\t\\t\\t\\t\\t\\t<td>2020-05-15</td>\\r\\n\\t\\t\\t\\t\\t\\t<td class=\"right\">8,000\\xec\\x9b\\x90</td>\\r\\n\\t\\t\\t\\t\\t</tr>\\r\\n\\r\\n\\t\\t\\t\\t\\t\\t\\t\\t\\t\\t<tr>\\r\\n\\t\\t\\t\\t\\t\\t<td class=\"brd_e\">\\xed\\x95\\x9c\\xeb\\xb9\\x9b\\xec\\x97\\x90\\xeb\\x93\\x80</td>\\r\\n\\t\\t\\t\\t\\t\\t<td class=\"left\"><a href=\"/store/books/look.php?p_code=B3778443233\">\\xeb\\x98\\x91\\xeb\\x98\\x91\\xed\\x95\\x9c \\xeb\\x91\\x90\\xeb\\x87\\x8c \\xec\\x97\\xb0\\xec\\x8a\\xb5 : \\xec\\xa0\\x90 \\xec\\x9e\\x87\\xea\\xb8\\xb0</a></td>\\r\\n\\t\\t\\t\\t\\t\\t\\t\\t\\t\\t\\t\\t\\t<td class=\"left\">\\xec\\xa1\\xb0 \\xeb\\xac\\xb8   </td>\\r\\n\\t\\t\\t\\t\\t\\t\\t\\t\\t\\t\\t\\t<td>2020-05-15</td>\\r\\n\\t\\t\\t\\t\\t\\t<td class=\"right\">8,000\\xec\\x9b\\x90</td>\\r\\n\\t\\t\\t\\t\\t</tr>\\r\\n\\r\\n\\t\\t\\t\\t\\t\\t\\t\\t\\t\\t<tr>\\r\\n\\t\\t\\t\\t\\t\\t<td class=\"brd_b\">\\xed\\x95\\x9c\\xeb\\xb9\\x9b\\xeb\\xb9\\x84\\xec\\xa6\\x88</td>\\r\\n\\t\\t\\t\\t\\t\\t<td class=\"left\"><a href=\"/store/books/look.php?p_code=B2894027772\">\\xed\\x8f\\xac\\xec\\x8a\\xa4\\xed\\x8a\\xb8 \\xec\\xbd\\x94\\xeb\\xa1\\x9c\\xeb\\x82\\x98</a></td>\\r\\n\\t\\t\\t\\t\\t\\t\\t\\t\\t\\t\\t\\t\\t<td class=\"left\">\\xec\\x9e\\x84\\xec\\x8a\\xb9\\xea\\xb7\\x9c(\\xea\\xb5\\xad\\xec\\xa0\\x9c\\xea\\xb2\\xbd\\xec\\xa0\\x9c) \\xec\\x99\\xb8 6\\xeb\\xaa\\x85  </td>\\r\\n\\t\\t\\t\\t\\t\\t\\t\\t\\t\\t\\t\\t<td>2020-05-15</td>\\r\\n\\t\\t\\t\\t\\t\\t<td class=\"right\">18,000\\xec\\x9b\\x90</td>\\r\\n\\t\\t\\t\\t\\t</tr>\\r\\n\\r\\n\\t\\t\\t\\t\\t\\t\\t\\t\\t\\t<tr>\\r\\n\\t\\t\\t\\t\\t\\t<td class=\"brd_e\">\\xed\\x95\\x9c\\xeb\\xb9\\x9b\\xec\\x97\\x90\\xeb\\x93\\x80</td>\\r\\n\\t\\t\\t\\t\\t\\t<td class=\"left\"><a href=\"/store/books/look.php?p_code=B8852889897\">\\xeb\\x98\\x91\\xeb\\x98\\x91\\xed\\x95\\x9c \\xeb\\x91\\x90\\xeb\\x87\\x8c \\xec\\x97\\xb0\\xec\\x8a\\xb5 100 : \\xea\\xb3\\xb5\\xec\\xa3\\xbc, \\xeb\\x8f\\x99\\xeb\\xac\\xbc, \\xec\\x83\\x89\\xec\\xb9\\xa0 \\xec\\x84\\xb8\\xed\\x8a\\xb8</a></td>\\r\\n\\t\\t\\t\\t\\t\\t\\t\\t\\t\\t\\t\\t\\t<td class=\"left\">\\xeb\\xb0\\x9c\\xeb\\xa1\\xb1 \\xeb\\xaf\\xb8\\xeb\\x94\\x94\\xec\\x96\\xb4   </td>\\r\\n\\t\\t\\t\\t\\t\\t\\t\\t\\t\\t\\t\\t<td>2020-05-15</td>\\r\\n\\t\\t\\t\\t\\t\\t<td class=\"right\">18,000\\xec\\x9b\\x90</td>\\r\\n\\t\\t\\t\\t\\t</tr>\\r\\n\\r\\n\\t\\t\\t\\t\\t\\t\\t\\t\\t\\t<tr>\\r\\n\\t\\t\\t\\t\\t\\t<td class=\"brd_e\">\\xed\\x95\\x9c\\xeb\\xb9\\x9b\\xec\\x97\\x90\\xeb\\x93\\x80</td>\\r\\n\\t\\t\\t\\t\\t\\t<td class=\"left\"><a href=\"/store/books/look.php?p_code=B3895086770\">\\xeb\\x98\\x91\\xeb\\x98\\x91\\xed\\x95\\x9c \\xeb\\x91\\x90\\xeb\\x87\\x8c \\xec\\x97\\xb0\\xec\\x8a\\xb5 100 : \\xed\\x83\\x88\\xea\\xb2\\x83, \\xeb\\x8f\\x99\\xeb\\xac\\xbc, \\xec\\xb6\\x95\\xea\\xb5\\xac \\xec\\x84\\xb8\\xed\\x8a\\xb8</a></td>\\r\\n\\t\\t\\t\\t\\t\\t\\t\\t\\t\\t\\t\\t\\t<td class=\"left\">\\xeb\\xb0\\x9c\\xeb\\xa1\\xb1 \\xeb\\xaf\\xb8\\xeb\\x94\\x94\\xec\\x96\\xb4   </td>\\r\\n\\t\\t\\t\\t\\t\\t\\t\\t\\t\\t\\t\\t<td>2020-05-15</td>\\r\\n\\t\\t\\t\\t\\t\\t<td class=\"right\">18,000\\xec\\x9b\\x90</td>\\r\\n\\t\\t\\t\\t\\t</tr>\\r\\n\\r\\n\\t\\t\\t\\t\\t\\t\\t\\t\\t\\t<tr>\\r\\n\\t\\t\\t\\t\\t\\t<td class=\"brd_m\">\\xed\\x95\\x9c\\xeb\\xb9\\x9b\\xeb\\xaf\\xb8\\xeb\\x94\\x94\\xec\\x96\\xb4</td>\\r\\n\\t\\t\\t\\t\\t\\t<td class=\"left\"><a href=\"/store/books/look.php?p_code=B4731993755\">\\xeb\\xa7\\x8c\\xeb\\x93\\xa4\\xeb\\xa9\\xb4\\xec\\x84\\x9c \\xeb\\xb0\\xb0\\xec\\x9a\\xb0\\xeb\\x8a\\x94 \\xec\\x9b\\x8c\\xeb\\x93\\x9c\\xed\\x94\\x84\\xeb\\xa0\\x88\\xec\\x8a\\xa4 &#40;\\xea\\xb0\\x9c\\xec\\xa0\\x952\\xed\\x8c\\x90&#41;</a></td>\\r\\n\\t\\t\\t\\t\\t\\t\\t\\t\\t\\t\\t\\t\\t<td class=\"left\">\\xeb\\xb0\\x95\\xed\\x98\\x84\\xec\\x9a\\xb0   </td>\\r\\n\\t\\t\\t\\t\\t\\t\\t\\t\\t\\t\\t\\t<td>2020-05-11</td>\\r\\n\\t\\t\\t\\t\\t\\t<td class=\"right\">26,000\\xec\\x9b\\x90</td>\\r\\n\\t\\t\\t\\t\\t</tr>\\r\\n\\r\\n\\t\\t\\t\\t\\t\\t\\t\\t\\t\\t<tr>\\r\\n\\t\\t\\t\\t\\t\\t<td class=\"brd_m\">\\xed\\x95\\x9c\\xeb\\xb9\\x9b\\xeb\\xaf\\xb8\\xeb\\x94\\x94\\xec\\x96\\xb4</td>\\r\\n\\t\\t\\t\\t\\t\\t<td class=\"left\"><a href=\"/store/books/look.php?p_code=B2064300579\">\\xec\\x9d\\xb4\\xea\\xb2\\x83\\xec\\x9d\\xb4 MySQL\\xec\\x9d\\xb4\\xeb\\x8b\\xa4&#40;\\xea\\xb0\\x9c\\xec\\xa0\\x95\\xed\\x8c\\x90&#41;</a></td>\\r\\n\\t\\t\\t\\t\\t\\t\\t\\t\\t\\t\\t\\t\\t<td class=\"left\">\\xec\\x9a\\xb0\\xec\\x9e\\xac\\xeb\\x82\\xa8   </td>\\r\\n\\t\\t\\t\\t\\t\\t\\t\\t\\t\\t\\t\\t<td>2020-05-10</td>\\r\\n\\t\\t\\t\\t\\t\\t<td class=\"right\">32,000\\xec\\x9b\\x90</td>\\r\\n\\t\\t\\t\\t\\t</tr>\\r\\n\\r\\n\\t\\t\\t\\t\\t\\t\\t\\t\\t\\t<tr>\\r\\n\\t\\t\\t\\t\\t\\t<td class=\"brd_e\">\\xed\\x95\\x9c\\xeb\\xb9\\x9b\\xec\\x97\\x90\\xeb\\x93\\x80</td>\\r\\n\\t\\t\\t\\t\\t\\t<td class=\"left\"><a href=\"/store/books/look.php?p_code=B2926273381\">\\xeb\\xaf\\xb8\\xeb\\xa1\\x9c \\xeb\\xa7\\x88\\xec\\x8a\\xa4\\xed\\x84\\xb0 LEVEL2. \\xeb\\xaf\\xb8\\xec\\x8a\\xa4\\xed\\x84\\xb0\\xeb\\xa6\\xac \\xeb\\xaf\\xb8\\xeb\\xa1\\x9c</a></td>\\r\\n\\t\\t\\t\\t\\t\\t\\t\\t\\t\\t\\t\\t\\t<td class=\"left\">\\xeb\\xa7\\x88\\xed\\x81\\xac \\xec\\x9b\\x8c\\xec\\xbb\\xa4   </td>\\r\\n\\t\\t\\t\\t\\t\\t\\t\\t\\t\\t\\t\\t<td>2020-05-08</td>\\r\\n\\t\\t\\t\\t\\t\\t<td class=\"right\">8,000\\xec\\x9b\\x90</td>\\r\\n\\t\\t\\t\\t\\t</tr>\\r\\n\\r\\n\\t\\t\\t\\t\\t\\t\\t\\t\\t\\t<tr>\\r\\n\\t\\t\\t\\t\\t\\t<td class=\"brd_e\">\\xed\\x95\\x9c\\xeb\\xb9\\x9b\\xec\\x97\\x90\\xeb\\x93\\x80</td>\\r\\n\\t\\t\\t\\t\\t\\t<td class=\"left\"><a href=\"/store/books/look.php?p_code=B8703048424\">\\xeb\\xaf\\xb8\\xeb\\xa1\\x9c \\xeb\\xa7\\x88\\xec\\x8a\\xa4\\xed\\x84\\xb0 LEVEL3. \\xed\\x81\\xac\\xeb\\xa0\\x88\\xec\\x9d\\xb4\\xec\\xa7\\x80 \\xeb\\xaf\\xb8\\xeb\\xa1\\x9c</a></td>\\r\\n\\t\\t\\t\\t\\t\\t\\t\\t\\t\\t\\t\\t\\t<td class=\"left\">\\xec\\x82\\xac\\xec\\x9d\\xb4\\xeb\\xa8\\xbc \\xec\\x9b\\x8c\\xeb\\x93\\x9c   </td>\\r\\n\\t\\t\\t\\t\\t\\t\\t\\t\\t\\t\\t\\t<td>2020-05-08</td>\\r\\n\\t\\t\\t\\t\\t\\t<td class=\"right\">8,000\\xec\\x9b\\x90</td>\\r\\n\\t\\t\\t\\t\\t</tr>\\r\\n\\r\\n\\t\\t\\t\\t\\t\\t\\t\\t\\t\\t<tr>\\r\\n\\t\\t\\t\\t\\t\\t<td class=\"brd_m\">\\xed\\x95\\x9c\\xeb\\xb9\\x9b\\xeb\\xaf\\xb8\\xeb\\x94\\x94\\xec\\x96\\xb4</td>\\r\\n\\t\\t\\t\\t\\t\\t<td class=\"left\"><a href=\"/store/books/look.php?p_code=B6867862379\">\\xed\\x9a\\x8c\\xec\\x82\\xac\\xec\\x97\\x90\\xec\\x84\\x9c \\xeb\\xb0\\x94\\xeb\\xa1\\x9c \\xed\\x86\\xb5\\xed\\x95\\x98\\xeb\\x8a\\x94 \\xed\\x8c\\x8c\\xec\\x9b\\x8c\\xed\\x8f\\xac\\xec\\x9d\\xb8\\xed\\x8a\\xb8 FOR STARTERS</a></td>\\r\\n\\t\\t\\t\\t\\t\\t\\t\\t\\t\\t\\t\\t\\t<td class=\"left\">\\xec\\x9d\\xb4\\xed\\x99\\x94\\xec\\xa7\\x84   </td>\\r\\n\\t\\t\\t\\t\\t\\t\\t\\t\\t\\t\\t\\t<td>2020-05-07</td>\\r\\n\\t\\t\\t\\t\\t\\t<td class=\"right\">15,000\\xec\\x9b\\x90</td>\\r\\n\\t\\t\\t\\t\\t</tr>\\r\\n\\r\\n\\t\\t\\t\\t\\t\\t\\t\\t\\t\\t<tr>\\r\\n\\t\\t\\t\\t\\t\\t<td class=\"brd_m\">\\xed\\x95\\x9c\\xeb\\xb9\\x9b\\xeb\\xaf\\xb8\\xeb\\x94\\x94\\xec\\x96\\xb4</td>\\r\\n\\t\\t\\t\\t\\t\\t<td class=\"left\"><a href=\"/store/books/look.php?p_code=B7033438574\">\\xed\\x95\\xb8\\xec\\xa6\\x88\\xec\\x98\\xa8 \\xeb\\xa8\\xb8\\xec\\x8b\\xa0\\xeb\\x9f\\xac\\xeb\\x8b\\x9d&#40;2\\xed\\x8c\\x90&#41;</a></td>\\r\\n\\t\\t\\t\\t\\t\\t\\t\\t\\t\\t\\t\\t\\t<td class=\"left\">\\xec\\x98\\xa4\\xeb\\xa0\\x90\\xeb\\xa6\\xac\\xec\\x95\\x99 \\xec\\xa0\\x9c\\xeb\\xa1\\xb1(Aur\\xc3\\xa9lien G\\xc3\\xa9ron)   </td>\\r\\n\\t\\t\\t\\t\\t\\t\\t\\t\\t\\t\\t\\t<td>2020-05-04</td>\\r\\n\\t\\t\\t\\t\\t\\t<td class=\"right\">55,000\\xec\\x9b\\x90</td>\\r\\n\\t\\t\\t\\t\\t</tr>\\r\\n\\r\\n\\t\\t\\t\\t\\t\\t\\t\\t\\t\\t<tr>\\r\\n\\t\\t\\t\\t\\t\\t<td class=\"brd_m\">\\xed\\x95\\x9c\\xeb\\xb9\\x9b\\xeb\\xaf\\xb8\\xeb\\x94\\x94\\xec\\x96\\xb4</td>\\r\\n\\t\\t\\t\\t\\t\\t<td class=\"left\"><a href=\"/store/books/look.php?p_code=B6796857324\">\\xeb\\xb0\\xb0\\xec\\x9b\\x8c\\xec\\x84\\x9c \\xeb\\xb0\\x94\\xeb\\xa1\\x9c \\xec\\x93\\xb0\\xeb\\x8a\\x94 \\xec\\x8a\\xa4\\xed\\x94\\x84\\xeb\\xa7\\x81 \\xed\\x94\\x84\\xeb\\xa0\\x88\\xec\\x9e\\x84\\xec\\x9b\\x8c\\xed\\x81\\xac</a></td>\\r\\n\\t\\t\\t\\t\\t\\t\\t\\t\\t\\t\\t\\t\\t<td class=\"left\">\\xec\\x95\\xa0\\xec\\x8b\\x9c\\xec\\x8b\\x9c \\xec\\x82\\xac\\xeb\\xa6\\xb0 \\xec\\x99\\xb8 1\\xeb\\xaa\\x85  </td>\\r\\n\\t\\t\\t\\t\\t\\t\\t\\t\\t\\t\\t\\t<td>2020-05-01</td>\\r\\n\\t\\t\\t\\t\\t\\t<td class=\"right\">50,000\\xec\\x9b\\x90</td>\\r\\n\\t\\t\\t\\t\\t</tr>\\r\\n\\r\\n\\t\\t\\t\\t\\t\\t\\t\\t\\t\\t<tr>\\r\\n\\t\\t\\t\\t\\t\\t<td class=\"brd_m\">\\xed\\x95\\x9c\\xeb\\xb9\\x9b\\xeb\\xaf\\xb8\\xeb\\x94\\x94\\xec\\x96\\xb4</td>\\r\\n\\t\\t\\t\\t\\t\\t<td class=\"left\"><a href=\"/store/books/look.php?p_code=B4068078736\">BPF\\xeb\\xa1\\x9c \\xeb\\xa6\\xac\\xeb\\x88\\x85\\xec\\x8a\\xa4 \\xea\\xb4\\x80\\xec\\xb8\\xa1 \\xea\\xb0\\x80\\xeb\\x8a\\xa5\\xec\\x84\\xb1 \\xed\\x96\\xa5\\xec\\x83\\x81\\xed\\x95\\x98\\xea\\xb8\\xb0</a></td>\\r\\n\\t\\t\\t\\t\\t\\t\\t\\t\\t\\t\\t\\t\\t<td class=\"left\">\\xeb\\x8d\\xb0\\xec\\x9d\\xb4\\xeb\\xb9\\x84\\xeb\\x93\\x9c \\xec\\xb9\\xbc\\xeb\\x9d\\xbc\\xeb\\xb2\\xa0\\xeb\\x9d\\xbc \\xec\\x99\\xb8 1\\xeb\\xaa\\x85  </td>\\r\\n\\t\\t\\t\\t\\t\\t\\t\\t\\t\\t\\t\\t<td>2020-05-01</td>\\r\\n\\t\\t\\t\\t\\t\\t<td class=\"right\">22,000\\xec\\x9b\\x90</td>\\r\\n\\t\\t\\t\\t\\t</tr>\\r\\n\\r\\n\\t\\t\\t\\t\\t\\t\\t\\t\\t\\t<tr>\\r\\n\\t\\t\\t\\t\\t\\t<td class=\"brd_b\">\\xed\\x95\\x9c\\xeb\\xb9\\x9b\\xeb\\xb9\\x84\\xec\\xa6\\x88</td>\\r\\n\\t\\t\\t\\t\\t\\t<td class=\"left\"><a href=\"/store/books/look.php?p_code=B9883631255\">4\\xec\\xb0\\xa8 \\xec\\x9d\\xb8\\xea\\xb0\\x84</a></td>\\r\\n\\t\\t\\t\\t\\t\\t\\t\\t\\t\\t\\t\\t\\t<td class=\"left\">\\xec\\x9d\\xb4\\xeb\\xaf\\xb8\\xec\\x86\\x94 \\xec\\x99\\xb8 1\\xeb\\xaa\\x85  </td>\\r\\n\\t\\t\\t\\t\\t\\t\\t\\t\\t\\t\\t\\t<td>2020-04-30</td>\\r\\n\\t\\t\\t\\t\\t\\t<td class=\"right\">16,800\\xec\\x9b\\x90</td>\\r\\n\\t\\t\\t\\t\\t</tr>\\r\\n\\r\\n\\t\\t\\t\\t\\t\\t\\t\\t\\t\\t<tr>\\r\\n\\t\\t\\t\\t\\t\\t<td class=\"brd_b\">\\xed\\x95\\x9c\\xeb\\xb9\\x9b\\xeb\\xb9\\x84\\xec\\xa6\\x88</td>\\r\\n\\t\\t\\t\\t\\t\\t<td class=\"left\"><a href=\"/store/books/look.php?p_code=B9839456081\">\\xed\\x95\\xa0\\xec\\xa7\\x9d \\xec\\x8b\\xac\\xeb\\xa6\\xac\\xed\\x95\\x99</a></td>\\r\\n\\t\\t\\t\\t\\t\\t\\t\\t\\t\\t\\t\\t\\t<td class=\"left\">\\xec\\x9d\\xb4\\xed\\x95\\x9c\\xeb\\x82\\x98   </td>\\r\\n\\t\\t\\t\\t\\t\\t\\t\\t\\t\\t\\t\\t<td>2020-04-30</td>\\r\\n\\t\\t\\t\\t\\t\\t<td class=\"right\">15,800\\xec\\x9b\\x90</td>\\r\\n\\t\\t\\t\\t\\t</tr>\\r\\n\\r\\n\\t\\t\\t\\t\\t\\t\\t\\t\\t\\r\\n\\t\\t\\t\\t</tbody>\\r\\n\\t\\t\\t</table>\\r\\n\\t\\t</div>\\r\\n\\t\\t<!-- //\\xec\\xb1\\x85 \\xeb\\xa6\\xac\\xec\\x8a\\xa4\\xed\\x8a\\xb8 -->\\r\\n\\t\\t\\r\\n\\t\\t<!-- \\xed\\x8e\\x98\\xec\\x9d\\xb4\\xec\\xa7\\x95 -->\\r\\n\\t\\t<div class=\"paginate bdr_no\">\\r\\n\\t\\t\\t<strong>1</strong>\\n<a href=\"/store/books/full_book_list.html?page=2&srt=p_pub_date&brand=\">2</a>\\n<a href=\"/store/books/full_book_list.html?page=3&srt=p_pub_date&brand=\">3</a>\\n<a href=\"/store/books/full_book_list.html?page=4&srt=p_pub_date&brand=\">4</a>\\n<a href=\"/store/books/full_book_list.html?page=5&srt=p_pub_date&brand=\">5</a>\\n<a href=\"/store/books/full_book_list.html?page=6&srt=p_pub_date&brand=\">6</a>\\n<a href=\"/store/books/full_book_list.html?page=7&srt=p_pub_date&brand=\">7</a>\\n<a href=\"/store/books/full_book_list.html?page=8&srt=p_pub_date&brand=\">8</a>\\n<a href=\"/store/books/full_book_list.html?page=9&srt=p_pub_date&brand=\">9</a>\\n<a href=\"/store/books/full_book_list.html?page=10&srt=p_pub_date&brand=\">10</a>\\n<a href=\"/store/books/full_book_list.html?page=11&srt=p_pub_date&brand=\" class=\"next\"><span>&gt;</span></a>\\n\\t\\t</div>\\r\\n\\t\\t<!-- //\\xed\\x8e\\x98\\xec\\x9d\\xb4\\xec\\xa7\\x95 -->\\r\\n\\t\\t\\r\\n\\t\\t<!-- \\xec\\xa0\\x84\\xec\\xb2\\xb4 \\xeb\\xaa\\xa9\\xeb\\xa1\\x9d \\xeb\\x8b\\xa4\\xec\\x9a\\xb4\\xeb\\xa1\\x9c\\xeb\\x93\\x9c \\xeb\\xb2\\x84\\xed\\x8a\\xbc-->\\r\\n\\t\\t<div class=\"btn_full_list mt40\"><a href=\"javascript:document.frm.submit();\">\\xec\\xa0\\x84\\xec\\xb2\\xb4 \\xeb\\xaa\\xa9\\xeb\\xa1\\x9d \\xeb\\x8b\\xa4\\xec\\x9a\\xb4\\xeb\\xa1\\x9c\\xeb\\x93\\x9c</a></div>\\r\\n\\t\\r\\n\\t</div>\\r\\n\\t<!-- //\\xec\\xa0\\x84\\xec\\xb2\\xb4\\xeb\\x8f\\x84\\xec\\x84\\x9c\\xeb\\xaa\\xa9\\xeb\\xa1\\x9d wrap -->\\t\\r\\n\\t\\r\\n</div>\\r\\n<!-- //Contents -->\\r\\n<form name=\"frm\" id=\"frm\" method=\"post\" action=\"./full_book_list_down.php\">\\r\\n<input type=\"hidden\" name=\"brand\" id=\"brand\" value=\"\">\\r\\n<input type=\"hidden\" name=\"srt\" id=\"srt\" value=\"p_pub_date\">\\r\\n</form>\\r\\n<!-- Footer -->\\r\\n<footer>\\r\\n  <!-- \\xea\\xb3\\xb5\\xec\\xa7\\x80\\xec\\x82\\xac\\xed\\x95\\xad -->\\r\\n  <div class=\"foot_notice\">\\r\\n        <span>\\r\\n      <a href=\"https://www.hanbit.co.kr/support/notice_list.html\"><strong>\\xea\\xb3\\xb5\\xec\\xa7\\x80\\xec\\x82\\xac\\xed\\x95\\xad</strong></a> >\\r\\n    </span>\\r\\n              <a href=\"/support/notice_view.html?hnb_idx=300\">[\\xec\\xb1\\x84\\xec\\x9a\\xa9\\xea\\xb3\\xb5\\xea\\xb3\\xa0]  IT \\xea\\xb4\\x80\\xeb\\xa0\\xa8 \\xeb\\x8f\\x84\\xec\\x84\\x9c\\xeb\\xa5\\xbc \\xed\\x95\\xa8\\xea\\xbb\\x98 \\xeb\\xa7\\x8c\\xeb\\x93\\xa4\\xec\\x96\\xb4\\xeb\\x82\\x98\\xea\\xb0\\x88 \\xec\\x9d\\xb8\\xed\\x84\\xb4\\xec\\x9d\\x84 \\xeb\\xaa\\xa8\\xec\\x8b\\xad\\xeb\\x8b\\x88\\xeb\\x8b\\xa4.</a>\\r\\n            </div>\\r\\n  <!-- //\\xea\\xb3\\xb5\\xec\\xa7\\x80\\xec\\x82\\xac\\xed\\x95\\xad -->\\r\\n  \\r\\n  <div class=\"foot_contents\">\\r\\n    <!-- \\xed\\x95\\x98\\xeb\\x8b\\xa8 \\xeb\\xa9\\x94\\xeb\\x89\\xb4 -->\\r\\n    <div class=\"foot_menu\">\\r\\n      <!-- added by coffin -->\\r\\n            <ul>\\r\\n        <li><a href=\"https://www.hanbit.co.kr/publisher/index.html\" target=\"_blank\">\\xed\\x9a\\x8c\\xec\\x82\\xac\\xec\\x86\\x8c\\xea\\xb0\\x9c</a>(<a href=\"https://www.hanbit.co.kr/publisher/index.html\" target=\"_blank\">KOR</a> | <a href=\"https://www.hanbit.co.kr/publisher/index.html?lang=e\" target=\"_blank\">ENG</a>) &#149; <a href=\"https://www.hanbit.co.kr/publisher/contact.html?lang=k\" target=\"_blank\">\\xec\\x95\\xbd\\xeb\\x8f\\x84</a></li>\\r\\n        <li><a href=\"https://www.hanbit.co.kr/publisher/write.html\" target=\"_blank\">\\xea\\xb8\\xb0\\xed\\x9a\\x8d \\xeb\\xb0\\x8f \\xec\\x9b\\x90\\xea\\xb3\\xa0 \\xeb\\xaa\\xa8\\xec\\xa7\\x91</a></li>\\r\\n        <li><a href=\"https://www.hanbit.co.kr/publisher/foreignrights.html\" target=\"_blank\">FOREIGN RIGHTS</a></li>\\r\\n        <li><a href=\"https://www.hanbit.co.kr/member/use_agreement.html\">\\xec\\x9d\\xb4\\xec\\x9a\\xa9\\xec\\x95\\xbd\\xea\\xb4\\x80</a></li>\\r\\n        <li><a href=\"https://www.hanbit.co.kr/member/privacy_policy.html\"><strong>\\xea\\xb0\\x9c\\xec\\x9d\\xb8\\xec\\xa0\\x95\\xeb\\xb3\\xb4\\xec\\xb7\\xa8\\xea\\xb8\\x89\\xeb\\xb0\\xa9\\xec\\xb9\\xa8</strong></a></li>\\r\\n        <li><a href=\"https://www.hanbit.co.kr/sitemap/sitemap.html\">\\xec\\x82\\xac\\xec\\x9d\\xb4\\xed\\x8a\\xb8\\xeb\\xa7\\xb5</a></li>\\r\\n      </ul>\\r\\n          </div>\\r\\n    <!-- //\\xed\\x95\\x98\\xeb\\x8b\\xa8 \\xeb\\xa9\\x94\\xeb\\x89\\xb4 -->\\r\\n\\r\\n    <!-- SNS -->\\r\\n    <div class=\"foot_sns\">\\r\\n            \\r\\n      <ul>\\r\\n        <li class=\"foot_facebook\"><a href=\"https://www.facebook.com/hanbitmedia\" target=\"_blank\"><span>\\xed\\x8e\\x98\\xec\\x9d\\xb4\\xec\\x8a\\xa4\\xeb\\xb6\\x81</span></a></li>\\r\\n        <!-- <li class=\"foot_googleplus\"><a href=\"https://plus.google.com/u/0/+HanbitCoKr/posts\" target=\"_blank\"><span>\\xea\\xb5\\xac\\xea\\xb8\\x80\\xed\\x94\\x8c\\xeb\\x9f\\xac\\xec\\x8a\\xa4</span></a></li> -->\\r\\n        <li class=\"foot_twitter\"><a href=\"https://twitter.com/hanbit\" target=\"_blank\"><span>\\xed\\x8a\\xb8\\xec\\x9c\\x84\\xed\\x84\\xb0</span></a></li>\\r\\n        <li class=\"foot_youtube\"><a href=\"https://www.youtube.com/user/HanbitMedia93\" target=\"_blank\"><span>\\xec\\x9c\\xa0\\xed\\x8a\\x9c\\xeb\\xb8\\x8c</span></a></li>\\r\\n        <li class=\"foot_bolg\"><a href=\"http://blog.hanbit.co.kr/\" target=\"_blank\"><span>\\xeb\\xb8\\x94\\xeb\\xa1\\x9c\\xea\\xb7\\xb8</span></a></li>\\r\\n        <li class=\"foot_naverpost\"><a href=\"https://m.post.naver.com/hanbitstory\" target=\"_blank\"><span>\\xeb\\x84\\xa4\\xec\\x9d\\xb4\\xeb\\xb2\\x84\\xed\\x8f\\xac\\xec\\x8a\\xa4\\xed\\x8a\\xb8</span></a></li>\\r\\n      </ul>\\r\\n      \\r\\n      \\r\\n        <fieldset class=\"foot_srch\">\\r\\n          <legend>\\xed\\x95\\x98\\xeb\\x8b\\xa8 \\xea\\xb2\\x80\\xec\\x83\\x89\\xec\\x98\\x81\\xec\\x97\\xad</legend>\\r\\n          <input title=\"\\xea\\xb2\\x80\\xec\\x83\\x89\\xec\\x96\\xb4\" class=\"foot_srch_keyword\" accesskey=\"s\" type=\"text\" value=\"\"  id=\"foot_keyword_str\" style=\"font-size:16px;\">\\r\\n          <input type=\"button\" alt=\"\" class=\"foot_srch_btn\" onclick=\"foot_sch_smit();\" style=\"cursor: pointer;\">\\r\\n        </fieldset>\\r\\n\\r\\n      \\r\\n      <script>\\r\\n        // \\xea\\xb2\\x80\\xec\\x83\\x89 \\xeb\\xa6\\xac\\xec\\x8a\\xa4\\xed\\x8a\\xb8  \\r\\n        $(document).ready(function() {       \\r\\n          $(\\'#foot_keyword_str\\').keyup(function(e) {\\r\\n            if (e.keyCode == 13) \\r\\n              foot_sch_smit();\\r\\n          });        \\r\\n        });\\r\\n\\r\\n        function foot_sch_smit(){            \\r\\n          var foot_keyword_str = $(\"#foot_keyword_str\").val();      \\r\\n          var searchUrl = \"/search/search_list.html?keyword=\"+foot_keyword_str;\\r\\n\\r\\n          if(!foot_keyword_str){\\r\\n            alert(\"\\xea\\xb2\\x80\\xec\\x83\\x89\\xec\\x96\\xb4\\xeb\\xa5\\xbc \\xec\\x9e\\x85\\xeb\\xa0\\xa5\\xed\\x95\\xb4\\xec\\xa3\\xbc\\xec\\x84\\xb8\\xec\\x9a\\x94\");\\r\\n            $(\"#foot_keyword_str\").focus();\\r\\n          }else{\\r\\n            location.href = searchUrl;\\r\\n          }\\r\\n        }\\r\\n      </script>  \\r\\n      \\r\\n    </div>\\r\\n    <!-- //SNS -->\\r\\n    \\r\\n    <!-- \\xed\\x95\\x9c\\xeb\\xb9\\x9b \\xec\\xa0\\x95\\xeb\\xb3\\xb4 -->\\r\\n    <div class=\"foot_about\">\\r\\n      <div class=\"foot_about_area\">\\r\\n        \\r\\n\\r\\n        <p><strong>\\xed\\x95\\x9c\\xeb\\xb9\\x9b\\xeb\\xaf\\xb8\\xeb\\x94\\x94\\xec\\x96\\xb4\\xe3\\x88\\x9c &#149; \\xed\\x95\\x9c\\xeb\\xb9\\x9b\\xec\\x95\\x84\\xec\\xb9\\xb4\\xeb\\x8d\\xb0\\xeb\\xaf\\xb8\\xe3\\x88\\x9c &#149; \\xed\\x95\\x9c\\xeb\\xb9\\x9b\\xeb\\xb9\\x84\\xec\\xa6\\x88\\xe3\\x88\\x9c</strong></p>\\r\\n        <p>(03785) \\xec\\x84\\x9c\\xec\\x9a\\xb8 \\xec\\x84\\x9c\\xeb\\x8c\\x80\\xeb\\xac\\xb8\\xea\\xb5\\xac \\xec\\x97\\xb0\\xed\\x9d\\xac\\xeb\\xa1\\x9c2\\xea\\xb8\\xb8 62</p>\\r\\n        <p>EMAIL : support@hanbit.co.kr</p>\\r\\n        <p>\\xeb\\x8c\\x80\\xed\\x91\\x9c\\xec\\x9d\\xb4\\xec\\x82\\xac : \\xea\\xb9\\x80\\xed\\x83\\x9c\\xed\\x97\\x8c</p>\\r\\n        <p>\\xec\\x82\\xac\\xec\\x97\\x85\\xec\\x9e\\x90\\xeb\\x93\\xb1\\xeb\\xa1\\x9d\\xeb\\xb2\\x88\\xed\\x98\\xb8 : 220-81-05665 <a href=\"http://www.ftc.go.kr/bizCommPop.do?wrkr_no=2208105665\" target=\"_blank\">[\\xed\\x99\\x95\\xec\\x9d\\xb8]</a></p>\\r\\n        <p>\\xed\\x86\\xb5\\xec\\x8b\\xa0\\xed\\x8c\\x90\\xeb\\xa7\\xa4\\xec\\x97\\x85\\xec\\x8b\\xa0\\xea\\xb3\\xa0 : 2017-\\xec\\x84\\x9c\\xec\\x9a\\xb8\\xec\\x84\\x9c\\xeb\\x8c\\x80\\xeb\\xac\\xb8-0671\\xed\\x98\\xb8</p>\\r\\n        <p>\\xed\\x98\\xb8\\xec\\x8a\\xa4\\xed\\x8c\\x85\\xec\\xa0\\x9c\\xea\\xb3\\xb5\\xec\\x9e\\x90 : (\\xec\\xa3\\xbc)\\xeb\\x88\\x84\\xeb\\xa6\\xac\\xed\\x98\\xb8\\xec\\x8a\\xa4\\xed\\x8c\\x85</p>\\r\\n        \\r\\n\\r\\n      </div>\\r\\n    </div>\\r\\n    <!-- //\\xed\\x95\\x9c\\xeb\\xb9\\x9b \\xec\\xa0\\x95\\xeb\\xb3\\xb4 -->\\r\\n  </div>\\r\\n  \\r\\n  <div class=\"copyright\">&copy;1993-2020 Hanbit Publishing Network, Inc. All rights reserved.</div>\\r\\n</footer>\\r\\n<!-- //\\xed\\x91\\xb8\\xed\\x84\\xb0 -->\\r\\n<div class=\"foot_download_btn\"><a href=\"https://www.hanbit.co.kr/support/supplement_list.html\">\\xec\\x9e\\x90\\xeb\\xa3\\x8c\\xec\\x8b\\xa4</a></div>\\r\\n\\r\\n<!-- \\xea\\xb3\\xb5\\xed\\x86\\xb5 JS \\xed\\x98\\xb8\\xec\\xb6\\x9c -->\\r\\n<script type=\"text/javascript\" src=\"/js/common.js\"></script>\\r\\n<!-- //\\xea\\xb3\\xb5\\xed\\x86\\xb5 JS \\xed\\x98\\xb8\\xec\\xb6\\x9c -->\\r\\n\\r\\n</body>\\r\\n</html>\\r\\n'"
      ]
     },
     "execution_count": 4,
     "metadata": {},
     "output_type": "execute_result"
    }
   ],
   "source": [
    "f_html = f.read()\n",
    "f_html"
   ]
  },
  {
   "cell_type": "code",
   "execution_count": 5,
   "metadata": {},
   "outputs": [
    {
     "data": {
      "text/plain": [
       "200"
      ]
     },
     "execution_count": 5,
     "metadata": {},
     "output_type": "execute_result"
    }
   ],
   "source": [
    "f.status # 송수신 성공"
   ]
  },
  {
   "cell_type": "code",
   "execution_count": 6,
   "metadata": {},
   "outputs": [
    {
     "data": {
      "text/plain": [
       "'text/html; charset=UTF-8'"
      ]
     },
     "execution_count": 6,
     "metadata": {},
     "output_type": "execute_result"
    }
   ],
   "source": [
    "f.getheader('Content-Type')"
   ]
  },
  {
   "cell_type": "markdown",
   "metadata": {},
   "source": [
    "# 필요한 부분 추출"
   ]
  },
  {
   "cell_type": "code",
   "execution_count": 7,
   "metadata": {},
   "outputs": [],
   "source": [
    "from bs4 import BeautifulSoup"
   ]
  },
  {
   "cell_type": "code",
   "execution_count": 8,
   "metadata": {},
   "outputs": [
    {
     "data": {
      "text/plain": [
       "<!DOCTYPE html>\n",
       "\n",
       "<html lang=\"ko\">\n",
       "<head>\n",
       "<!--[if lte IE 8]>\n",
       "<script>\n",
       "  location.replace('/support/explorer_upgrade.html');\n",
       "</script>\n",
       "<![endif]-->\n",
       "<meta charset=\"utf-8\"/>\n",
       "<title>한빛출판네트워크</title>\n",
       "<link href=\"https://www.hanbit.co.kr/images/common/hanbit.ico\" rel=\"shortcut icon\"/>\n",
       "<meta content=\"IE=Edge\" http-equiv=\"X-UA-Compatible\"/>\n",
       "<meta content=\"website\" property=\"og:type\"/>\n",
       "<meta content=\"한빛출판네트워크\" property=\"og:title\"/>\n",
       "<meta content=\"더 넓은 세상, 더 나은 미래를 위한 아시아 출판 네트워크 :: 한빛미디어, 한빛아카데미, 한빛비즈, 한빛라이프, 한빛에듀\" property=\"og:description\"/>\n",
       "<meta content=\"https://www.hanbit.co.kr/images/hanbitpubnet_logo.jpg\" property=\"og:image\"/>\n",
       "<meta content=\"https://www.hanbit.co.kr/store/books/full_book_list.html\" property=\"og:url\"/>\n",
       "<link href=\"https://www.hanbit.co.kr/store/books/full_book_list.html\" rel=\"canonical\">\n",
       "<meta content=\"한빛미디어,한빛아카데미,한빛비즈,한빛라이프,한빛에듀,리얼타임,대관서비스,책,출판사,IT전문서,IT활용서,대학교재,경제경영,어린이/유아,실용/여행,전자책,자격증,교육,세미나,강의,ebook,정보교과서\" name=\"keywords\"/>\n",
       "<meta content=\"더 넓은 세상, 더 나은 미래를 위한 아시아 출판 네트워크 :: 한빛미디어, 한빛아카데미, 한빛비즈, 한빛라이프, 한빛에듀\" name=\"description\"/>\n",
       "<meta content=\"width=device-width,initial-scale=1.0,minimum-scale=1.0,maximum-scale=1.0\" name=\"viewport\"/>\n",
       "<meta content=\"width=1260\" name=\"viewport\"/>\n",
       "<meta content=\"yes\" name=\"apple-mobile-web-app-capable\">\n",
       "<meta content=\"01c29ed1852aecca7a48ac0c3e0869627bc512d8\" name=\"naver-site-verification\">\n",
       "<link href=\"/css/common.css?20190625102532\" rel=\"stylesheet\"/>\n",
       "<link href=\"/css/hover.css\" media=\"all\" rel=\"stylesheet\"/>\n",
       "<link href=\"/js/jquery.raty.css\" rel=\"stylesheet\">\n",
       "<script src=\"/js/jquery-latest.js\" type=\"text/javascript\"></script>\n",
       "<script src=\"/js/jquery-ui.js\" type=\"text/javascript\"></script>\n",
       "<script src=\"/js/jquery.event.drag-1.5.min.js\" type=\"text/javascript\"></script>\n",
       "<script src=\"/js/jquery.touchSlider.js\" type=\"text/javascript\"></script>\n",
       "<script src=\"/js/jquery.raty.js\" type=\"text/javascript\"></script>\n",
       "<script src=\"/js/main.js\" type=\"text/javascript\"></script>\n",
       "<script src=\"/lib/cheditor/cheditor.js\" type=\"text/javascript\"></script>\n",
       "<script src=\"/js/jquery.ui.datepicker-ko.js\" type=\"text/javascript\"></script>\n",
       "<script src=\"/js/engine.js\" type=\"text/javascript\"></script>\n",
       "<script src=\"/js/vue.js\" type=\"text/javascript\"></script>\n",
       "<!-- Google Analytics -->\n",
       "<script>\n",
       "(function(i,s,o,g,r,a,m){i['GoogleAnalyticsObject']=r;i[r]=i[r]||function(){\n",
       "(i[r].q=i[r].q||[]).push(arguments)},i[r].l=1*new Date();a=s.createElement(o),\n",
       "m=s.getElementsByTagName(o)[0];a.async=1;a.src=g;m.parentNode.insertBefore(a,m)\n",
       "})(window,document,'script','//www.google-analytics.com/analytics.js','ga');\n",
       "ga('create', 'UA-47080738-1', 'hanbit.co.kr');\n",
       "ga('require', 'linkid', 'linkid.js');\n",
       "ga('send', 'pageview');\n",
       "</script>\n",
       "<!-- Google Analytics -->\n",
       "<!-- Facebook Pixel Code -->\n",
       "<script>\n",
       "  !function(f,b,e,v,n,t,s)\n",
       "  {if(f.fbq)return;n=f.fbq=function(){n.callMethod?\n",
       "  n.callMethod.apply(n,arguments):n.queue.push(arguments)};\n",
       "  if(!f._fbq)f._fbq=n;n.push=n;n.loaded=!0;n.version='2.0';\n",
       "  n.queue=[];t=b.createElement(e);t.async=!0;\n",
       "  t.src=v;s=b.getElementsByTagName(e)[0];\n",
       "  s.parentNode.insertBefore(t,s)}(window, document,'script',\n",
       "  'https://connect.facebook.net/en_US/fbevents.js');\n",
       "  fbq('init', '406459623338891');\n",
       "  fbq('track', 'PageView');\n",
       "</script>\n",
       "<noscript><img height=\"1\" src=\"https://www.facebook.com/tr?id=406459623338891&amp;ev=PageView&amp;noscript=1\" style=\"display:none\" width=\"1\"/></noscript>\n",
       "<!-- End Facebook Pixel Code -->\n",
       "<!-- Kakao Pixel Code -->\n",
       "<script charset=\"UTF-8\" src=\"//t1.daumcdn.net/adfit/static/kp.js\" type=\"text/javascript\"></script>\n",
       "<script type=\"text/javascript\">\n",
       "  kakaoPixel('3011392806152551233').pageView();\n",
       "</script>\n",
       "<!-- //Kakao Pixel Code -->\n",
       "</link></meta></meta></link></head>\n",
       "<body>\n",
       "<!-- Google Tag Manager (noscript) -->\n",
       "<noscript><iframe height=\"0\" src=\"https://www.googletagmanager.com/ns.html?id=GTM-W9D5PM3\" style=\"display:none;visibility:hidden\" width=\"0\"></iframe></noscript>\n",
       "<!-- End Google Tag Manager (noscript) -->\n",
       "<link href=\"/css/layout-hanbit.css?20191130\" rel=\"stylesheet\"/>\n",
       "<link href=\"/css/layout-member.css\" rel=\"stylesheet\"/>\n",
       "<link href=\"/css/layout-network.css\" rel=\"stylesheet\"/>\n",
       "<link href=\"/css/layout-store.css\" rel=\"stylesheet\"/>\n",
       "<link href=\"/css/layout-myhanbit.css\" rel=\"stylesheet\"/>\n",
       "<link href=\"/css/layout-event.css\" rel=\"stylesheet\"/>\n",
       "<!-- 메뉴 바로가기 -->\n",
       "<div id=\"quick_skip_menu\">\n",
       "<a href=\"#gnb\" onclick=\"document.getElementById('gnb').tabIndex = -1;document.getElementById('gnb').focus();return false;\"><span>메뉴 바로가기</span></a>\n",
       "<a href=\"#top_search\" onclick=\"view_hover('main_search_area','','show'), document.getElementById('top_search').tabIndex = -1;document.getElementById('top_search').focus();return false;\"><span>검색 및 카테고리 바로가기</span></a>\n",
       "<a href=\"#container\" onclick=\"document.getElementById('container').tabIndex = -1;document.getElementById('container').focus();return false;\"><span>본문 바로가기</span></a>\n",
       "</div>\n",
       "<!-- //메뉴 바로가기 -->\n",
       "<!-- header -->\n",
       "<header>\n",
       "<!-- top menu -->\n",
       "<nav>\n",
       "<div id=\"wrap_nav\">\n",
       "<ul class=\"top_brand\">\n",
       "<li><a href=\"https://www.hanbit.co.kr/index.html\" name=\"hanbit_network\"><span>HOME</span></a></li>\n",
       "<li><a href=\"https://www.hanbit.co.kr/media/\">한빛미디어</a></li>\n",
       "<li><a href=\"https://www.hanbit.co.kr/academy/\">한빛아카데미</a></li>\n",
       "<li><a href=\"https://www.hanbit.co.kr/biz/\">한빛비즈</a></li>\n",
       "<li><a href=\"https://www.hanbit.co.kr/life/\">한빛라이프</a></li>\n",
       "<li><a href=\"https://www.hanbit.co.kr/edu/\">한빛에듀</a></li>\n",
       "<li><a href=\"https://www.hanbit.co.kr/realtime/\">리얼타임</a></li>\n",
       "<li><a href=\"https://www.hanbit.co.kr/textbook/\" target=\"_blank\">한빛정보교과서</a></li>\n",
       "<li><a href=\"https://www.hanbit.co.kr/rent/\" target=\"_blank\">한빛대관서비스</a></li>\n",
       "</ul>\n",
       "<ul class=\"top_menu\">\n",
       "<li><a class=\"login\" href=\"https://www.hanbit.co.kr/member/login.html\">로그인</a></li>\n",
       "<li><a class=\"join\" href=\"https://www.hanbit.co.kr/member/member_agree.html\">회원가입</a></li>\n",
       "<li><a class=\"myhanbit\" href=\"https://www.hanbit.co.kr/myhanbit/myhanbit.html\">마이한빛</a></li>\n",
       "<li><a class=\"cart\" href=\"https://www.hanbit.co.kr/myhanbit/cart.html\">장바구니</a></li>\n",
       "<!-- <li class=\"top_menu_store\"><a href=\"https://www.hanbit.co.kr/store/store_submain.html\">STORE</a></li> -->\n",
       "</ul>\n",
       "</div>\n",
       "</nav> <!-- //top menu -->\n",
       "<div id=\"wrap_gnb\">\n",
       "<!-- logo -->\n",
       "<h1><a href=\"https://www.hanbit.co.kr/index.html\">한빛출판네트워크</a></h1>\n",
       "<!-- //logo -->\n",
       "<!-- Menu -->\n",
       "<div id=\"gnb\" name=\"gnb\">\n",
       "<ul>\n",
       "<li><a class=\"\" href=\"https://www.hanbit.co.kr/brand/brand_submain.html\">BRAND</a></li>\n",
       "<li><a class=\"\" href=\"https://www.hanbit.co.kr/channel/channel_submain.html\">Channel.H</a></li>\n",
       "<li><a class=\"curr\" href=\"https://www.hanbit.co.kr/store/store_submain.html\">STORE</a></li>\n",
       "<li><a class=\"\" href=\"https://www.hanbit.co.kr/support/help_info.html\">SUPPORT</a></li>\n",
       "<li><a class=\"\" href=\"https://www.hanbit.co.kr/event/current/current_event_list.html\">EVENT</a></li>\n",
       "<li class=\"search\" id=\"top_search\"><a href=\"javascript:;\" onclick=\"view_hover('main_search_area','','show'); $('#keyword_str').focus();\"><span>SERACH</span></a></li>\n",
       "</ul>\n",
       "</div>\n",
       "<!-- //Menu -->\n",
       "<!-- lnb -->\n",
       "<div class=\"lnb\" style=\"top:92px;\">\n",
       "<div class=\"lnb_area\">\n",
       "<!-- BRAND -->\n",
       "<ul class=\"lnb_depth1_category\">\n",
       "<li onmouseout=\"view_hover('category_store','','hide')\" onmouseover=\"view_hover('category_store','','show')\"><a class=\"gnb_category\" href=\"#\" onfocus=\"view_hover('category_store','','show')\">카테고리</a>\n",
       "<ul id=\"category_store\">\n",
       "<li onmouseout=\"view_hover('category_store1','','hide')\" onmouseover=\"view_hover('category_store1','','show')\"><a href=\"/store/books/category_list.html?cate_cd=001\" onfocus=\"view_hover('category_store1','','show')\">IT/모바일</a>\n",
       "<ul id=\"category_store1\">\n",
       "<li><a href=\"/store/books/category_list.html?cate_cd=001001\">프로그래밍</a></li>\n",
       "<li><a href=\"/store/books/category_list.html?cate_cd=001002\">웹</a></li>\n",
       "<li><a href=\"/store/books/category_list.html?cate_cd=001003\">모바일/스마트기기</a></li>\n",
       "<li><a href=\"/store/books/category_list.html?cate_cd=001013\">데이터베이스</a></li>\n",
       "<li><a href=\"/store/books/category_list.html?cate_cd=001005\">운영체제</a></li>\n",
       "<li><a href=\"/store/books/category_list.html?cate_cd=001014\">하드웨어</a></li>\n",
       "<li><a href=\"/store/books/category_list.html?cate_cd=001015\">시스템/네트워크</a></li>\n",
       "<li><a href=\"/store/books/category_list.html?cate_cd=001016\">보안</a></li>\n",
       "<li><a href=\"/store/books/category_list.html?cate_cd=001009\">비즈니스/문화</a></li>\n",
       "<li><a href=\"/store/books/category_list.html?cate_cd=001010\">게임</a></li>\n",
       "<li><a href=\"/store/books/category_list.html?cate_cd=001017\">IT에세이</a></li>\n",
       "<li><a href=\"/store/books/category_list.html?cate_cd=001012\">자격증</a></li>\n",
       "<li><a href=\"/store/books/category_list.html?cate_cd=001018\">인공지능/데이터과학</a></li>\n",
       "</ul></li> <li onmouseout=\"view_hover('category_store2','','hide')\" onmouseover=\"view_hover('category_store2','','show')\"><a href=\"/store/books/category_list.html?cate_cd=002\" onfocus=\"view_hover('category_store2','','show')\">MAKE</a>\n",
       "<ul id=\"category_store2\">\n",
       "<li><a href=\"/store/books/category_list.html?cate_cd=002001\">Make 매거진</a></li>\n",
       "<li><a href=\"/store/books/category_list.html?cate_cd=002002\">Make 프로젝트 북</a></li>\n",
       "</ul></li> <li onmouseout=\"view_hover('category_store3','','hide')\" onmouseover=\"view_hover('category_store3','','show')\"><a href=\"/store/books/category_list.html?cate_cd=003\" onfocus=\"view_hover('category_store3','','show')\">IT활용</a>\n",
       "<ul id=\"category_store3\">\n",
       "<li><a href=\"/store/books/category_list.html?cate_cd=003001\">오피스/OA</a></li>\n",
       "<li><a href=\"/store/books/category_list.html?cate_cd=003002\">그래픽/멀티미디어</a></li>\n",
       "<li><a href=\"/store/books/category_list.html?cate_cd=003003\">사진/예술</a></li>\n",
       "<li><a href=\"/store/books/category_list.html?cate_cd=003004\">컴퓨터입문/IT교양</a></li>\n",
       "</ul></li> <li onmouseout=\"view_hover('category_store4','','hide')\" onmouseover=\"view_hover('category_store4','','show')\"><a href=\"/store/books/category_list.html?cate_cd=004\" onfocus=\"view_hover('category_store4','','show')\">대학교재</a>\n",
       "<ul id=\"category_store4\">\n",
       "<li><a href=\"/store/books/category_list.html?cate_cd=004007\">컴퓨터공학</a></li>\n",
       "<li><a href=\"/store/books/category_list.html?cate_cd=004008\">정보통신/전기/전자</a></li>\n",
       "<li><a href=\"/store/books/category_list.html?cate_cd=004003\">수학/과학/공학</a></li>\n",
       "<li><a href=\"/store/books/category_list.html?cate_cd=004004\">프로그래밍/웹</a></li>\n",
       "<li><a href=\"/store/books/category_list.html?cate_cd=004005\">그래픽/디자인</a></li>\n",
       "<li><a href=\"/store/books/category_list.html?cate_cd=004006\">OA/활용</a></li>\n",
       "<li><a href=\"/store/books/category_list.html?cate_cd=004009\">수험서/자격증</a></li>\n",
       "</ul></li> <li onmouseout=\"view_hover('category_store5','','hide')\" onmouseover=\"view_hover('category_store5','','show')\"><a href=\"/store/books/category_list.html?cate_cd=006\" onfocus=\"view_hover('category_store5','','show')\">실용서</a>\n",
       "<ul id=\"category_store5\">\n",
       "<li><a href=\"/store/books/category_list.html?cate_cd=006001\">취미/실용</a></li>\n",
       "<li><a href=\"/store/books/category_list.html?cate_cd=006002\">여행</a></li>\n",
       "<li><a href=\"/store/books/category_list.html?cate_cd=006003\">건강</a></li>\n",
       "<li><a href=\"/store/books/category_list.html?cate_cd=006004\">유아/육아</a></li>\n",
       "</ul></li> <li onmouseout=\"view_hover('category_store6','','hide')\" onmouseover=\"view_hover('category_store6','','show')\"><a href=\"/store/books/category_list.html?cate_cd=007\" onfocus=\"view_hover('category_store6','','show')\">경제/경영/인문</a>\n",
       "<ul id=\"category_store6\">\n",
       "<li><a href=\"/store/books/category_list.html?cate_cd=007001\">경제/경영</a></li>\n",
       "<li><a href=\"/store/books/category_list.html?cate_cd=007002\">자기계발</a></li>\n",
       "<li><a href=\"/store/books/category_list.html?cate_cd=007003\">인문/교양</a></li>\n",
       "<li><a href=\"/store/books/category_list.html?cate_cd=007004\">마케팅</a></li>\n",
       "<li><a href=\"/store/books/category_list.html?cate_cd=007005\">에세이</a></li>\n",
       "</ul></li> <li onmouseout=\"view_hover('category_store7','','hide')\" onmouseover=\"view_hover('category_store7','','show')\"><a href=\"/store/books/category_list.html?cate_cd=008\" onfocus=\"view_hover('category_store7','','show')\">유아/어린이/초등</a>\n",
       "<ul id=\"category_store7\">\n",
       "<li><a href=\"/store/books/category_list.html?cate_cd=008001\">4~6세</a></li>\n",
       "<li><a href=\"/store/books/category_list.html?cate_cd=008002\">5~7세</a></li>\n",
       "<li><a href=\"/store/books/category_list.html?cate_cd=008003\">예비초등</a></li>\n",
       "<li><a href=\"/store/books/category_list.html?cate_cd=008004\">초등교과연계 1~12영역</a></li>\n",
       "<li><a href=\"/store/books/category_list.html?cate_cd=008005\">초등 전학년</a></li>\n",
       "</ul></li>\n",
       "<!-- 항상 노출 메뉴 -->\n",
       "<li class=\"gnb_category_series\"><a href=\"https://www.hanbit.co.kr/store/books/series_list.html\">시리즈</a></li>\n",
       "<li class=\"gnb_category_reservations\"><a href=\"https://www.hanbit.co.kr/store/books/reservations_list.html\">예약도서</a></li>\n",
       "<!--\n",
       "          <li class=\"gnb_category_full\"><a href=\"https://www.hanbit.co.kr/store/books/full_book_list.html\">전체도서목록</a></li>\n",
       "          -->\n",
       "<!--/li-->\n",
       "</ul>\n",
       "</li></ul>\n",
       "<!--/li-->\n",
       "<!--/ul-->\n",
       "<ul class=\"lnb_depth1\">\n",
       "<li><a href=\"https://www.hanbit.co.kr/store/books/new_book_list.html\">새로나온 책</a></li><span>l</span>\n",
       "<li><a href=\"https://www.hanbit.co.kr/store/books/bestseller_list.html\">베스트셀러</a></li><span>l</span>\n",
       "<li><a href=\"https://www.hanbit.co.kr/store/books/full_book_list.html\">전체도서목록</a></li><span>l</span>\n",
       "<li><a href=\"https://www.hanbit.co.kr/store/education/edu_list.html\">교육</a></li><span>l</span>\n",
       "<li><a href=\"https://www.hanbit.co.kr/store/item/item_list.html\">Item &amp; Maker Shed</a></li>\n",
       "</ul>\n",
       "<!-- SUPPORT -->\n",
       "</div>\n",
       "</div>\n",
       "<!--// lnb -->\n",
       "</div>\n",
       "</header>\n",
       "<!-- //header -->\n",
       "<!-- 메인 검색 및 카테고리 영역 -->\n",
       "<div class=\"fixed\" id=\"main_search_area\" style=\"display:none;\">\n",
       "<div class=\"msa_wrap\">\n",
       "<!-- 검색 -->\n",
       "<div class=\"msa_srch_wrap\">\n",
       "<form onsubmit=\"return false;\">\n",
       "<fieldset class=\"msa_srch_field\">\n",
       "<legend>한빛출판네트워크 검색</legend>\n",
       "<input @input=\"typeKeyword\" accesskey=\"s\" autocomplete=\"off\" class=\"srch_keyword\" id=\"keyword_str\" name=\"keyword_str\" title=\"검색어\" type=\"text\" v-model=\"keyword\"/>\n",
       "<input @click=\"clickSearch\" class=\"srch_btn\" style=\"cursor:pointer;\" type=\"submit\"/>\n",
       "</fieldset>\n",
       "</form>\n",
       "</div>\n",
       "<!-- //검색 -->\n",
       "<!-- ① 인기검색어 -->\n",
       "<div class=\"msa_srch_polular\" v-if=\"showPopularKeyword === true\">\n",
       "<h2 class=\"tit\">인기 검색어 <span>(최근 1개월간)</span></h2>\n",
       "<div class=\"popula_box\">\n",
       "<ul class=\"left\">\n",
       "<li v-for=\"keyword in leftPopularKeywordList\">\n",
       "<a :class=\"keyword.bold\" @click=\"clickPopularKeyword(keyword)\">\n",
       "                  {{ keyword.number }} {{ keyword.bookName }}\n",
       "              </a>\n",
       "</li>\n",
       "</ul>\n",
       "<ul class=\"right\">\n",
       "<li v-for=\"keyword in rightPopularKeywordList\">\n",
       "<a :class=\"keyword.bold\" @click=\"clickPopularKeyword(keyword)\">\n",
       "                  {{ keyword.number }} {{ keyword.bookName }}\n",
       "              </a>\n",
       "</li>\n",
       "</ul>\n",
       "</div>\n",
       "</div>\n",
       "<!-- ① 인기검색어 -->\n",
       "<!-- ② 검색결과/검색서제스쳔 -->\n",
       "<div class=\"msa_srch_suggestion\" v-if=\"showPopularKeyword === false\">\n",
       "<div class=\"sugg_left\" v-if=\"bookList.length !== 0\">\n",
       "<h3 class=\"tit\">BOOK</h3>\n",
       "<ul class=\"books_list\">\n",
       "<li @mouseover=\"mouseOverBook(book.id)\" v-for=\"book in bookList\"><a @click=\"clickBookKeyword(book)\"><p v-html=\"book.name\"></p></a></li>\n",
       "</ul>\n",
       "</div>\n",
       "<div class=\"sugg_right\">\n",
       "<div class=\"sugg_book\" v-if=\"bookList.length !== 0\">\n",
       "<table class=\"sugg_book_detail\">\n",
       "<tr>\n",
       "<td class=\"cover\">\n",
       "<a @click=\"clickBookKeyword(bookSummary)\">\n",
       "<img :src=\"bookSummary.imgUrl\" class=\"b_cover\"/>\n",
       "</a>\n",
       "</td>\n",
       "<td class=\"draft\">\n",
       "<a @click=\"clickBookKeyword(bookSummary)\" class=\"b_title\"><strong v-html=\"bookSummary.originName\"></strong></a>\n",
       "<p class=\"b_int\">\n",
       "                {{ bookSummary.author }} 지음<br/>\n",
       "                {{ bookSummary.publishingCompany }} | {{ bookSummary.date }}\n",
       "                </p>\n",
       "<p class=\"b_type\">\n",
       "<span>{{ bookSummary.bookType }}</span>\n",
       "</p>\n",
       "</td>\n",
       "</tr>\n",
       "</table>\n",
       "</div>\n",
       "<div class=\"sugg_edu\" v-if=\"educationList.length !== 0\">\n",
       "<h3 class=\"tit\">EDUCATION</h3>\n",
       "<ul class=\"edu_list\">\n",
       "<li v-for=\"education in educationList\">• <a @click=\"clickEducationKeyword(education)\"><span v-html=\"education.title\"></span></a></li>\n",
       "</ul>\n",
       "</div>\n",
       "<div class=\"sugg_cont\" v-if=\"contentList.length !== 0\">\n",
       "<h3 class=\"tit\">CONTENTS</h3>\n",
       "<ul class=\"cont_list\">\n",
       "<li v-for=\"content in contentList\">• <a @click=\"clickContentKeyword(content)\"><span v-html=\"content.title\"></span></a></li>\n",
       "</ul>\n",
       "</div>\n",
       "</div>\n",
       "</div>\n",
       "<!-- //② 검색결과/검색서제스쳔 -->\n",
       "<!-- 닫기 -->\n",
       "<div class=\"msa_wrap_close\">\n",
       "<a href=\"javascript:;\" onclick=\"view_hover('main_search_area','','hide')\">닫기</a>\n",
       "</div>\n",
       "<!-- //닫기 -->\n",
       "</div>\n",
       "</div>\n",
       "<!-- old // 구현시 필요없으면 삭제해도 됩니다.\n",
       "<script type=\"text/javascript\">\n",
       "  function sch_smit(){\n",
       "    if(!$.trim($(\"#keyword_str\").val()).length) {\n",
       "      alert(\"검색어를 입력해주세요\");\n",
       "      $(\"#keyword_str\").focus();\n",
       "      return false;\n",
       "    }else{\n",
       "      $(\"#gnbsearchfrm\").attr(\"action\",\"/search/search_list.html\");\n",
       "      $(\"#gnbsearchfrm\").submit(); \n",
       "    }\n",
       "  }\n",
       "</script>\n",
       "-->\n",
       "<script type=\"text/javascript\">\n",
       "    \"use strict\";\n",
       "\n",
       "    var common_top_search_vue = new Vue({\n",
       "        el: '#main_search_area',\n",
       "        data: {\n",
       "            //검색엔진 URL\n",
       "            searchProxyURL: \"https://search.hanbit.co.kr\",\n",
       "            //인기 검색어 show 여부\n",
       "            showPopularKeyword: true,\n",
       "            //사용자 검색 키워드\n",
       "            keyword: '',\n",
       "            //인기 검색어 리스트\n",
       "            popularKeywordList: [],\n",
       "            // 인기 검색어 리스트 (왼쪽)\n",
       "            leftPopularKeywordList: [],\n",
       "            // 인기 검색어 리스트 (오른쪽)\n",
       "            rightPopularKeywordList: [],\n",
       "            // 자동완성에서의 책 리스트\n",
       "            bookList: [],\n",
       "            // 자동완성에서의 책 정보\n",
       "            bookSummary: {\n",
       "                'imgUrl': '',\n",
       "                'link': '',\n",
       "                'name': '',\n",
       "                'author': '',\n",
       "                'publishingCompany': '',\n",
       "                'date': '',\n",
       "                'bookType': ''\n",
       "            },\n",
       "            //에듀케이션 리스트\n",
       "            educationList: [],\n",
       "            //컨텐츠 리스트\n",
       "            contentList: []\n",
       "        },\n",
       "        created: function created() {\n",
       "            // 인기 검색어 조회\n",
       "            this.getPopularKeyword();\n",
       "        },\n",
       "        methods: {\n",
       "            /**\n",
       "             * 사용자가 검색 키워드를 입력할때 발생하는 이벤트\n",
       "             */\n",
       "            typeKeyword: function typeKeyword() {\n",
       "                var self = this;\n",
       "                var keyword = $(\"#keyword_str\").val();\n",
       "\n",
       "                if (keyword.length !== 0) {\n",
       "                    //자동완성어\n",
       "                    this.findAutocompleteResult(keyword);\n",
       "                } else {\n",
       "                    //인기검색어\n",
       "                    self.showPopularKeyword = true;\n",
       "                }\n",
       "            },\n",
       "\n",
       "            /**\n",
       "             * 인기검색어 조회\n",
       "             */\n",
       "            getPopularKeyword: function getPopularKeyword() {\n",
       "                var self = this;\n",
       "                this.popularKeywordList = [];\n",
       "                $.get(this.searchProxyURL + \"/querylog/popularKeyword\").done(function (data) {\n",
       "                    if (data != null) {\n",
       "                        self.drawPopularKeyword(data);\n",
       "                    }\n",
       "                });\n",
       "            },\n",
       "\n",
       "            /**\n",
       "             * 인기 검색어 그리기\n",
       "             */\n",
       "            drawPopularKeyword: function drawPopularKeyword(popularBooks) {\n",
       "                var self = this;\n",
       "                popularBooks.forEach(function (item) {\n",
       "                    var popularBook = {\n",
       "                        bookName: item.keyword\n",
       "                    };\n",
       "                    self.popularKeywordList.push(popularBook);\n",
       "                });\n",
       "                var number = 0;\n",
       "\n",
       "                for (var _iterator = this.popularKeywordList, _isArray = Array.isArray(_iterator), _i = 0, _iterator = _isArray ? _iterator : _iterator[Symbol.iterator]();;) {\n",
       "                    var _ref;\n",
       "\n",
       "                    if (_isArray) {\n",
       "                        if (_i >= _iterator.length) break;\n",
       "                        _ref = _iterator[_i++];\n",
       "                    } else {\n",
       "                        _i = _iterator.next();\n",
       "                        if (_i.done) break;\n",
       "                        _ref = _i.value;\n",
       "                    }\n",
       "\n",
       "                    var keyword = _ref;\n",
       "                    number = number + 1;\n",
       "                    keyword.number = number.toString().length < 2 ? \"0\" + number : number;\n",
       "\n",
       "                    if (number > 5) {\n",
       "                        keyword.direction = \"right\";\n",
       "                        self.rightPopularKeywordList.push(keyword);\n",
       "                    } else {\n",
       "                        keyword.direction = \"left\";\n",
       "\n",
       "                        if (number < 4) {\n",
       "                            keyword.bold = 'active';\n",
       "                        }\n",
       "\n",
       "                        self.leftPopularKeywordList.push(keyword);\n",
       "                    }\n",
       "                }\n",
       "            },\n",
       "\n",
       "            /**\n",
       "             * 자동완성 검색 결과\n",
       "             */\n",
       "            findAutocompleteResult: function findAutocompleteResult(keyword) {\n",
       "                var self = this;\n",
       "                var param = {\n",
       "                    q: keyword,\n",
       "                    types: \"education,book,contents\",\n",
       "                    fq: keyword\n",
       "                };\n",
       "                $.post(this.searchProxyURL + \"/autocomplete/search\", param).done(function (data) {\n",
       "                    if (data != null) {\n",
       "                        var bookResult = data.booksResults;\n",
       "                        self.changeBookList(keyword, bookResult);\n",
       "                        var contentResult = data.contentsResults;\n",
       "                        self.changeContentList(keyword, contentResult);\n",
       "                        var educationResult = data.educationResults;\n",
       "                        self.changeEducationList(keyword, educationResult);\n",
       "                    }\n",
       "                });\n",
       "                this.showPopularKeyword = false;\n",
       "            },\n",
       "\n",
       "            /**\n",
       "             * 자동완성어에서 BOOK 부분에서 마우스를 올렸을 시에 발생하는 이벤트\n",
       "             * @param bookId\n",
       "             */\n",
       "            mouseOverBook: function mouseOverBook(bookId) {\n",
       "                var currentBook = this.bookList.filter(function (book) {\n",
       "                    return book.id === bookId;\n",
       "                });\n",
       "                this.changeBookSummary(currentBook[0]);\n",
       "            },\n",
       "\n",
       "            /**\n",
       "             * 책 소개 변경\n",
       "             * @param book\n",
       "             */\n",
       "            changeBookSummary: function changeBookSummary(book) {\n",
       "                if (book !== {}) {\n",
       "                    this.bookSummary.name = book.name;\n",
       "                    this.bookSummary.originName = book.originName;\n",
       "                    this.bookSummary.author = book.author;\n",
       "                    this.bookSummary.bookType = book.bookType;\n",
       "                    this.bookSummary.imgUrl = book.imgUrl;\n",
       "                    this.bookSummary.link = book.link;\n",
       "                    this.bookSummary.publishingCompany = book.publishingCompany;\n",
       "                    this.bookSummary.date = book.date;\n",
       "                    this.bookSummary.bookType = book.bookType;\n",
       "                }\n",
       "            },\n",
       "\n",
       "            /**\n",
       "             * BOOK 리스트 변경\n",
       "             */\n",
       "            changeBookList: function changeBookList(keyword, bookResultList) {\n",
       "                var self = this;\n",
       "                self.bookList = [];\n",
       "                var index = 0;\n",
       "\n",
       "                if (bookResultList != null) {\n",
       "                    for (var _iterator2 = bookResultList, _isArray2 = Array.isArray(_iterator2), _i2 = 0, _iterator2 = _isArray2 ? _iterator2 : _iterator2[Symbol.iterator]();;) {\n",
       "                        var _ref2;\n",
       "\n",
       "                        if (_isArray2) {\n",
       "                            if (_i2 >= _iterator2.length) break;\n",
       "                            _ref2 = _iterator2[_i2++];\n",
       "                        } else {\n",
       "                            _i2 = _iterator2.next();\n",
       "                            if (_i2.done) break;\n",
       "                            _ref2 = _i2.value;\n",
       "                        }\n",
       "\n",
       "                        var result = _ref2;\n",
       "\n",
       "                        if (index < 10) {\n",
       "                            var book = {};\n",
       "                            book.id = result.code;\n",
       "                            book.originName = result.title;\n",
       "                            book.name = JSON.parse(JSON.stringify(self.replaceHighlightWord(result.title, keyword)));\n",
       "                            book.link = result.code;\n",
       "                            book.imgUrl = self.getBookImageURL(result.code);\n",
       "                            book.author = result.author;\n",
       "                            book.publishingCompany = result.brand;\n",
       "                            book.date = result.pubDate;\n",
       "                            book.bookType = result.bookType;\n",
       "                            self.bookList.push(book); //책 미리보기 변경\n",
       "\n",
       "                            self.changeBookSummary(self.bookList[0]);\n",
       "                        }\n",
       "                    }\n",
       "                } else {\n",
       "                    self.initBookSummary();\n",
       "                }\n",
       "            },\n",
       "\n",
       "            /**\n",
       "             * 책 이미지 주소 가져오기\n",
       "             */\n",
       "            getBookImageURL: function getBookImageURL(bookCode) {\n",
       "                var imgURL;\n",
       "\n",
       "                if (bookCode.substr(0, 1) === \"E\") {\n",
       "                    imgURL = '/data/ebook/' + bookCode + '_m.jpg';\n",
       "                } else {\n",
       "                    imgURL = '/data/books/' + bookCode + \"_m.jpg\";\n",
       "                }\n",
       "\n",
       "                return imgURL;\n",
       "            },\n",
       "\n",
       "            /**\n",
       "             * 검색 결과가 없을 경우 책 미리보기 초기화\n",
       "             */\n",
       "            initBookSummary: function initBookSummary() {\n",
       "                this.bookSummary = {\n",
       "                    'imgUrl': '',\n",
       "                    'link': '',\n",
       "                    'name': '',\n",
       "                    'author': '',\n",
       "                    'publishingCompany': '',\n",
       "                    'date': '',\n",
       "                    'bookType': ''\n",
       "                };\n",
       "            },\n",
       "\n",
       "            /**\n",
       "             * education 리스트 변경\n",
       "             */\n",
       "            changeEducationList: function changeEducationList(keyword, educationResultList) {\n",
       "                var self = this;\n",
       "                self.educationList = [];\n",
       "                var index = 0;\n",
       "\n",
       "                if (educationResultList != null) {\n",
       "                    for (var _iterator3 = educationResultList, _isArray3 = Array.isArray(_iterator3), _i3 = 0, _iterator3 = _isArray3 ? _iterator3 : _iterator3[Symbol.iterator]();;) {\n",
       "                        var _ref3;\n",
       "\n",
       "                        if (_isArray3) {\n",
       "                            if (_i3 >= _iterator3.length) break;\n",
       "                            _ref3 = _iterator3[_i3++];\n",
       "                        } else {\n",
       "                            _i3 = _iterator3.next();\n",
       "                            if (_i3.done) break;\n",
       "                            _ref3 = _i3.value;\n",
       "                        }\n",
       "\n",
       "                        var result = _ref3;\n",
       "\n",
       "                        if (index < 3) {\n",
       "                            var content = {};\n",
       "                            content.title = JSON.parse(JSON.stringify(self.replaceHighlightWord(result.title, keyword)));\n",
       "                            content.link = result.code;\n",
       "                            self.educationList.push(content);\n",
       "                            index = index + 1;\n",
       "                        }\n",
       "                    }\n",
       "                }\n",
       "            },\n",
       "\n",
       "            /**\n",
       "             * contents 리스트 변경\n",
       "             */\n",
       "            changeContentList: function changeContentList(keyword, contentResult) {\n",
       "                var self = this;\n",
       "                self.contentList = [];\n",
       "                var index = 0;\n",
       "\n",
       "                if (contentResult != null) {\n",
       "                    for (var _iterator4 = contentResult, _isArray4 = Array.isArray(_iterator4), _i4 = 0, _iterator4 = _isArray4 ? _iterator4 : _iterator4[Symbol.iterator]();;) {\n",
       "                        var _ref4;\n",
       "\n",
       "                        if (_isArray4) {\n",
       "                            if (_i4 >= _iterator4.length) break;\n",
       "                            _ref4 = _iterator4[_i4++];\n",
       "                        } else {\n",
       "                            _i4 = _iterator4.next();\n",
       "                            if (_i4.done) break;\n",
       "                            _ref4 = _i4.value;\n",
       "                        }\n",
       "\n",
       "                        var result = _ref4;\n",
       "\n",
       "                        if (index < 3) {\n",
       "                            var content = {};\n",
       "                            content.title = JSON.parse(JSON.stringify(self.replaceHighlightWord(result.title, keyword)));\n",
       "                            content.link = result.code;\n",
       "                            self.contentList.push(content);\n",
       "                            index = index + 1;\n",
       "                        }\n",
       "                    }\n",
       "                }\n",
       "            },\n",
       "\n",
       "            /**\n",
       "             * 하이라이트 표시\n",
       "             */\n",
       "            replaceHighlightWord: function replaceHighlightWord(str, highlightKeyword) {\n",
       "                var replaceHighlightKeyword = highlightKeyword.replace(/[^a-z0-9가-힣_ ]/gi, '');\n",
       "                var regEx = new RegExp(replaceHighlightKeyword, \"gi\");\n",
       "                str = str.replace(regEx, function (a) {\n",
       "                    return '<span class=\"keysel\">' + a + '</span>';\n",
       "                });\n",
       "                return str;\n",
       "            },\n",
       "\n",
       "            /**\n",
       "             * 검색 버튼 클릭 시\n",
       "             * @param e\n",
       "             */\n",
       "            clickSearch: function clickSearch(e) {\n",
       "                if (!this.keyword || this.keyword.length === 0) {\n",
       "                    alert(\"검색어를 입력하세요\");\n",
       "                    $(\"#keyword_str\").focus();\n",
       "                    e.preventDefault();\n",
       "                } else {\n",
       "                    location.href = \"/search/search_list.html?keyword=\" + this.keyword;\n",
       "                }\n",
       "            },\n",
       "\n",
       "            /**\n",
       "             * 인기 검색어 클릭시\n",
       "             * @param book\n",
       "             */\n",
       "            clickPopularKeyword: function clickPopularKeyword(book) {\n",
       "                var searchKeyword = book.bookName;\n",
       "                location.href = \"/search/search_list.html?keyword=\" + searchKeyword;\n",
       "            },\n",
       "\n",
       "            /**\n",
       "             * 책 검색어 클릭시 책 상세로 이동\n",
       "             * @param book\n",
       "             */\n",
       "            clickBookKeyword: function clickBookKeyword(book) {\n",
       "                location.href = \"/store/books/look.php?p_code=\" + book.link;\n",
       "            },\n",
       "\n",
       "            /**\n",
       "             * 교육 클릭시 교육 상세로 이동\n",
       "             * @param education\n",
       "             */\n",
       "            clickEducationKeyword: function clickEducationKeyword(education) {\n",
       "                location.href = \"/store/education/edu_view.html?p_code=\" + education.link;\n",
       "            },\n",
       "\n",
       "            /**\n",
       "             * 컨텐츠 클릭시 컨텐츠 상세로 이동\n",
       "             * @param contents\n",
       "             */\n",
       "            clickContentKeyword: function clickContentKeyword(content) {\n",
       "                location.href = \"/channel/category/category_view.html?cms_code=\" + content.link;\n",
       "            }\n",
       "        }\n",
       "    });\n",
       "</script>\n",
       "<!-- //메인 검색 및 카테고리 영역 -->\n",
       "<!-- Contents -->\n",
       "<div id=\"container\">\n",
       "<div class=\"docu_title\">\n",
       "<h2>전체도서목록</h2>\n",
       "</div>\n",
       "<!-- 전체도서목록 wrap -->\n",
       "<div class=\"full_book_list_wrap\">\n",
       "<!-- 브랜드 정렬 버튼 -->\n",
       "<div class=\"btn_brand_area\">\n",
       "<ul>\n",
       "<li class=\"curr\">\n",
       "<a href=\"/store/books/full_book_list.html\">\n",
       "<span class=\"name_full\">전체</span>\n",
       "</a>\n",
       "</li>\n",
       "<li>\n",
       "<a href=\"/store/books/full_book_list.html?brand=HM\">\n",
       "<span class=\"name_abbr\">M</span>\n",
       "</a>\n",
       "</li>\n",
       "<li>\n",
       "<a href=\"/store/books/full_book_list.html?brand=HA\">\n",
       "<span class=\"name_abbr\">A</span>\n",
       "</a>\n",
       "</li>\n",
       "<li>\n",
       "<a href=\"/store/books/full_book_list.html?brand=HB\">\n",
       "<span class=\"name_abbr\">B</span>\n",
       "</a>\n",
       "</li>\n",
       "<li>\n",
       "<a href=\"/store/books/full_book_list.html?brand=HL\">\n",
       "<span class=\"name_abbr\">L</span>\n",
       "</a>\n",
       "</li>\n",
       "<li>\n",
       "<a href=\"/store/books/full_book_list.html?brand=HE\">\n",
       "<span class=\"name_abbr\">E</span>\n",
       "</a>\n",
       "</li>\n",
       "<li>\n",
       "<a href=\"/store/books/full_book_list.html?brand=HR\">\n",
       "<span class=\"name_abbr\">R</span>\n",
       "</a>\n",
       "</li>\n",
       "<li>\n",
       "<a href=\"/store/books/full_book_list.html?brand=MK\">\n",
       "<span class=\"name_abbr\">MK</span>\n",
       "</a>\n",
       "</li>\n",
       "</ul>\n",
       "</div>\n",
       "<!-- //브랜드 정렬 버튼 -->\n",
       "<!-- 출간일/도서명 순-->\n",
       "<div class=\"series_lineup\">\n",
       "<ul>\n",
       "<li><a class=\"curr\" href=\"/store/books/full_book_list.html?srt=p_pub_date&amp;brand=\">출간일 순</a></li>\n",
       "<li><a href=\"/store/books/full_book_list.html?srt=p_title&amp;brand=\">도서명 순</a></li>\n",
       "</ul>\n",
       "</div>\n",
       "<!-- //출간일/도서명 순-->\n",
       "<!-- 전체 목록 다운로드 버튼-->\n",
       "<div class=\"btn_full_list\"><a href=\"javascript:document.frm.submit();\">전체 목록 다운로드</a></div>\n",
       "<!-- 책 리스트 -->\n",
       "<div class=\"table_area\">\n",
       "<table border=\"0\" cellspacing=\"0\" class=\"tbl_type_list\" summary=\"전체목록 리스트 테이블\">\n",
       "<caption>전체목록 리스트</caption>\n",
       "<colgroup>\n",
       "<col width=\"180px\"/>\n",
       "<col width=\"\"/>\n",
       "<col width=\"160px\"/>\n",
       "<col width=\"134px\"/>\n",
       "<col width=\"130px\"/>\n",
       "</colgroup>\n",
       "<thead>\n",
       "<tr>\n",
       "<th scope=\"col\">브랜드</th>\n",
       "<th scope=\"col\">도서명</th>\n",
       "<th scope=\"col\">저자</th>\n",
       "<th scope=\"col\">발행일</th>\n",
       "<th scope=\"col\">정가</th>\n",
       "</tr>\n",
       "</thead>\n",
       "<tbody>\n",
       "<tr>\n",
       "<td class=\"brd_m\">한빛미디어</td>\n",
       "<td class=\"left\"><a href=\"/store/books/look.php?p_code=B8460934222\">유닉스의 탄생</a></td>\n",
       "<td class=\"left\">브라이언 커니핸   </td>\n",
       "<td>2020-08-03</td>\n",
       "<td class=\"right\">20,000원</td>\n",
       "</tr>\n",
       "<tr>\n",
       "<td class=\"brd_b\">한빛비즈</td>\n",
       "<td class=\"left\"><a href=\"/store/books/look.php?p_code=B5877288702\">별, 걔 다 그립네</a></td>\n",
       "<td class=\"left\">밤하늘(김하늘) 외 1명  </td>\n",
       "<td>2020-07-30</td>\n",
       "<td class=\"right\">11,200원</td>\n",
       "</tr>\n",
       "<tr>\n",
       "<td class=\"brd_a\">한빛아카데미</td>\n",
       "<td class=\"left\"><a href=\"/store/books/look.php?p_code=B5937482728\">IT CookBook, 따라 하면서 배우는 사물인터넷</a></td>\n",
       "<td class=\"left\">양재삼   </td>\n",
       "<td>2020-07-23</td>\n",
       "<td class=\"right\">28,000원</td>\n",
       "</tr>\n",
       "<tr>\n",
       "<td class=\"brd_e\">한빛에듀</td>\n",
       "<td class=\"left\"><a href=\"/store/books/look.php?p_code=B5555860904\">재미있고 빠른 첫 한글 준비 선 긋기1권 직선∙곡선∙자음∙모음</a></td>\n",
       "<td class=\"left\">한빛학습연구회   </td>\n",
       "<td>2020-07-20</td>\n",
       "<td class=\"right\">6,000원</td>\n",
       "</tr>\n",
       "<tr>\n",
       "<td class=\"brd_e\">한빛에듀</td>\n",
       "<td class=\"left\"><a href=\"/store/books/look.php?p_code=B3397547488\">재미있고 빠른 첫 한글 4권 쌍자음∙받침</a></td>\n",
       "<td class=\"left\">한빛학습연구회   </td>\n",
       "<td>2020-07-20</td>\n",
       "<td class=\"right\">6,500원</td>\n",
       "</tr>\n",
       "<tr>\n",
       "<td class=\"brd_m\">한빛미디어</td>\n",
       "<td class=\"left\"><a href=\"/store/books/look.php?p_code=B7126889829\">핸즈온 비지도 학습</a></td>\n",
       "<td class=\"left\">안쿠르 A. 파텔   </td>\n",
       "<td>2020-07-20</td>\n",
       "<td class=\"right\">34,000원</td>\n",
       "</tr>\n",
       "<tr>\n",
       "<td class=\"brd_e\">한빛에듀</td>\n",
       "<td class=\"left\"><a href=\"/store/books/look.php?p_code=B7448405310\">재미있고 빠른 첫 한글 쓰기1권 모음∙자음∙쉬운 낱말</a></td>\n",
       "<td class=\"left\">한빛학습연구회   </td>\n",
       "<td>2020-07-20</td>\n",
       "<td class=\"right\">6,500원</td>\n",
       "</tr>\n",
       "<tr>\n",
       "<td class=\"brd_l\">한빛라이프</td>\n",
       "<td class=\"left\"><a href=\"/store/books/look.php?p_code=B8656803901\">우리 아이 처음 놀이</a></td>\n",
       "<td class=\"left\">이현주(느림보juliee) 외 1명  </td>\n",
       "<td>2020-07-20</td>\n",
       "<td class=\"right\">15,000원</td>\n",
       "</tr>\n",
       "<tr>\n",
       "<td class=\"brd_b\">한빛비즈</td>\n",
       "<td class=\"left\"><a href=\"/store/books/look.php?p_code=B9697194640\">미라클 모닝 기적의 공식(개정판)</a></td>\n",
       "<td class=\"left\">할 엘로드   </td>\n",
       "<td>2020-07-15</td>\n",
       "<td class=\"right\">15,000원</td>\n",
       "</tr>\n",
       "<tr>\n",
       "<td class=\"brd_a\">한빛아카데미</td>\n",
       "<td class=\"left\"><a href=\"/store/books/look.php?p_code=B8573612142\">창의적 공학설계(3판)</a></td>\n",
       "<td class=\"left\">김은경   </td>\n",
       "<td>2020-07-10</td>\n",
       "<td class=\"right\">23,000원</td>\n",
       "</tr>\n",
       "<tr>\n",
       "<td class=\"brd_a\">한빛아카데미</td>\n",
       "<td class=\"left\"><a href=\"/store/books/look.php?p_code=B8404138031\">R로 하는 다변량 데이터 분석 : 이론부터 실무 활용까지</a></td>\n",
       "<td class=\"left\">카와하시 잇코 외 2명  </td>\n",
       "<td>2020-07-10</td>\n",
       "<td class=\"right\">32,000원</td>\n",
       "</tr>\n",
       "<tr>\n",
       "<td class=\"brd_a\">한빛아카데미</td>\n",
       "<td class=\"left\"><a href=\"/store/books/look.php?p_code=B8658821149\">공학 핵심수학(2판)  : 기초부터 심화까지 핵심만 쏙쏙</a></td>\n",
       "<td class=\"left\">함남우   </td>\n",
       "<td>2020-07-06</td>\n",
       "<td class=\"right\">23,000원</td>\n",
       "</tr>\n",
       "<tr>\n",
       "<td class=\"brd_a\">한빛아카데미</td>\n",
       "<td class=\"left\"><a href=\"/store/books/look.php?p_code=B7926921440\">응용이 보이는 선형대수학 : 파이썬과 함께하는 선형대수학 이론과 응용</a></td>\n",
       "<td class=\"left\">이건명   </td>\n",
       "<td>2020-07-06</td>\n",
       "<td class=\"right\">31,000원</td>\n",
       "</tr>\n",
       "<tr>\n",
       "<td class=\"brd_m\">한빛미디어</td>\n",
       "<td class=\"left\"><a href=\"/store/books/look.php?p_code=B7026921929\">파이썬 증권 데이터 분석</a></td>\n",
       "<td class=\"left\">김황후   </td>\n",
       "<td>2020-07-01</td>\n",
       "<td class=\"right\">32,000원</td>\n",
       "</tr>\n",
       "<tr>\n",
       "<td class=\"brd_m\">한빛미디어</td>\n",
       "<td class=\"left\"><a href=\"/store/books/look.php?p_code=B3745711486\">나의 첫 파이썬(2판)</a></td>\n",
       "<td class=\"left\">에릭 마테스   </td>\n",
       "<td>2020-07-01</td>\n",
       "<td class=\"right\">30,000원</td>\n",
       "</tr>\n",
       "<tr>\n",
       "<td class=\"brd_l\">한빛라이프</td>\n",
       "<td class=\"left\"><a href=\"/store/books/look.php?p_code=B7748014142\">나는 왜 네 말이 힘들까</a></td>\n",
       "<td class=\"left\">박재연   </td>\n",
       "<td>2020-07-01</td>\n",
       "<td class=\"right\">16,800원</td>\n",
       "</tr>\n",
       "<tr>\n",
       "<td class=\"brd_m\">한빛미디어</td>\n",
       "<td class=\"left\"><a href=\"/store/books/look.php?p_code=B9609283195\">혼자 공부하는 첫 프로그래밍 with 파이썬</a></td>\n",
       "<td class=\"left\">문현일   </td>\n",
       "<td>2020-06-30</td>\n",
       "<td class=\"right\">17,000원</td>\n",
       "</tr>\n",
       "<tr>\n",
       "<td class=\"brd_b\">한빛비즈</td>\n",
       "<td class=\"left\"><a href=\"/store/books/look.php?p_code=B7346049104\">퇴근길 인문학 수업 : 뉴노멀</a></td>\n",
       "<td class=\"left\">백상경제연구원 외 12명  </td>\n",
       "<td>2020-06-30</td>\n",
       "<td class=\"right\">17,000원</td>\n",
       "</tr>\n",
       "<tr>\n",
       "<td class=\"brd_a\">한빛아카데미</td>\n",
       "<td class=\"left\"><a href=\"/store/books/look.php?p_code=B4295361584\">IT CookBook, 초연결 사회의 데이터통신과 네트워킹</a></td>\n",
       "<td class=\"left\">강문식   </td>\n",
       "<td>2020-06-30</td>\n",
       "<td class=\"right\">29,000원</td>\n",
       "</tr>\n",
       "<tr>\n",
       "<td class=\"brd_m\">한빛미디어</td>\n",
       "<td class=\"left\"><a href=\"/store/books/look.php?p_code=B7859887743\">실전 자바 소프트웨어 개발</a></td>\n",
       "<td class=\"left\">라울-게이브리얼 우르마 외 1명  </td>\n",
       "<td>2020-06-20</td>\n",
       "<td class=\"right\">18,000원</td>\n",
       "</tr>\n",
       "<tr>\n",
       "<td class=\"brd_a\">한빛아카데미</td>\n",
       "<td class=\"left\"><a href=\"/store/books/look.php?p_code=B3126325886\">IT CookBook, 쉽게 배우는 MFC 윈도우 프로그래밍</a></td>\n",
       "<td class=\"left\">김선우 외 1명  </td>\n",
       "<td>2020-06-20</td>\n",
       "<td class=\"right\">30,000원</td>\n",
       "</tr>\n",
       "<tr>\n",
       "<td class=\"brd_a\">한빛아카데미</td>\n",
       "<td class=\"left\"><a href=\"/store/books/look.php?p_code=B3715221949\">IT CookBook, 인공지능 시대를 위한 컴퓨터 과학 개론</a></td>\n",
       "<td class=\"left\">정기철   </td>\n",
       "<td>2020-06-19</td>\n",
       "<td class=\"right\">27,000원</td>\n",
       "</tr>\n",
       "<tr>\n",
       "<td class=\"brd_b\">한빛비즈</td>\n",
       "<td class=\"left\"><a href=\"/store/books/look.php?p_code=B3354514449\">까면서 보는 해부학 만화</a></td>\n",
       "<td class=\"left\">압듈라 외 1명  </td>\n",
       "<td>2020-06-19</td>\n",
       "<td class=\"right\">18,500원</td>\n",
       "</tr>\n",
       "<tr>\n",
       "<td class=\"brd_a\">한빛아카데미</td>\n",
       "<td class=\"left\"><a href=\"/store/books/look.php?p_code=B3055805288\">IT CookBook, 코틀린을 활용한 안드로이드 프로그래밍</a></td>\n",
       "<td class=\"left\">우재남 외 1명  </td>\n",
       "<td>2020-06-19</td>\n",
       "<td class=\"right\">34,000원</td>\n",
       "</tr>\n",
       "<tr>\n",
       "<td class=\"brd_b\">한빛비즈</td>\n",
       "<td class=\"left\"><a href=\"/store/books/look.php?p_code=B1789503265\">뱅크 4.0</a></td>\n",
       "<td class=\"left\">브렛 킹   </td>\n",
       "<td>2020-06-15</td>\n",
       "<td class=\"right\">18,000원</td>\n",
       "</tr>\n",
       "<tr>\n",
       "<td class=\"brd_m\">한빛미디어</td>\n",
       "<td class=\"left\"><a href=\"/store/books/look.php?p_code=B1047711884\">클라우드 네이티브</a></td>\n",
       "<td class=\"left\">보리스 숄 외 2명  </td>\n",
       "<td>2020-06-13</td>\n",
       "<td class=\"right\">22,000원</td>\n",
       "</tr>\n",
       "<tr>\n",
       "<td class=\"brd_a\">한빛아카데미</td>\n",
       "<td class=\"left\"><a href=\"/store/books/look.php?p_code=B4872546419\">IT CookBook, 처음 만나는 신재생에너지</a></td>\n",
       "<td class=\"left\">김지홍   </td>\n",
       "<td>2020-06-10</td>\n",
       "<td class=\"right\">25,000원</td>\n",
       "</tr>\n",
       "<tr>\n",
       "<td class=\"brd_a\">한빛아카데미</td>\n",
       "<td class=\"left\"><a href=\"/store/books/look.php?p_code=B1710834745\">프리드버그 선형대수학</a></td>\n",
       "<td class=\"left\">스티븐 H. 프리드버그 외 2명  </td>\n",
       "<td>2020-06-05</td>\n",
       "<td class=\"right\">35,000원</td>\n",
       "</tr>\n",
       "<tr>\n",
       "<td class=\"brd_m\">한빛미디어</td>\n",
       "<td class=\"left\"><a href=\"/store/books/look.php?p_code=B9632716381\">이더리움 디앱 개발</a></td>\n",
       "<td class=\"left\">로베르토 인판테   </td>\n",
       "<td>2020-06-04</td>\n",
       "<td class=\"right\">40,000원</td>\n",
       "</tr>\n",
       "<tr>\n",
       "<td class=\"brd_m\">한빛미디어</td>\n",
       "<td class=\"left\"><a href=\"/store/books/look.php?p_code=B7283790591\">딥러닝과 바둑</a></td>\n",
       "<td class=\"left\">막스 펌펄라 외 1명  </td>\n",
       "<td>2020-06-01</td>\n",
       "<td class=\"right\">36,000원</td>\n",
       "</tr>\n",
       "<tr>\n",
       "<td class=\"brd_b\">한빛비즈</td>\n",
       "<td class=\"left\"><a href=\"/store/books/look.php?p_code=B8151169674\">CIA 요원, 최강 비즈니스맨이 되다</a></td>\n",
       "<td class=\"left\">제이슨 핸슨   </td>\n",
       "<td>2020-06-01</td>\n",
       "<td class=\"right\">15,800원</td>\n",
       "</tr>\n",
       "<tr>\n",
       "<td class=\"brd_m\">한빛미디어</td>\n",
       "<td class=\"left\"><a href=\"/store/books/look.php?p_code=B3669653041\">필수 공식으로 하루에 하나씩 정복하는 엑셀 업무 공략집</a></td>\n",
       "<td class=\"left\">최준선   </td>\n",
       "<td>2020-06-01</td>\n",
       "<td class=\"right\">19,000원</td>\n",
       "</tr>\n",
       "<tr>\n",
       "<td class=\"brd_a\">한빛아카데미</td>\n",
       "<td class=\"left\"><a href=\"/store/books/look.php?p_code=B8200129293\">IT CookBook, CentOS 리눅스</a></td>\n",
       "<td class=\"left\">이종원   </td>\n",
       "<td>2020-05-30</td>\n",
       "<td class=\"right\">32,000원</td>\n",
       "</tr>\n",
       "<tr>\n",
       "<td class=\"brd_b\">한빛비즈</td>\n",
       "<td class=\"left\"><a href=\"/store/books/look.php?p_code=B8912615747\">2020 부동산 세금 사용설명서</a></td>\n",
       "<td class=\"left\">김성일   </td>\n",
       "<td>2020-05-26</td>\n",
       "<td class=\"right\">11,200원</td>\n",
       "</tr>\n",
       "<tr>\n",
       "<td class=\"brd_b\">한빛비즈</td>\n",
       "<td class=\"left\"><a href=\"/store/books/look.php?p_code=B6465057927\">내러티브 앤 넘버스</a></td>\n",
       "<td class=\"left\">애스워드 다모다란   </td>\n",
       "<td>2020-05-20</td>\n",
       "<td class=\"right\">18,000원</td>\n",
       "</tr>\n",
       "<tr>\n",
       "<td class=\"brd_e\">한빛에듀</td>\n",
       "<td class=\"left\"><a href=\"/store/books/look.php?p_code=B1158791094\">똑똑한 두뇌 연습 : 세계 여행 다른 그림 찾기</a></td>\n",
       "<td class=\"left\">제니 에스피노사   </td>\n",
       "<td>2020-05-15</td>\n",
       "<td class=\"right\">8,000원</td>\n",
       "</tr>\n",
       "<tr>\n",
       "<td class=\"brd_e\">한빛에듀</td>\n",
       "<td class=\"left\"><a href=\"/store/books/look.php?p_code=B3778443233\">똑똑한 두뇌 연습 : 점 잇기</a></td>\n",
       "<td class=\"left\">조 문   </td>\n",
       "<td>2020-05-15</td>\n",
       "<td class=\"right\">8,000원</td>\n",
       "</tr>\n",
       "<tr>\n",
       "<td class=\"brd_b\">한빛비즈</td>\n",
       "<td class=\"left\"><a href=\"/store/books/look.php?p_code=B2894027772\">포스트 코로나</a></td>\n",
       "<td class=\"left\">임승규(국제경제) 외 6명  </td>\n",
       "<td>2020-05-15</td>\n",
       "<td class=\"right\">18,000원</td>\n",
       "</tr>\n",
       "<tr>\n",
       "<td class=\"brd_e\">한빛에듀</td>\n",
       "<td class=\"left\"><a href=\"/store/books/look.php?p_code=B8852889897\">똑똑한 두뇌 연습 100 : 공주, 동물, 색칠 세트</a></td>\n",
       "<td class=\"left\">발롱 미디어   </td>\n",
       "<td>2020-05-15</td>\n",
       "<td class=\"right\">18,000원</td>\n",
       "</tr>\n",
       "<tr>\n",
       "<td class=\"brd_e\">한빛에듀</td>\n",
       "<td class=\"left\"><a href=\"/store/books/look.php?p_code=B3895086770\">똑똑한 두뇌 연습 100 : 탈것, 동물, 축구 세트</a></td>\n",
       "<td class=\"left\">발롱 미디어   </td>\n",
       "<td>2020-05-15</td>\n",
       "<td class=\"right\">18,000원</td>\n",
       "</tr>\n",
       "<tr>\n",
       "<td class=\"brd_m\">한빛미디어</td>\n",
       "<td class=\"left\"><a href=\"/store/books/look.php?p_code=B4731993755\">만들면서 배우는 워드프레스 (개정2판)</a></td>\n",
       "<td class=\"left\">박현우   </td>\n",
       "<td>2020-05-11</td>\n",
       "<td class=\"right\">26,000원</td>\n",
       "</tr>\n",
       "<tr>\n",
       "<td class=\"brd_m\">한빛미디어</td>\n",
       "<td class=\"left\"><a href=\"/store/books/look.php?p_code=B2064300579\">이것이 MySQL이다(개정판)</a></td>\n",
       "<td class=\"left\">우재남   </td>\n",
       "<td>2020-05-10</td>\n",
       "<td class=\"right\">32,000원</td>\n",
       "</tr>\n",
       "<tr>\n",
       "<td class=\"brd_e\">한빛에듀</td>\n",
       "<td class=\"left\"><a href=\"/store/books/look.php?p_code=B2926273381\">미로 마스터 LEVEL2. 미스터리 미로</a></td>\n",
       "<td class=\"left\">마크 워커   </td>\n",
       "<td>2020-05-08</td>\n",
       "<td class=\"right\">8,000원</td>\n",
       "</tr>\n",
       "<tr>\n",
       "<td class=\"brd_e\">한빛에듀</td>\n",
       "<td class=\"left\"><a href=\"/store/books/look.php?p_code=B8703048424\">미로 마스터 LEVEL3. 크레이지 미로</a></td>\n",
       "<td class=\"left\">사이먼 워드   </td>\n",
       "<td>2020-05-08</td>\n",
       "<td class=\"right\">8,000원</td>\n",
       "</tr>\n",
       "<tr>\n",
       "<td class=\"brd_m\">한빛미디어</td>\n",
       "<td class=\"left\"><a href=\"/store/books/look.php?p_code=B6867862379\">회사에서 바로 통하는 파워포인트 FOR STARTERS</a></td>\n",
       "<td class=\"left\">이화진   </td>\n",
       "<td>2020-05-07</td>\n",
       "<td class=\"right\">15,000원</td>\n",
       "</tr>\n",
       "<tr>\n",
       "<td class=\"brd_m\">한빛미디어</td>\n",
       "<td class=\"left\"><a href=\"/store/books/look.php?p_code=B7033438574\">핸즈온 머신러닝(2판)</a></td>\n",
       "<td class=\"left\">오렐리앙 제롱(Aurélien Géron)   </td>\n",
       "<td>2020-05-04</td>\n",
       "<td class=\"right\">55,000원</td>\n",
       "</tr>\n",
       "<tr>\n",
       "<td class=\"brd_m\">한빛미디어</td>\n",
       "<td class=\"left\"><a href=\"/store/books/look.php?p_code=B6796857324\">배워서 바로 쓰는 스프링 프레임워크</a></td>\n",
       "<td class=\"left\">애시시 사린 외 1명  </td>\n",
       "<td>2020-05-01</td>\n",
       "<td class=\"right\">50,000원</td>\n",
       "</tr>\n",
       "<tr>\n",
       "<td class=\"brd_m\">한빛미디어</td>\n",
       "<td class=\"left\"><a href=\"/store/books/look.php?p_code=B4068078736\">BPF로 리눅스 관측 가능성 향상하기</a></td>\n",
       "<td class=\"left\">데이비드 칼라베라 외 1명  </td>\n",
       "<td>2020-05-01</td>\n",
       "<td class=\"right\">22,000원</td>\n",
       "</tr>\n",
       "<tr>\n",
       "<td class=\"brd_b\">한빛비즈</td>\n",
       "<td class=\"left\"><a href=\"/store/books/look.php?p_code=B9883631255\">4차 인간</a></td>\n",
       "<td class=\"left\">이미솔 외 1명  </td>\n",
       "<td>2020-04-30</td>\n",
       "<td class=\"right\">16,800원</td>\n",
       "</tr>\n",
       "<tr>\n",
       "<td class=\"brd_b\">한빛비즈</td>\n",
       "<td class=\"left\"><a href=\"/store/books/look.php?p_code=B9839456081\">할짝 심리학</a></td>\n",
       "<td class=\"left\">이한나   </td>\n",
       "<td>2020-04-30</td>\n",
       "<td class=\"right\">15,800원</td>\n",
       "</tr>\n",
       "</tbody>\n",
       "</table>\n",
       "</div>\n",
       "<!-- //책 리스트 -->\n",
       "<!-- 페이징 -->\n",
       "<div class=\"paginate bdr_no\">\n",
       "<strong>1</strong>\n",
       "<a href=\"/store/books/full_book_list.html?page=2&amp;srt=p_pub_date&amp;brand=\">2</a>\n",
       "<a href=\"/store/books/full_book_list.html?page=3&amp;srt=p_pub_date&amp;brand=\">3</a>\n",
       "<a href=\"/store/books/full_book_list.html?page=4&amp;srt=p_pub_date&amp;brand=\">4</a>\n",
       "<a href=\"/store/books/full_book_list.html?page=5&amp;srt=p_pub_date&amp;brand=\">5</a>\n",
       "<a href=\"/store/books/full_book_list.html?page=6&amp;srt=p_pub_date&amp;brand=\">6</a>\n",
       "<a href=\"/store/books/full_book_list.html?page=7&amp;srt=p_pub_date&amp;brand=\">7</a>\n",
       "<a href=\"/store/books/full_book_list.html?page=8&amp;srt=p_pub_date&amp;brand=\">8</a>\n",
       "<a href=\"/store/books/full_book_list.html?page=9&amp;srt=p_pub_date&amp;brand=\">9</a>\n",
       "<a href=\"/store/books/full_book_list.html?page=10&amp;srt=p_pub_date&amp;brand=\">10</a>\n",
       "<a class=\"next\" href=\"/store/books/full_book_list.html?page=11&amp;srt=p_pub_date&amp;brand=\"><span>&gt;</span></a>\n",
       "</div>\n",
       "<!-- //페이징 -->\n",
       "<!-- 전체 목록 다운로드 버튼-->\n",
       "<div class=\"btn_full_list mt40\"><a href=\"javascript:document.frm.submit();\">전체 목록 다운로드</a></div>\n",
       "</div>\n",
       "<!-- //전체도서목록 wrap -->\n",
       "</div>\n",
       "<!-- //Contents -->\n",
       "<form action=\"./full_book_list_down.php\" id=\"frm\" method=\"post\" name=\"frm\">\n",
       "<input id=\"brand\" name=\"brand\" type=\"hidden\" value=\"\"/>\n",
       "<input id=\"srt\" name=\"srt\" type=\"hidden\" value=\"p_pub_date\"/>\n",
       "</form>\n",
       "<!-- Footer -->\n",
       "<footer>\n",
       "<!-- 공지사항 -->\n",
       "<div class=\"foot_notice\">\n",
       "<span>\n",
       "<a href=\"https://www.hanbit.co.kr/support/notice_list.html\"><strong>공지사항</strong></a> &gt;\n",
       "    </span>\n",
       "<a href=\"/support/notice_view.html?hnb_idx=300\">[채용공고]  IT 관련 도서를 함께 만들어나갈 인턴을 모십니다.</a>\n",
       "</div>\n",
       "<!-- //공지사항 -->\n",
       "<div class=\"foot_contents\">\n",
       "<!-- 하단 메뉴 -->\n",
       "<div class=\"foot_menu\">\n",
       "<!-- added by coffin -->\n",
       "<ul>\n",
       "<li><a href=\"https://www.hanbit.co.kr/publisher/index.html\" target=\"_blank\">회사소개</a>(<a href=\"https://www.hanbit.co.kr/publisher/index.html\" target=\"_blank\">KOR</a> | <a href=\"https://www.hanbit.co.kr/publisher/index.html?lang=e\" target=\"_blank\">ENG</a>) • <a href=\"https://www.hanbit.co.kr/publisher/contact.html?lang=k\" target=\"_blank\">약도</a></li>\n",
       "<li><a href=\"https://www.hanbit.co.kr/publisher/write.html\" target=\"_blank\">기획 및 원고 모집</a></li>\n",
       "<li><a href=\"https://www.hanbit.co.kr/publisher/foreignrights.html\" target=\"_blank\">FOREIGN RIGHTS</a></li>\n",
       "<li><a href=\"https://www.hanbit.co.kr/member/use_agreement.html\">이용약관</a></li>\n",
       "<li><a href=\"https://www.hanbit.co.kr/member/privacy_policy.html\"><strong>개인정보취급방침</strong></a></li>\n",
       "<li><a href=\"https://www.hanbit.co.kr/sitemap/sitemap.html\">사이트맵</a></li>\n",
       "</ul>\n",
       "</div>\n",
       "<!-- //하단 메뉴 -->\n",
       "<!-- SNS -->\n",
       "<div class=\"foot_sns\">\n",
       "<ul>\n",
       "<li class=\"foot_facebook\"><a href=\"https://www.facebook.com/hanbitmedia\" target=\"_blank\"><span>페이스북</span></a></li>\n",
       "<!-- <li class=\"foot_googleplus\"><a href=\"https://plus.google.com/u/0/+HanbitCoKr/posts\" target=\"_blank\"><span>구글플러스</span></a></li> -->\n",
       "<li class=\"foot_twitter\"><a href=\"https://twitter.com/hanbit\" target=\"_blank\"><span>트위터</span></a></li>\n",
       "<li class=\"foot_youtube\"><a href=\"https://www.youtube.com/user/HanbitMedia93\" target=\"_blank\"><span>유튜브</span></a></li>\n",
       "<li class=\"foot_bolg\"><a href=\"http://blog.hanbit.co.kr/\" target=\"_blank\"><span>블로그</span></a></li>\n",
       "<li class=\"foot_naverpost\"><a href=\"https://m.post.naver.com/hanbitstory\" target=\"_blank\"><span>네이버포스트</span></a></li>\n",
       "</ul>\n",
       "<fieldset class=\"foot_srch\">\n",
       "<legend>하단 검색영역</legend>\n",
       "<input accesskey=\"s\" class=\"foot_srch_keyword\" id=\"foot_keyword_str\" style=\"font-size:16px;\" title=\"검색어\" type=\"text\" value=\"\"/>\n",
       "<input alt=\"\" class=\"foot_srch_btn\" onclick=\"foot_sch_smit();\" style=\"cursor: pointer;\" type=\"button\"/>\n",
       "</fieldset>\n",
       "<script>\n",
       "        // 검색 리스트  \n",
       "        $(document).ready(function() {       \n",
       "          $('#foot_keyword_str').keyup(function(e) {\n",
       "            if (e.keyCode == 13) \n",
       "              foot_sch_smit();\n",
       "          });        \n",
       "        });\n",
       "\n",
       "        function foot_sch_smit(){            \n",
       "          var foot_keyword_str = $(\"#foot_keyword_str\").val();      \n",
       "          var searchUrl = \"/search/search_list.html?keyword=\"+foot_keyword_str;\n",
       "\n",
       "          if(!foot_keyword_str){\n",
       "            alert(\"검색어를 입력해주세요\");\n",
       "            $(\"#foot_keyword_str\").focus();\n",
       "          }else{\n",
       "            location.href = searchUrl;\n",
       "          }\n",
       "        }\n",
       "      </script>\n",
       "</div>\n",
       "<!-- //SNS -->\n",
       "<!-- 한빛 정보 -->\n",
       "<div class=\"foot_about\">\n",
       "<div class=\"foot_about_area\">\n",
       "<p><strong>한빛미디어㈜ • 한빛아카데미㈜ • 한빛비즈㈜</strong></p>\n",
       "<p>(03785) 서울 서대문구 연희로2길 62</p>\n",
       "<p>EMAIL : support@hanbit.co.kr</p>\n",
       "<p>대표이사 : 김태헌</p>\n",
       "<p>사업자등록번호 : 220-81-05665 <a href=\"http://www.ftc.go.kr/bizCommPop.do?wrkr_no=2208105665\" target=\"_blank\">[확인]</a></p>\n",
       "<p>통신판매업신고 : 2017-서울서대문-0671호</p>\n",
       "<p>호스팅제공자 : (주)누리호스팅</p>\n",
       "</div>\n",
       "</div>\n",
       "<!-- //한빛 정보 -->\n",
       "</div>\n",
       "<div class=\"copyright\">©1993-2020 Hanbit Publishing Network, Inc. All rights reserved.</div>\n",
       "</footer>\n",
       "<!-- //푸터 -->\n",
       "<div class=\"foot_download_btn\"><a href=\"https://www.hanbit.co.kr/support/supplement_list.html\">자료실</a></div>\n",
       "<!-- 공통 JS 호출 -->\n",
       "<script src=\"/js/common.js\" type=\"text/javascript\"></script>\n",
       "<!-- //공통 JS 호출 -->\n",
       "</body>\n",
       "</html>"
      ]
     },
     "execution_count": 8,
     "metadata": {},
     "output_type": "execute_result"
    }
   ],
   "source": [
    "f_soup = BeautifulSoup(f_html, 'html.parser')\n",
    "f_soup"
   ]
  },
  {
   "cell_type": "code",
   "execution_count": 9,
   "metadata": {},
   "outputs": [
    {
     "data": {
      "text/plain": [
       "176"
      ]
     },
     "execution_count": 9,
     "metadata": {},
     "output_type": "execute_result"
    }
   ],
   "source": [
    "a = f_soup.find_all('a')\n",
    "len(a)"
   ]
  },
  {
   "cell_type": "code",
   "execution_count": 10,
   "metadata": {},
   "outputs": [
    {
     "data": {
      "text/plain": [
       "[<a href=\"#gnb\" onclick=\"document.getElementById('gnb').tabIndex = -1;document.getElementById('gnb').focus();return false;\"><span>메뉴 바로가기</span></a>,\n",
       " <a href=\"#top_search\" onclick=\"view_hover('main_search_area','','show'), document.getElementById('top_search').tabIndex = -1;document.getElementById('top_search').focus();return false;\"><span>검색 및 카테고리 바로가기</span></a>,\n",
       " <a href=\"#container\" onclick=\"document.getElementById('container').tabIndex = -1;document.getElementById('container').focus();return false;\"><span>본문 바로가기</span></a>,\n",
       " <a href=\"https://www.hanbit.co.kr/index.html\" name=\"hanbit_network\"><span>HOME</span></a>,\n",
       " <a href=\"https://www.hanbit.co.kr/media/\">한빛미디어</a>]"
      ]
     },
     "execution_count": 10,
     "metadata": {},
     "output_type": "execute_result"
    }
   ],
   "source": [
    "a[:5]"
   ]
  },
  {
   "cell_type": "markdown",
   "metadata": {},
   "source": [
    "# scrape_by_lxml"
   ]
  },
  {
   "cell_type": "markdown",
   "metadata": {},
   "source": [
    "!를 추가하면 재가동하지 않아도 됨"
   ]
  },
  {
   "cell_type": "code",
   "execution_count": 11,
   "metadata": {},
   "outputs": [],
   "source": [
    "# !pip install lxml "
   ]
  },
  {
   "cell_type": "code",
   "execution_count": 12,
   "metadata": {},
   "outputs": [],
   "source": [
    "# !pip install cssselect"
   ]
  },
  {
   "cell_type": "code",
   "execution_count": 13,
   "metadata": {},
   "outputs": [],
   "source": [
    "import lxml.html"
   ]
  },
  {
   "cell_type": "code",
   "execution_count": 14,
   "metadata": {},
   "outputs": [
    {
     "data": {
      "text/plain": [
       "<lxml.etree._ElementTree at 0x1f56514ac48>"
      ]
     },
     "execution_count": 14,
     "metadata": {},
     "output_type": "execute_result"
    }
   ],
   "source": [
    "tree = lxml.html.parse('./data/do.html')\n",
    "tree"
   ]
  },
  {
   "cell_type": "code",
   "execution_count": 15,
   "metadata": {},
   "outputs": [
    {
     "data": {
      "text/plain": [
       "<Element html at 0x1f56517e548>"
      ]
     },
     "execution_count": 15,
     "metadata": {},
     "output_type": "execute_result"
    }
   ],
   "source": [
    "html = tree.getroot()\n",
    "html"
   ]
  },
  {
   "cell_type": "code",
   "execution_count": 16,
   "metadata": {},
   "outputs": [
    {
     "name": "stdout",
     "output_type": "stream",
     "text": [
      "#gnb None\n",
      "#top_search None\n",
      "#container None\n",
      "https://www.hanbit.co.kr/index.html None\n",
      "https://www.hanbit.co.kr/media/ 한빛미디어\n",
      "https://www.hanbit.co.kr/academy/ 한빛아카데미\n",
      "https://www.hanbit.co.kr/biz/ 한빛비즈\n",
      "https://www.hanbit.co.kr/life/ 한빛라이프\n",
      "https://www.hanbit.co.kr/edu/ 한빛에듀\n",
      "https://www.hanbit.co.kr/realtime/ 리얼타임\n",
      "https://www.hanbit.co.kr/textbook/ 한빛정보교과서\n",
      "https://www.hanbit.co.kr/rent/ 한빛대관서비스\n",
      "https://www.hanbit.co.kr/member/login.html 로그인\n",
      "https://www.hanbit.co.kr/member/member_agree.html 회원가입\n",
      "https://www.hanbit.co.kr/myhanbit/myhanbit.html 마이한빛\n",
      "https://www.hanbit.co.kr/myhanbit/cart.html 장바구니\n",
      "https://www.hanbit.co.kr/index.html 한빛출판네트워크\n",
      "https://www.hanbit.co.kr/brand/brand_submain.html BRAND\n",
      "https://www.hanbit.co.kr/channel/channel_submain.html Channel.H\n",
      "https://www.hanbit.co.kr/store/store_submain.html STORE\n",
      "https://www.hanbit.co.kr/support/help_info.html SUPPORT\n",
      "https://www.hanbit.co.kr/event/current/current_event_list.html EVENT\n",
      "javascript:; None\n",
      "# 카테고리\n",
      "/store/books/category_list.html?cate_cd=001 IT/모바일\n",
      "/store/books/category_list.html?cate_cd=001001 프로그래밍\n",
      "/store/books/category_list.html?cate_cd=001002 웹\n",
      "/store/books/category_list.html?cate_cd=001003 모바일/스마트기기\n",
      "/store/books/category_list.html?cate_cd=001013 데이터베이스\n",
      "/store/books/category_list.html?cate_cd=001005 운영체제\n",
      "/store/books/category_list.html?cate_cd=001014 하드웨어\n",
      "/store/books/category_list.html?cate_cd=001015 시스템/네트워크\n",
      "/store/books/category_list.html?cate_cd=001016 보안\n",
      "/store/books/category_list.html?cate_cd=001009 비즈니스/문화\n",
      "/store/books/category_list.html?cate_cd=001010 게임\n",
      "/store/books/category_list.html?cate_cd=001017 IT에세이\n",
      "/store/books/category_list.html?cate_cd=001012 자격증\n",
      "/store/books/category_list.html?cate_cd=001018 인공지능/데이터과학\n",
      "/store/books/category_list.html?cate_cd=002 MAKE\n",
      "/store/books/category_list.html?cate_cd=002001 Make 매거진\n",
      "/store/books/category_list.html?cate_cd=002002 Make 프로젝트 북\n",
      "/store/books/category_list.html?cate_cd=003 IT활용\n",
      "/store/books/category_list.html?cate_cd=003001 오피스/OA\n",
      "/store/books/category_list.html?cate_cd=003002 그래픽/멀티미디어\n",
      "/store/books/category_list.html?cate_cd=003003 사진/예술\n",
      "/store/books/category_list.html?cate_cd=003004 컴퓨터입문/IT교양\n",
      "/store/books/category_list.html?cate_cd=004 대학교재\n",
      "/store/books/category_list.html?cate_cd=004007 컴퓨터공학\n",
      "/store/books/category_list.html?cate_cd=004008 정보통신/전기/전자\n",
      "/store/books/category_list.html?cate_cd=004003 수학/과학/공학\n",
      "/store/books/category_list.html?cate_cd=004004 프로그래밍/웹\n",
      "/store/books/category_list.html?cate_cd=004005 그래픽/디자인\n",
      "/store/books/category_list.html?cate_cd=004006 OA/활용\n",
      "/store/books/category_list.html?cate_cd=004009 수험서/자격증\n",
      "/store/books/category_list.html?cate_cd=006 실용서\n",
      "/store/books/category_list.html?cate_cd=006001 취미/실용\n",
      "/store/books/category_list.html?cate_cd=006002 여행\n",
      "/store/books/category_list.html?cate_cd=006003 건강\n",
      "/store/books/category_list.html?cate_cd=006004 유아/육아\n",
      "/store/books/category_list.html?cate_cd=007 경제/경영/인문\n",
      "/store/books/category_list.html?cate_cd=007001 경제/경영\n",
      "/store/books/category_list.html?cate_cd=007002 자기계발\n",
      "/store/books/category_list.html?cate_cd=007003 인문/교양\n",
      "/store/books/category_list.html?cate_cd=007004 마케팅\n",
      "/store/books/category_list.html?cate_cd=007005 에세이\n",
      "/store/books/category_list.html?cate_cd=008 유아/어린이/초등\n",
      "/store/books/category_list.html?cate_cd=008001 4~6세\n",
      "/store/books/category_list.html?cate_cd=008002 5~7세\n",
      "/store/books/category_list.html?cate_cd=008003 예비초등\n",
      "/store/books/category_list.html?cate_cd=008004 초등교과연계 1~12영역\n",
      "/store/books/category_list.html?cate_cd=008005 초등 전학년\n",
      "https://www.hanbit.co.kr/store/books/series_list.html 시리즈\n",
      "https://www.hanbit.co.kr/store/books/reservations_list.html 예약도서\n",
      "https://www.hanbit.co.kr/store/books/new_book_list.html 새로나온 책\n",
      "https://www.hanbit.co.kr/store/books/bestseller_list.html 베스트셀러\n",
      "https://www.hanbit.co.kr/store/books/full_book_list.html 전체도서목록\n",
      "https://www.hanbit.co.kr/store/education/edu_list.html 교육\n",
      "https://www.hanbit.co.kr/store/item/item_list.html Item & Maker Shed\n",
      "None \r\n",
      "                  {{ keyword.number }} {{ keyword.bookName }}\r\n",
      "              \n",
      "None \r\n",
      "                  {{ keyword.number }} {{ keyword.bookName }}\r\n",
      "              \n",
      "None None\n",
      "None \r\n",
      "                  \n",
      "None None\n",
      "None None\n",
      "None None\n",
      "javascript:; 닫기\n",
      "/store/books/full_book_list.html \r",
      "\r\n",
      "                    \t                    \n",
      "/store/books/full_book_list.html?brand=HM \r",
      "\r\n",
      "                                        \t\n",
      "/store/books/full_book_list.html?brand=HA \r",
      "\r\n",
      "                                        \t\n",
      "/store/books/full_book_list.html?brand=HB \r",
      "\r\n",
      "                                        \t\n",
      "/store/books/full_book_list.html?brand=HL \r",
      "\r\n",
      "                                        \t\n",
      "/store/books/full_book_list.html?brand=HE \r",
      "\r\n",
      "                                        \t\n",
      "/store/books/full_book_list.html?brand=HR \r",
      "\r\n",
      "                                        \t\n",
      "/store/books/full_book_list.html?brand=MK \r",
      "\r\n",
      "                                        \t\n",
      "/store/books/full_book_list.html?srt=p_pub_date&brand= 출간일 순\n",
      "/store/books/full_book_list.html?srt=p_title&brand= 도서명 순\n",
      "javascript:document.frm.submit(); 전체 목록 다운로드\n",
      "/store/books/look.php?p_code=B8460934222 유닉스의 탄생\n",
      "/store/books/look.php?p_code=B5877288702 별, 걔 다 그립네\n",
      "/store/books/look.php?p_code=B5937482728 IT CookBook, 따라 하면서 배우는 사물인터넷\n",
      "/store/books/look.php?p_code=B5555860904 재미있고 빠른 첫 한글 준비 선 긋기1권 직선∙곡선∙자음∙모음\n",
      "/store/books/look.php?p_code=B3397547488 재미있고 빠른 첫 한글 4권 쌍자음∙받침\n",
      "/store/books/look.php?p_code=B7126889829 핸즈온 비지도 학습\n",
      "/store/books/look.php?p_code=B7448405310 재미있고 빠른 첫 한글 쓰기1권 모음∙자음∙쉬운 낱말\n",
      "/store/books/look.php?p_code=B8656803901 우리 아이 처음 놀이\n",
      "/store/books/look.php?p_code=B9697194640 미라클 모닝 기적의 공식(개정판)\n",
      "/store/books/look.php?p_code=B8573612142 창의적 공학설계(3판)\n",
      "/store/books/look.php?p_code=B8404138031 R로 하는 다변량 데이터 분석 : 이론부터 실무 활용까지\n",
      "/store/books/look.php?p_code=B8658821149 공학 핵심수학(2판)  : 기초부터 심화까지 핵심만 쏙쏙\n",
      "/store/books/look.php?p_code=B7926921440 응용이 보이는 선형대수학 : 파이썬과 함께하는 선형대수학 이론과 응용\n",
      "/store/books/look.php?p_code=B7026921929 파이썬 증권 데이터 분석\n",
      "/store/books/look.php?p_code=B3745711486 나의 첫 파이썬(2판)\n",
      "/store/books/look.php?p_code=B7748014142 나는 왜 네 말이 힘들까\n",
      "/store/books/look.php?p_code=B9609283195 혼자 공부하는 첫 프로그래밍 with 파이썬\n",
      "/store/books/look.php?p_code=B7346049104 퇴근길 인문학 수업 : 뉴노멀\n",
      "/store/books/look.php?p_code=B4295361584 IT CookBook, 초연결 사회의 데이터통신과 네트워킹\n",
      "/store/books/look.php?p_code=B7859887743 실전 자바 소프트웨어 개발\n",
      "/store/books/look.php?p_code=B3126325886 IT CookBook, 쉽게 배우는 MFC 윈도우 프로그래밍\n",
      "/store/books/look.php?p_code=B3715221949 IT CookBook, 인공지능 시대를 위한 컴퓨터 과학 개론\n",
      "/store/books/look.php?p_code=B3354514449 까면서 보는 해부학 만화\n",
      "/store/books/look.php?p_code=B3055805288 IT CookBook, 코틀린을 활용한 안드로이드 프로그래밍\n",
      "/store/books/look.php?p_code=B1789503265 뱅크 4.0\n",
      "/store/books/look.php?p_code=B1047711884 클라우드 네이티브\n",
      "/store/books/look.php?p_code=B4872546419 IT CookBook, 처음 만나는 신재생에너지\n",
      "/store/books/look.php?p_code=B1710834745 프리드버그 선형대수학\n",
      "/store/books/look.php?p_code=B9632716381 이더리움 디앱 개발\n",
      "/store/books/look.php?p_code=B7283790591 딥러닝과 바둑\n",
      "/store/books/look.php?p_code=B8151169674 CIA 요원, 최강 비즈니스맨이 되다\n",
      "/store/books/look.php?p_code=B3669653041 필수 공식으로 하루에 하나씩 정복하는 엑셀 업무 공략집\n",
      "/store/books/look.php?p_code=B8200129293 IT CookBook, CentOS 리눅스\n",
      "/store/books/look.php?p_code=B8912615747 2020 부동산 세금 사용설명서\n",
      "/store/books/look.php?p_code=B6465057927 내러티브 앤 넘버스\n",
      "/store/books/look.php?p_code=B1158791094 똑똑한 두뇌 연습 : 세계 여행 다른 그림 찾기\n",
      "/store/books/look.php?p_code=B3778443233 똑똑한 두뇌 연습 : 점 잇기\n",
      "/store/books/look.php?p_code=B2894027772 포스트 코로나\n",
      "/store/books/look.php?p_code=B8852889897 똑똑한 두뇌 연습 100 : 공주, 동물, 색칠 세트\n",
      "/store/books/look.php?p_code=B3895086770 똑똑한 두뇌 연습 100 : 탈것, 동물, 축구 세트\n",
      "/store/books/look.php?p_code=B4731993755 만들면서 배우는 워드프레스 (개정2판)\n",
      "/store/books/look.php?p_code=B2064300579 이것이 MySQL이다(개정판)\n",
      "/store/books/look.php?p_code=B2926273381 미로 마스터 LEVEL2. 미스터리 미로\n",
      "/store/books/look.php?p_code=B8703048424 미로 마스터 LEVEL3. 크레이지 미로\n",
      "/store/books/look.php?p_code=B6867862379 회사에서 바로 통하는 파워포인트 FOR STARTERS\n",
      "/store/books/look.php?p_code=B7033438574 핸즈온 머신러닝(2판)\n",
      "/store/books/look.php?p_code=B6796857324 배워서 바로 쓰는 스프링 프레임워크\n",
      "/store/books/look.php?p_code=B4068078736 BPF로 리눅스 관측 가능성 향상하기\n",
      "/store/books/look.php?p_code=B9883631255 4차 인간\n",
      "/store/books/look.php?p_code=B9839456081 할짝 심리학\n",
      "/store/books/full_book_list.html?page=2&srt=p_pub_date&brand= 2\n",
      "/store/books/full_book_list.html?page=3&srt=p_pub_date&brand= 3\n",
      "/store/books/full_book_list.html?page=4&srt=p_pub_date&brand= 4\n",
      "/store/books/full_book_list.html?page=5&srt=p_pub_date&brand= 5\n",
      "/store/books/full_book_list.html?page=6&srt=p_pub_date&brand= 6\n",
      "/store/books/full_book_list.html?page=7&srt=p_pub_date&brand= 7\n",
      "/store/books/full_book_list.html?page=8&srt=p_pub_date&brand= 8\n",
      "/store/books/full_book_list.html?page=9&srt=p_pub_date&brand= 9\n",
      "/store/books/full_book_list.html?page=10&srt=p_pub_date&brand= 10\n",
      "/store/books/full_book_list.html?page=11&srt=p_pub_date&brand= None\n",
      "javascript:document.frm.submit(); 전체 목록 다운로드\n",
      "https://www.hanbit.co.kr/support/notice_list.html None\n",
      "/support/notice_view.html?hnb_idx=300 [채용공고]  IT 관련 도서를 함께 만들어나갈 인턴을 모십니다.\n",
      "https://www.hanbit.co.kr/publisher/index.html 회사소개\n",
      "https://www.hanbit.co.kr/publisher/index.html KOR\n",
      "https://www.hanbit.co.kr/publisher/index.html?lang=e ENG\n",
      "https://www.hanbit.co.kr/publisher/contact.html?lang=k 약도\n",
      "https://www.hanbit.co.kr/publisher/write.html 기획 및 원고 모집\n",
      "https://www.hanbit.co.kr/publisher/foreignrights.html FOREIGN RIGHTS\n",
      "https://www.hanbit.co.kr/member/use_agreement.html 이용약관\n",
      "https://www.hanbit.co.kr/member/privacy_policy.html None\n",
      "https://www.hanbit.co.kr/sitemap/sitemap.html 사이트맵\n",
      "https://www.facebook.com/hanbitmedia None\n",
      "https://twitter.com/hanbit None\n",
      "https://www.youtube.com/user/HanbitMedia93 None\n",
      "http://blog.hanbit.co.kr/ None\n",
      "https://m.post.naver.com/hanbitstory None\n",
      "http://www.ftc.go.kr/bizCommPop.do?wrkr_no=2208105665 [확인]\n",
      "https://www.hanbit.co.kr/support/supplement_list.html 자료실\n"
     ]
    }
   ],
   "source": [
    "for a in html.cssselect('a'):\n",
    "    print(a.get('href'), a.text)"
   ]
  },
  {
   "cell_type": "markdown",
   "metadata": {},
   "source": [
    "# scrape_by_bs4"
   ]
  },
  {
   "cell_type": "code",
   "execution_count": 17,
   "metadata": {},
   "outputs": [],
   "source": [
    "with open('./data/do.html', encoding='utf-8') as f:\n",
    "    soup = BeautifulSoup(f, 'html.parser')"
   ]
  },
  {
   "cell_type": "code",
   "execution_count": 18,
   "metadata": {},
   "outputs": [
    {
     "name": "stdout",
     "output_type": "stream",
     "text": [
      "#gnb 메뉴 바로가기\n",
      "#top_search 검색 및 카테고리 바로가기\n",
      "#container 본문 바로가기\n",
      "https://www.hanbit.co.kr/index.html HOME\n",
      "https://www.hanbit.co.kr/media/ 한빛미디어\n",
      "https://www.hanbit.co.kr/academy/ 한빛아카데미\n",
      "https://www.hanbit.co.kr/biz/ 한빛비즈\n",
      "https://www.hanbit.co.kr/life/ 한빛라이프\n",
      "https://www.hanbit.co.kr/edu/ 한빛에듀\n",
      "https://www.hanbit.co.kr/realtime/ 리얼타임\n",
      "https://www.hanbit.co.kr/textbook/ 한빛정보교과서\n",
      "https://www.hanbit.co.kr/rent/ 한빛대관서비스\n",
      "https://www.hanbit.co.kr/member/login.html 로그인\n",
      "https://www.hanbit.co.kr/member/member_agree.html 회원가입\n",
      "https://www.hanbit.co.kr/myhanbit/myhanbit.html 마이한빛\n",
      "https://www.hanbit.co.kr/myhanbit/cart.html 장바구니\n",
      "https://www.hanbit.co.kr/index.html 한빛출판네트워크\n",
      "https://www.hanbit.co.kr/brand/brand_submain.html BRAND\n",
      "https://www.hanbit.co.kr/channel/channel_submain.html Channel.H\n",
      "https://www.hanbit.co.kr/store/store_submain.html STORE\n",
      "https://www.hanbit.co.kr/support/help_info.html SUPPORT\n",
      "https://www.hanbit.co.kr/event/current/current_event_list.html EVENT\n",
      "javascript:; SERACH\n",
      "# 카테고리\n",
      "/store/books/category_list.html?cate_cd=001 IT/모바일\n",
      "/store/books/category_list.html?cate_cd=001001 프로그래밍\n",
      "/store/books/category_list.html?cate_cd=001002 웹\n",
      "/store/books/category_list.html?cate_cd=001003 모바일/스마트기기\n",
      "/store/books/category_list.html?cate_cd=001013 데이터베이스\n",
      "/store/books/category_list.html?cate_cd=001005 운영체제\n",
      "/store/books/category_list.html?cate_cd=001014 하드웨어\n",
      "/store/books/category_list.html?cate_cd=001015 시스템/네트워크\n",
      "/store/books/category_list.html?cate_cd=001016 보안\n",
      "/store/books/category_list.html?cate_cd=001009 비즈니스/문화\n",
      "/store/books/category_list.html?cate_cd=001010 게임\n",
      "/store/books/category_list.html?cate_cd=001017 IT에세이\n",
      "/store/books/category_list.html?cate_cd=001012 자격증\n",
      "/store/books/category_list.html?cate_cd=001018 인공지능/데이터과학\n",
      "/store/books/category_list.html?cate_cd=002 MAKE\n",
      "/store/books/category_list.html?cate_cd=002001 Make 매거진\n",
      "/store/books/category_list.html?cate_cd=002002 Make 프로젝트 북\n",
      "/store/books/category_list.html?cate_cd=003 IT활용\n",
      "/store/books/category_list.html?cate_cd=003001 오피스/OA\n",
      "/store/books/category_list.html?cate_cd=003002 그래픽/멀티미디어\n",
      "/store/books/category_list.html?cate_cd=003003 사진/예술\n",
      "/store/books/category_list.html?cate_cd=003004 컴퓨터입문/IT교양\n",
      "/store/books/category_list.html?cate_cd=004 대학교재\n",
      "/store/books/category_list.html?cate_cd=004007 컴퓨터공학\n",
      "/store/books/category_list.html?cate_cd=004008 정보통신/전기/전자\n",
      "/store/books/category_list.html?cate_cd=004003 수학/과학/공학\n",
      "/store/books/category_list.html?cate_cd=004004 프로그래밍/웹\n",
      "/store/books/category_list.html?cate_cd=004005 그래픽/디자인\n",
      "/store/books/category_list.html?cate_cd=004006 OA/활용\n",
      "/store/books/category_list.html?cate_cd=004009 수험서/자격증\n",
      "/store/books/category_list.html?cate_cd=006 실용서\n",
      "/store/books/category_list.html?cate_cd=006001 취미/실용\n",
      "/store/books/category_list.html?cate_cd=006002 여행\n",
      "/store/books/category_list.html?cate_cd=006003 건강\n",
      "/store/books/category_list.html?cate_cd=006004 유아/육아\n",
      "/store/books/category_list.html?cate_cd=007 경제/경영/인문\n",
      "/store/books/category_list.html?cate_cd=007001 경제/경영\n",
      "/store/books/category_list.html?cate_cd=007002 자기계발\n",
      "/store/books/category_list.html?cate_cd=007003 인문/교양\n",
      "/store/books/category_list.html?cate_cd=007004 마케팅\n",
      "/store/books/category_list.html?cate_cd=007005 에세이\n",
      "/store/books/category_list.html?cate_cd=008 유아/어린이/초등\n",
      "/store/books/category_list.html?cate_cd=008001 4~6세\n",
      "/store/books/category_list.html?cate_cd=008002 5~7세\n",
      "/store/books/category_list.html?cate_cd=008003 예비초등\n",
      "/store/books/category_list.html?cate_cd=008004 초등교과연계 1~12영역\n",
      "/store/books/category_list.html?cate_cd=008005 초등 전학년\n",
      "https://www.hanbit.co.kr/store/books/series_list.html 시리즈\n",
      "https://www.hanbit.co.kr/store/books/reservations_list.html 예약도서\n",
      "https://www.hanbit.co.kr/store/books/new_book_list.html 새로나온 책\n",
      "https://www.hanbit.co.kr/store/books/bestseller_list.html 베스트셀러\n",
      "https://www.hanbit.co.kr/store/books/full_book_list.html 전체도서목록\n",
      "https://www.hanbit.co.kr/store/education/edu_list.html 교육\n",
      "https://www.hanbit.co.kr/store/item/item_list.html Item & Maker Shed\n",
      "None \n",
      "                  {{ keyword.number }} {{ keyword.bookName }}\n",
      "              \n",
      "None \n",
      "                  {{ keyword.number }} {{ keyword.bookName }}\n",
      "              \n",
      "None \n",
      "None \n",
      "\n",
      "\n",
      "None \n",
      "None \n",
      "None \n",
      "javascript:; 닫기\n",
      "/store/books/full_book_list.html \n",
      "전체\n",
      "\n",
      "/store/books/full_book_list.html?brand=HM \n",
      "M\n",
      "\n",
      "/store/books/full_book_list.html?brand=HA \n",
      "A\n",
      "\n",
      "/store/books/full_book_list.html?brand=HB \n",
      "B\n",
      "\n",
      "/store/books/full_book_list.html?brand=HL \n",
      "L\n",
      "\n",
      "/store/books/full_book_list.html?brand=HE \n",
      "E\n",
      "\n",
      "/store/books/full_book_list.html?brand=HR \n",
      "R\n",
      "\n",
      "/store/books/full_book_list.html?brand=MK \n",
      "MK\n",
      "\n",
      "/store/books/full_book_list.html?srt=p_pub_date&brand= 출간일 순\n",
      "/store/books/full_book_list.html?srt=p_title&brand= 도서명 순\n",
      "javascript:document.frm.submit(); 전체 목록 다운로드\n",
      "/store/books/look.php?p_code=B8460934222 유닉스의 탄생\n",
      "/store/books/look.php?p_code=B5877288702 별, 걔 다 그립네\n",
      "/store/books/look.php?p_code=B5937482728 IT CookBook, 따라 하면서 배우는 사물인터넷\n",
      "/store/books/look.php?p_code=B5555860904 재미있고 빠른 첫 한글 준비 선 긋기1권 직선∙곡선∙자음∙모음\n",
      "/store/books/look.php?p_code=B3397547488 재미있고 빠른 첫 한글 4권 쌍자음∙받침\n",
      "/store/books/look.php?p_code=B7126889829 핸즈온 비지도 학습\n",
      "/store/books/look.php?p_code=B7448405310 재미있고 빠른 첫 한글 쓰기1권 모음∙자음∙쉬운 낱말\n",
      "/store/books/look.php?p_code=B8656803901 우리 아이 처음 놀이\n",
      "/store/books/look.php?p_code=B9697194640 미라클 모닝 기적의 공식(개정판)\n",
      "/store/books/look.php?p_code=B8573612142 창의적 공학설계(3판)\n",
      "/store/books/look.php?p_code=B8404138031 R로 하는 다변량 데이터 분석 : 이론부터 실무 활용까지\n",
      "/store/books/look.php?p_code=B8658821149 공학 핵심수학(2판)  : 기초부터 심화까지 핵심만 쏙쏙\n",
      "/store/books/look.php?p_code=B7926921440 응용이 보이는 선형대수학 : 파이썬과 함께하는 선형대수학 이론과 응용\n",
      "/store/books/look.php?p_code=B7026921929 파이썬 증권 데이터 분석\n",
      "/store/books/look.php?p_code=B3745711486 나의 첫 파이썬(2판)\n",
      "/store/books/look.php?p_code=B7748014142 나는 왜 네 말이 힘들까\n",
      "/store/books/look.php?p_code=B9609283195 혼자 공부하는 첫 프로그래밍 with 파이썬\n",
      "/store/books/look.php?p_code=B7346049104 퇴근길 인문학 수업 : 뉴노멀\n",
      "/store/books/look.php?p_code=B4295361584 IT CookBook, 초연결 사회의 데이터통신과 네트워킹\n",
      "/store/books/look.php?p_code=B7859887743 실전 자바 소프트웨어 개발\n",
      "/store/books/look.php?p_code=B3126325886 IT CookBook, 쉽게 배우는 MFC 윈도우 프로그래밍\n",
      "/store/books/look.php?p_code=B3715221949 IT CookBook, 인공지능 시대를 위한 컴퓨터 과학 개론\n",
      "/store/books/look.php?p_code=B3354514449 까면서 보는 해부학 만화\n",
      "/store/books/look.php?p_code=B3055805288 IT CookBook, 코틀린을 활용한 안드로이드 프로그래밍\n",
      "/store/books/look.php?p_code=B1789503265 뱅크 4.0\n",
      "/store/books/look.php?p_code=B1047711884 클라우드 네이티브\n",
      "/store/books/look.php?p_code=B4872546419 IT CookBook, 처음 만나는 신재생에너지\n",
      "/store/books/look.php?p_code=B1710834745 프리드버그 선형대수학\n",
      "/store/books/look.php?p_code=B9632716381 이더리움 디앱 개발\n",
      "/store/books/look.php?p_code=B7283790591 딥러닝과 바둑\n",
      "/store/books/look.php?p_code=B8151169674 CIA 요원, 최강 비즈니스맨이 되다\n",
      "/store/books/look.php?p_code=B3669653041 필수 공식으로 하루에 하나씩 정복하는 엑셀 업무 공략집\n",
      "/store/books/look.php?p_code=B8200129293 IT CookBook, CentOS 리눅스\n",
      "/store/books/look.php?p_code=B8912615747 2020 부동산 세금 사용설명서\n",
      "/store/books/look.php?p_code=B6465057927 내러티브 앤 넘버스\n",
      "/store/books/look.php?p_code=B1158791094 똑똑한 두뇌 연습 : 세계 여행 다른 그림 찾기\n",
      "/store/books/look.php?p_code=B3778443233 똑똑한 두뇌 연습 : 점 잇기\n",
      "/store/books/look.php?p_code=B2894027772 포스트 코로나\n",
      "/store/books/look.php?p_code=B8852889897 똑똑한 두뇌 연습 100 : 공주, 동물, 색칠 세트\n",
      "/store/books/look.php?p_code=B3895086770 똑똑한 두뇌 연습 100 : 탈것, 동물, 축구 세트\n",
      "/store/books/look.php?p_code=B4731993755 만들면서 배우는 워드프레스 (개정2판)\n",
      "/store/books/look.php?p_code=B2064300579 이것이 MySQL이다(개정판)\n",
      "/store/books/look.php?p_code=B2926273381 미로 마스터 LEVEL2. 미스터리 미로\n",
      "/store/books/look.php?p_code=B8703048424 미로 마스터 LEVEL3. 크레이지 미로\n",
      "/store/books/look.php?p_code=B6867862379 회사에서 바로 통하는 파워포인트 FOR STARTERS\n",
      "/store/books/look.php?p_code=B7033438574 핸즈온 머신러닝(2판)\n",
      "/store/books/look.php?p_code=B6796857324 배워서 바로 쓰는 스프링 프레임워크\n",
      "/store/books/look.php?p_code=B4068078736 BPF로 리눅스 관측 가능성 향상하기\n",
      "/store/books/look.php?p_code=B9883631255 4차 인간\n",
      "/store/books/look.php?p_code=B9839456081 할짝 심리학\n",
      "/store/books/full_book_list.html?page=2&srt=p_pub_date&brand= 2\n",
      "/store/books/full_book_list.html?page=3&srt=p_pub_date&brand= 3\n",
      "/store/books/full_book_list.html?page=4&srt=p_pub_date&brand= 4\n",
      "/store/books/full_book_list.html?page=5&srt=p_pub_date&brand= 5\n",
      "/store/books/full_book_list.html?page=6&srt=p_pub_date&brand= 6\n",
      "/store/books/full_book_list.html?page=7&srt=p_pub_date&brand= 7\n",
      "/store/books/full_book_list.html?page=8&srt=p_pub_date&brand= 8\n",
      "/store/books/full_book_list.html?page=9&srt=p_pub_date&brand= 9\n",
      "/store/books/full_book_list.html?page=10&srt=p_pub_date&brand= 10\n",
      "/store/books/full_book_list.html?page=11&srt=p_pub_date&brand= >\n",
      "javascript:document.frm.submit(); 전체 목록 다운로드\n",
      "https://www.hanbit.co.kr/support/notice_list.html 공지사항\n",
      "/support/notice_view.html?hnb_idx=300 [채용공고]  IT 관련 도서를 함께 만들어나갈 인턴을 모십니다.\n",
      "https://www.hanbit.co.kr/publisher/index.html 회사소개\n",
      "https://www.hanbit.co.kr/publisher/index.html KOR\n",
      "https://www.hanbit.co.kr/publisher/index.html?lang=e ENG\n",
      "https://www.hanbit.co.kr/publisher/contact.html?lang=k 약도\n",
      "https://www.hanbit.co.kr/publisher/write.html 기획 및 원고 모집\n",
      "https://www.hanbit.co.kr/publisher/foreignrights.html FOREIGN RIGHTS\n",
      "https://www.hanbit.co.kr/member/use_agreement.html 이용약관\n",
      "https://www.hanbit.co.kr/member/privacy_policy.html 개인정보취급방침\n",
      "https://www.hanbit.co.kr/sitemap/sitemap.html 사이트맵\n",
      "https://www.facebook.com/hanbitmedia 페이스북\n",
      "https://twitter.com/hanbit 트위터\n",
      "https://www.youtube.com/user/HanbitMedia93 유튜브\n",
      "http://blog.hanbit.co.kr/ 블로그\n",
      "https://m.post.naver.com/hanbitstory 네이버포스트\n",
      "http://www.ftc.go.kr/bizCommPop.do?wrkr_no=2208105665 [확인]\n",
      "https://www.hanbit.co.kr/support/supplement_list.html 자료실\n"
     ]
    }
   ],
   "source": [
    "for a in soup.find_all('a'):\n",
    "    print(a.get('href'), a.text)"
   ]
  },
  {
   "cell_type": "markdown",
   "metadata": {},
   "source": [
    "# scrape_by_pyquery"
   ]
  },
  {
   "cell_type": "code",
   "execution_count": 19,
   "metadata": {},
   "outputs": [],
   "source": [
    "# !pip install pyquery"
   ]
  },
  {
   "cell_type": "code",
   "execution_count": 20,
   "metadata": {},
   "outputs": [],
   "source": [
    "from pyquery import PyQuery"
   ]
  },
  {
   "cell_type": "code",
   "execution_count": 21,
   "metadata": {},
   "outputs": [
    {
     "data": {
      "text/plain": [
       "pyquery.pyquery.PyQuery"
      ]
     },
     "execution_count": 21,
     "metadata": {},
     "output_type": "execute_result"
    }
   ],
   "source": [
    "d = PyQuery(url='http://www.hanbit.co.kr/store/books/full_book_list.html')\n",
    "type(d)"
   ]
  },
  {
   "cell_type": "code",
   "execution_count": 22,
   "metadata": {},
   "outputs": [
    {
     "data": {
      "text/plain": [
       "pyquery.pyquery.PyQuery"
      ]
     },
     "execution_count": 22,
     "metadata": {},
     "output_type": "execute_result"
    }
   ],
   "source": [
    "div = d('div')\n",
    "type(div)"
   ]
  },
  {
   "cell_type": "code",
   "execution_count": 24,
   "metadata": {},
   "outputs": [
    {
     "data": {
      "text/plain": [
       "'quick_skip_menu'"
      ]
     },
     "execution_count": 24,
     "metadata": {},
     "output_type": "execute_result"
    }
   ],
   "source": [
    "div.attr('id')"
   ]
  },
  {
   "cell_type": "code",
   "execution_count": 29,
   "metadata": {},
   "outputs": [
    {
     "data": {
      "text/plain": [
       "<bound method PyQuery.text of [<div#quick_skip_menu>, <div#wrap_nav>, <div#wrap_gnb>, <div#gnb>, <div.lnb>, <div.lnb_area>, <div#main_search_area.fixed>, <div.msa_wrap>, <div.msa_srch_wrap>, <div.msa_srch_polular>, <div.popula_box>, <div.msa_srch_suggestion>, <div.sugg_left>, <div.sugg_right>, <div.sugg_book>, <div.sugg_edu>, <div.sugg_cont>, <div.msa_wrap_close>, <div#container>, <div.docu_title>, <div.full_book_list_wrap>, <div.btn_brand_area>, <div.series_lineup>, <div.btn_full_list>, <div.table_area>, <div.paginate.bdr_no>, <div.btn_full_list.mt40>, <div.foot_notice>, <div.foot_contents>, <div.foot_menu>, <div.foot_sns>, <div.foot_about>, <div.foot_about_area>, <div.copyright>, <div.foot_download_btn>]>"
      ]
     },
     "execution_count": 29,
     "metadata": {},
     "output_type": "execute_result"
    }
   ],
   "source": [
    "div.text"
   ]
  },
  {
   "cell_type": "code",
   "execution_count": 26,
   "metadata": {},
   "outputs": [
    {
     "data": {
      "text/plain": [
       "[<li.foot_facebook>]"
      ]
     },
     "execution_count": 26,
     "metadata": {},
     "output_type": "execute_result"
    }
   ],
   "source": [
    "li = d('li')\n",
    "d('li.foot_facebook') # li 중 class=foot_facebook 추출"
   ]
  },
  {
   "cell_type": "code",
   "execution_count": 28,
   "metadata": {},
   "outputs": [
    {
     "data": {
      "text/plain": [
       "<bound method PyQuery.text of [<li>, <li>, <li>, <li>, <li>, <li>, <li>, <li>, <li>, <li>, <li>, <li>, <li>, <li>, <li>, <li>, <li>, <li>, <li#top_search.search>, <li>, <li>, <li>, <li>, <li>, <li>, <li>, <li>, <li>, <li>, <li>, <li>, <li>, <li>, <li>, <li>, <li>, <li>, <li>, <li>, <li>, <li>, <li>, <li>, <li>, <li>, <li>, <li>, <li>, <li>, <li>, <li>, <li>, <li>, <li>, <li>, <li>, <li>, <li>, <li>, <li>, <li>, <li>, <li>, <li>, <li>, <li>, <li>, <li.gnb_category_series>, <li.gnb_category_reservations>, <li>, <li>, <li>, <li>, <li>, <li>, <li>, <li>, <li>, <li>, <li.curr>, <li>, <li>, <li>, <li>, <li>, <li>, <li>, <li>, <li>, <li>, <li>, <li>, <li>, <li>, <li>, <li.foot_facebook>, <li.foot_twitter>, <li.foot_youtube>, <li.foot_bolg>, <li.foot_naverpost>]>"
      ]
     },
     "execution_count": 28,
     "metadata": {},
     "output_type": "execute_result"
    }
   ],
   "source": [
    "li.text"
   ]
  },
  {
   "cell_type": "markdown",
   "metadata": {},
   "source": [
    "# scrape_by_rss"
   ]
  },
  {
   "cell_type": "code",
   "execution_count": 30,
   "metadata": {},
   "outputs": [],
   "source": [
    "# !pip install feedparser"
   ]
  },
  {
   "cell_type": "code",
   "execution_count": 31,
   "metadata": {},
   "outputs": [],
   "source": [
    "import feedparser"
   ]
  },
  {
   "cell_type": "code",
   "execution_count": 32,
   "metadata": {},
   "outputs": [],
   "source": [
    "d = feedparser.parse('it.rss')"
   ]
  },
  {
   "cell_type": "code",
   "execution_count": 33,
   "metadata": {},
   "outputs": [
    {
     "data": {
      "text/plain": [
       "feedparser.FeedParserDict"
      ]
     },
     "execution_count": 33,
     "metadata": {},
     "output_type": "execute_result"
    }
   ],
   "source": [
    "d = feedparser.parse('http://www.aladin.co.kr/rss/new_all/351')\n",
    "type(d)"
   ]
  },
  {
   "cell_type": "code",
   "execution_count": 34,
   "metadata": {},
   "outputs": [
    {
     "data": {
      "text/plain": [
       "'rss20'"
      ]
     },
     "execution_count": 34,
     "metadata": {},
     "output_type": "execute_result"
    }
   ],
   "source": [
    "d.version"
   ]
  },
  {
   "cell_type": "code",
   "execution_count": 35,
   "metadata": {},
   "outputs": [
    {
     "data": {
      "text/plain": [
       "'분야별 신간 - 컴퓨터/모바일'"
      ]
     },
     "execution_count": 35,
     "metadata": {},
     "output_type": "execute_result"
    }
   ],
   "source": [
    "d.feed.title"
   ]
  },
  {
   "cell_type": "code",
   "execution_count": 36,
   "metadata": {},
   "outputs": [
    {
     "data": {
      "text/plain": [
       "'http://www.aladin.co.kr/rsscenter/go.aspx/www.aladin.co.kr/shop/book/wnewbook.aspx?cid=351&rssType=2&type=title'"
      ]
     },
     "execution_count": 36,
     "metadata": {},
     "output_type": "execute_result"
    }
   ],
   "source": [
    "d.feed.link"
   ]
  },
  {
   "cell_type": "code",
   "execution_count": 37,
   "metadata": {},
   "outputs": [
    {
     "data": {
      "text/plain": [
       "'분야별 신간'"
      ]
     },
     "execution_count": 37,
     "metadata": {},
     "output_type": "execute_result"
    }
   ],
   "source": [
    "d.feed.description"
   ]
  },
  {
   "cell_type": "code",
   "execution_count": 38,
   "metadata": {},
   "outputs": [
    {
     "data": {
      "text/plain": [
       "25"
      ]
     },
     "execution_count": 38,
     "metadata": {},
     "output_type": "execute_result"
    }
   ],
   "source": [
    "len(d.entries)"
   ]
  },
  {
   "cell_type": "code",
   "execution_count": 39,
   "metadata": {},
   "outputs": [
    {
     "data": {
      "text/plain": [
       "'Arm 프로그래밍/서태원 지음/생능출판사'"
      ]
     },
     "execution_count": 39,
     "metadata": {},
     "output_type": "execute_result"
    }
   ],
   "source": [
    "d.entries[0].title"
   ]
  },
  {
   "cell_type": "code",
   "execution_count": 40,
   "metadata": {},
   "outputs": [
    {
     "data": {
      "text/plain": [
       "'http://www.aladin.co.kr/rsscenter/go.aspx?rssType=2&type=item&itemId=246577018'"
      ]
     },
     "execution_count": 40,
     "metadata": {},
     "output_type": "execute_result"
    }
   ],
   "source": [
    "d.entries[0].link"
   ]
  },
  {
   "cell_type": "code",
   "execution_count": 41,
   "metadata": {
    "scrolled": true
   },
   "outputs": [
    {
     "data": {
      "text/plain": [
       "'<br/><table border=\\'0\\' cellpadding=\\'0\\' cellspacing=\\'0\\'><tr><td align=\\'left\\' valign=\\'top\\'><table cellspacing=\\'1\\' cellpadding=\\'5\\' border=\\'0\\' bgcolor=\\'#dddddd\\' style=\\'margin-right:10px;\\'><tbody><tr><td bgcolor=\\'#ffffff\\'><a href=\\'http://www.aladin.co.kr/rsscenter/go.aspx?rssType=2&type=item&itemId=246577018\\'><img src=\\'https://image.aladin.co.kr/product/24657/70/cover/8970504133_1.jpg\\' border=\\'0\\' /></a></td></tr></tbody></table><h2><a href=\\'http://www.aladin.co.kr/rsscenter/go.aspx?rssType=2&type=item&itemId=246577018\\'>Arm 프로그래밍</a></h2>서태원 지음 / 생능출판사 / 2020년 07월 / ISBN:<span class=\\'isbn13\\'>9788970504131</span><br/>정가: <span style=\\'color:#FF0202\\'>24,000</span>원 / 판매가: <span style=\\'color:#FF0202\\'>24,000</span>원 / 마일리지: <span style=\\'color:#FF0202\\'>119</span>원<br/><span style=\\'color:#FF0202\\'>이벤트</span>: 수험서.외국어.컴퓨터.대학교재 - 본투리드 핸디 선풍기/스트랩 메쉬 파우치/분철 라벨스틱<br/><table border=\\'0\\' cellpadding=\\'3\\' cellspacing=\\'0\\' height=\\'20\\'><tr><td width=\\'113\\' align=\\'left\\'><a href=\\'http://www.aladin.co.kr/rsscenter/go.aspx?type=basket&itemId=246577018&rssType=2\\' target=\\'_blank\\'><img src=\\'http://www.aladin.co.kr/img/rss/bu_basket.gif\\' border=\\'0\\' alt=\\'장바구니담기\\'/></a></td><td width=\\'101\\' align=\\'left\\'><a href=\\'http://www.aladin.co.kr/rsscenter/go.aspx?type=safebasket&itemId=246577018&rssType=2\\' target=\\'_blank\\'><img src=\\'http://www.aladin.co.kr/img/rss/bu_safebasket.gif\\' border=\\'0\\' alt=\\'보관함담기\\'/></a></td><td width=\\'83\\' align=\\'left\\'></td><td width=\\'113\\' align=\\'left\\'></td></tr></table></td></tr><tr><td valign=\\'top\\' align=\\'left\\'><img src=\"http://www.aladin.co.kr/img/book/intro_t.gif\" border=\"0\" /><br/>Arm Cortex-A9 CPU를 중심으로 한 프로그래밍 도서다. 어셈블리 프로그래밍에 필수적인 컴퓨터의 기본 원리에 대해 설명하였고, CPU 하드웨어 동작 원리를 기반으로 ‘Cortex-A 프로그래밍’을 설명하여 논리적인 사고를 할 수 있도록 하였다. 또한 Thumb2, TLB, TrustZone과 같은 내용은 배경 설명을 통해 필요성에 대한 이해를 선행시키려 했다.<br/><br/><img src=\"http://www.aladin.co.kr/img/book/content_t.gif\" border=\"0\" /><br/><p><B>Chapter 1 Arm 소개 및 실습 환경</B><BR>\\n 1.1 Arm 아키텍처(Architecture)<BR>\\n 1.2 Zynq-7000 Cortex-A9<BR>\\n 1.3 실습 환경<BR>\\n     1.3.1 하드웨어 시스템<BR>\\n     1.3.2 SDK(Software Development Kit)<BR>\\n<BR>\\n<B>CHAPTER 2 컴퓨터 기본기(Computer Basics)</B><BR>\\n 2.1 코딩이 왜 어려울까?<BR>\\n 2.2 컴퓨터의 분류<BR>\\n 2.3 컴퓨터의 구성과 동작<BR>\\n 2.4 내가 정말 CPU를 만들 수 있을까?<BR>\\n 2.5 클럭(Clock), 주파수(Frequency)<BR>\\n 2.6 하드디스크, 메인 메모리, 캐시, 레지스터<BR>\\n 2.7 명령어(Instruction)<BR>\\n 2.8 32-bit, 64-bit 컴퓨터란?<BR>\\n 2.9 컴퓨터는 처음에 어디에서 무엇을 실행할까?<BR>\\n 2.10 컴퓨터는 더하기, 빼기를 어떻게 할까?<BR>\\n 2.11 Signed, Unsigned, 그리고 컴퓨터가 표현할 수 있는 숫자의 한계<BR>\\n 2.12 CPU에서 숫자의 대소비교는 어떻게 할까?<BR>\\n     2.12.1 N(Negative) 플래그 설정<BR>\\n     2.12.2 Z(Zero) 플래그 설정<BR>\\n     2.12.3 C(Carry) 플래그 설정<BR>\\n     2.12.4 V(Overflow) 플래그 설정<BR>\\n<BR>\\n<B>CHAPTER 3 Armv7-A 명령어</B><BR>\\n 3.1 데이터처리 명령어(Data Processing Instruction)<BR>\\n     3.1.1 Shift 명령어<BR>\\n     3.1.2 Move 명령어<BR>\\n     3.1.3 산술 명령어(Arithmetic Instruction) <BR>\\n     3.1.4 논리 명령어(Logical Instruction)<BR>\\n     3.1.5 비교 명령어(Comparison Instruction) <BR>\\n     3.1.6 조건에 따른 실행(Conditional Execution) <BR>\\n 3.2 분기 명령어(Branch Instruction)<BR>\\n 3.3 메모리 접근 명령어(Memory Access Instruction) <BR>\\n     3.3.1 Single Data 접근 명령어<BR>\\n     3.3.2 Multiple Data 접근 명령어<BR>\\n     3.3.3 스택을 위한 메모리 접근 명령어<BR>\\n<BR>\\n<B>CHAPTER 4 Thumb2와 Interworking</B><BR>\\n 4.1 Interworking<BR>\\n     4.1.1 ‘BLX’를 사용한 함수 호출 및 명령어 set switching<BR>\\n     4.1.2 ‘BX Rm’을 사용한 호출 함수로 복귀 및 명령어 set switching<BR>\\n 4.2 Thumb2에서 조건에 따른 실행(Conditional Execution)<BR>\\n<BR>\\n<B>CHAPTER 5 메모리맵과 I/O장치 </B><BR>\\n 5.1 메모리맵(Memory Map)<BR>\\n 5.2 I/O장치<BR>\\n     5.2.1 GPIO(General-Purpose Input/Output)<BR>\\n     5.2.2 타이머(Timer) <BR>\\n     5.2.3 UAR...<br/><br/><img src=\"http://www.aladin.co.kr/img/book/subject_t.gif\" border=\"0\" /><br/><a href=\\'http://www.aladin.co.kr/home/wbookmain.aspx\\' class=\\'ml\\'>국내도서</a>&nbsp;>&nbsp;<a href=\\'http://www.aladin.co.kr/shop/wbrowse.aspx?CID=351\\' class=\\'ml\\'>컴퓨터/모바일</a>&nbsp;>&nbsp;<a href=\\'http://www.aladin.co.kr/shop/wbrowse.aspx?CID=2719\\' class=\\'ml\\'>컴퓨터 공학</a>&nbsp;>&nbsp;<a href=\\'http://www.aladin.co.kr/shop/wbrowse.aspx?CID=2744&BrowseTarget=List\\' class=\\'ml\\'><b>마이크로프로세서</b></a><br/><a href=\\'http://www.aladin.co.kr/home/wbookmain.aspx\\' class=\\'ml\\'>국내도서</a>&nbsp;>&nbsp;<a href=\\'http://www.aladin.co.kr/shop/wbrowse.aspx?CID=351\\' class=\\'ml\\'>컴퓨터/모바일</a>&nbsp;>&nbsp;<a href=\\'http://www.aladin.co.kr/shop/wbrowse.aspx?CID=437\\' class=\\'ml\\'>프로그래밍 언어</a>&nbsp;>&nbsp;<a href=\\'http://www.aladin.co.kr/shop/wbrowse.aspx?CID=6357&BrowseTarget=List\\' class=\\'ml\\'><b>프로그래밍 언어 기타</b></a><br/><a href=\\'http://www.aladin.co.kr/home/wbookmain.aspx\\' class=\\'ml\\'>국내도서</a>&nbsp;>&nbsp;<a href=\\'http://www.aladin.co.kr/shop/wbrowse.aspx?CID=8257\\' class=\\'ml\\'>대학교재/전문서적</a>&nbsp;>&nbsp;<a href=\\'http://www.aladin.co.kr/shop/wbrowse.aspx?CID=8262\\' class=\\'ml\\'>공학계열</a>&nbsp;>&nbsp;<a href=\\'http://www.aladin.co.kr/shop/wbrowse.aspx?CID=8467\\' class=\\'ml\\'>컴퓨터공학</a>&nbsp;>&nbsp;<a href=\\'http://www.aladin.co.kr/shop/wbrowse.aspx?CID=8537&BrowseTarget=List\\' class=\\'ml\\'><b>컴퓨터공학/전산학 개론</b></a><br/><a href=\\'http://www.aladin.co.kr/home/wbookmain.aspx\\' class=\\'ml\\'>국내도서</a>&nbsp;>&nbsp;<a href=\\'http://www.aladin.co.kr/shop/wbrowse.aspx?CID=8257\\' class=\\'ml\\'>대학교재/전문서적</a>&nbsp;>&nbsp;<a href=\\'http://www.aladin.co.kr/shop/wbrowse.aspx?CID=8262\\' class=\\'ml\\'>공학계열</a>&nbsp;>&nbsp;<a href=\\'http://www.aladin.co.kr/shop/wbrowse.aspx?CID=8467\\' class=\\'ml\\'>컴퓨터공학</a>&nbsp;>&nbsp;<a href=\\'http://www.aladin.co.kr/shop/wbrowse.aspx?CID=27660&BrowseTarget=List\\' class=\\'ml\\'><b>프로그래밍 언어</b></a><br/><br/></td></tr></table>'"
      ]
     },
     "execution_count": 41,
     "metadata": {},
     "output_type": "execute_result"
    }
   ],
   "source": [
    "d.entries[0].description"
   ]
  },
  {
   "cell_type": "code",
   "execution_count": 42,
   "metadata": {
    "scrolled": true
   },
   "outputs": [
    {
     "name": "stdout",
     "output_type": "stream",
     "text": [
      "이름 Arm 프로그래밍/서태원 지음/생능출판사\n",
      "http://www.aladin.co.kr/rsscenter/go.aspx?rssType=2&type=item&itemId=246577018\n",
      "\n",
      "이름 자바 코딩의 기술/사이먼 하러.요르그 레너드.리누스 디에츠 지음, 심지현 옮김/길벗\n",
      "http://www.aladin.co.kr/rsscenter/go.aspx?rssType=2&type=item&itemId=246571219\n",
      "\n",
      "이름 Let's 실전 예제로 배우는 파이썬 프로그래밍/김진성 지음/엠제이씨북스\n",
      "http://www.aladin.co.kr/rsscenter/go.aspx?rssType=2&type=item&itemId=246569111\n",
      "\n",
      "이름 3D 프린팅 모델링 자격 2급 필기.실기 한 권에 끝내기/김보영 지음/원교재사\n",
      "http://www.aladin.co.kr/rsscenter/go.aspx?rssType=2&type=item&itemId=246550812\n",
      "\n",
      "이름 일래스틱 스택을 이용한 머신러닝/리치 콜리어.바할딘 아자미 지음, 최중연 외 옮김/에이콘출판\n",
      "http://www.aladin.co.kr/rsscenter/go.aspx?rssType=2&type=item&itemId=246525478\n",
      "\n",
      "이름 스스로 ISMS-P 수험서/유영일 외 지음/부크크(bookk)\n",
      "http://www.aladin.co.kr/rsscenter/go.aspx?rssType=2&type=item&itemId=246519075\n",
      "\n",
      "이름 한 번 배운 파이썬, 나만의 활용 스킬/이강성 지음/프리렉\n",
      "http://www.aladin.co.kr/rsscenter/go.aspx?rssType=2&type=item&itemId=246518510\n",
      "\n",
      "이름 임베디드 엔지니어 교과서/와타나베 노보루.마키노 신지 지음, 정인식 옮김/제이펍\n",
      "http://www.aladin.co.kr/rsscenter/go.aspx?rssType=2&type=item&itemId=246518289\n",
      "\n",
      "이름 엑셀로 배우는 순환 신경망.강화학습 초(超)입문 : RNN.DQN편/와쿠이 요시유키.와쿠이 사다미 지음, 권기태 옮김/성안당\n",
      "http://www.aladin.co.kr/rsscenter/go.aspx?rssType=2&type=item&itemId=246439112\n",
      "\n",
      "이름 Do it! 자료구조와 함께 배우는 알고리즘 입문 : 파이썬 편/보요 시바타 지음, 강민 옮김/이지스퍼블리싱\n",
      "http://www.aladin.co.kr/rsscenter/go.aspx?rssType=2&type=item&itemId=246435695\n",
      "\n",
      "이름 언리얼 엔진 4 머티리얼/브라이스 브렌라 라모스.존 도란 지음, 김규열 옮김/에이콘출판\n",
      "http://www.aladin.co.kr/rsscenter/go.aspx?rssType=2&type=item&itemId=246397816\n",
      "\n",
      "이름 Node.js 교과서/조현영 지음/길벗\n",
      "http://www.aladin.co.kr/rsscenter/go.aspx?rssType=2&type=item&itemId=246391275\n",
      "\n",
      "이름 유닉스의 탄생/브라이언 커니핸 지음, 하성창 옮김/한빛미디어\n",
      "http://www.aladin.co.kr/rsscenter/go.aspx?rssType=2&type=item&itemId=246390920\n",
      "\n",
      "이름 홈런 AI 교과서 : 실전편/구덕회.이영호 지음/아이스크림에듀\n",
      "http://www.aladin.co.kr/rsscenter/go.aspx?rssType=2&type=item&itemId=246343508\n",
      "\n",
      "이름 클라우드, 모바일 및 에지 기반의 딥러닝 실용가이드/Anirudh Koul 외 지음, 심재창 외 옮김/DK로드북스\n",
      "http://www.aladin.co.kr/rsscenter/go.aspx?rssType=2&type=item&itemId=246340001\n",
      "\n",
      "이름 이것이 인공지능이다/김명락 지음/슬로디미디어\n",
      "http://www.aladin.co.kr/rsscenter/go.aspx?rssType=2&type=item&itemId=246308475\n",
      "\n",
      "이름 디지털 포렌식/강구민.천성덕.김무석 지음/안북스\n",
      "http://www.aladin.co.kr/rsscenter/go.aspx?rssType=2&type=item&itemId=246295360\n",
      "\n",
      "이름 ISMS-P 인증 한권으로 마스터하기/권성호 지음/부크크(bookk)\n",
      "http://www.aladin.co.kr/rsscenter/go.aspx?rssType=2&type=item&itemId=246280483\n",
      "\n",
      "이름 핸즈온 비지도 학습/안쿠르 A. 파텔 지음, 강재원.권재철 옮김/한빛미디어\n",
      "http://www.aladin.co.kr/rsscenter/go.aspx?rssType=2&type=item&itemId=246161094\n",
      "\n",
      "이름 Brightics Studio로 시작하는 금융 빅데이터 분석/김세미 외 지음/아이생각(디지털북스)\n",
      "http://www.aladin.co.kr/rsscenter/go.aspx?rssType=2&type=item&itemId=246155498\n",
      "\n",
      "이름 오브젝트 디자인 스타일 가이드/마티아스 노박 지음, 이상주 옮김/위키북스\n",
      "http://www.aladin.co.kr/rsscenter/go.aspx?rssType=2&type=item&itemId=246083162\n",
      "\n",
      "이름 양자 컴퓨팅 발전과 전망/전미 과학·공학·의학한림원 지음, 테크 트랜스 그룹 T4 옮김/에이콘출판\n",
      "http://www.aladin.co.kr/rsscenter/go.aspx?rssType=2&type=item&itemId=246069442\n",
      "\n",
      "이름 쿠버네티스 시작하기 2/e/브렌던 번스 외 지음, 이준 외 옮김/에이콘출판\n",
      "http://www.aladin.co.kr/rsscenter/go.aspx?rssType=2&type=item&itemId=246068367\n",
      "\n",
      "이름 데이터 시각화 입문/후지 토시쿠니.와타나베 료이치 지음, 김태현 옮김/로드북\n",
      "http://www.aladin.co.kr/rsscenter/go.aspx?rssType=2&type=item&itemId=246067355\n",
      "\n",
      "이름 비전공자를 위한 이해할 수 있는 IT 지식/최원영 지음/T.W.I.G(티더블유아이지)(주)\n",
      "http://www.aladin.co.kr/rsscenter/go.aspx?rssType=2&type=item&itemId=246064543\n",
      "\n"
     ]
    }
   ],
   "source": [
    "for entry in d.entries:\n",
    "    print('이름', entry.title)\n",
    "    print(entry.link)\n",
    "    print()"
   ]
  },
  {
   "cell_type": "markdown",
   "metadata": {},
   "source": [
    "# python_crawler_1"
   ]
  },
  {
   "cell_type": "markdown",
   "metadata": {},
   "source": [
    "목록 페이지에서 퍼머 링크 목록 추출"
   ]
  },
  {
   "cell_type": "code",
   "execution_count": 43,
   "metadata": {},
   "outputs": [],
   "source": [
    "import requests\n",
    "import lxml.html"
   ]
  },
  {
   "cell_type": "code",
   "execution_count": 44,
   "metadata": {},
   "outputs": [
    {
     "data": {
      "text/plain": [
       "requests.models.Response"
      ]
     },
     "execution_count": 44,
     "metadata": {},
     "output_type": "execute_result"
    }
   ],
   "source": [
    "response = requests.get('http://www.hanbit.co.kr/store/books/new_book_list.html')\n",
    "type(response)"
   ]
  },
  {
   "cell_type": "code",
   "execution_count": 45,
   "metadata": {},
   "outputs": [],
   "source": [
    "root = lxml.html.fromstring(response.content)"
   ]
  },
  {
   "cell_type": "code",
   "execution_count": 46,
   "metadata": {
    "scrolled": true
   },
   "outputs": [
    {
     "name": "stdout",
     "output_type": "stream",
     "text": [
      "/store/books/look.php?p_code=B8460934222\n",
      "javascript:;\n",
      "/store/books/look.php?p_code=B8460934222\n",
      "/store/books/look.php?p_code=B5877288702\n",
      "javascript:;\n",
      "/store/books/look.php?p_code=B5877288702\n",
      "/store/books/look.php?p_code=B5937482728\n",
      "javascript:;\n",
      "/store/books/look.php?p_code=B5937482728\n",
      "/store/books/look.php?p_code=B8656803901\n",
      "javascript:;\n",
      "/store/books/look.php?p_code=B8656803901\n",
      "/store/books/look.php?p_code=B3397547488\n",
      "javascript:;\n",
      "/store/books/look.php?p_code=B3397547488\n",
      "/store/books/look.php?p_code=B7448405310\n",
      "javascript:;\n",
      "/store/books/look.php?p_code=B7448405310\n",
      "/store/books/look.php?p_code=B5555860904\n",
      "javascript:;\n",
      "/store/books/look.php?p_code=B5555860904\n",
      "/store/books/look.php?p_code=B7126889829\n",
      "javascript:;\n",
      "/store/books/look.php?p_code=B7126889829\n",
      "/store/books/look.php?p_code=B9697194640\n",
      "javascript:;\n",
      "/store/books/look.php?p_code=B9697194640\n",
      "/store/books/look.php?p_code=B8404138031\n",
      "javascript:;\n",
      "/store/books/look.php?p_code=B8404138031\n",
      "/store/books/look.php?p_code=B8573612142\n",
      "javascript:;\n",
      "/store/books/look.php?p_code=B8573612142\n",
      "/store/books/look.php?p_code=B8658821149\n",
      "javascript:;\n",
      "/store/books/look.php?p_code=B8658821149\n",
      "/store/books/look.php?p_code=B7926921440\n",
      "javascript:;\n",
      "/store/books/look.php?p_code=B7926921440\n",
      "/store/books/look.php?p_code=B7748014142\n",
      "javascript:;\n",
      "/store/books/look.php?p_code=B7748014142\n",
      "/store/books/look.php?p_code=B3745711486\n",
      "javascript:;\n",
      "/store/books/look.php?p_code=B3745711486\n",
      "/store/books/look.php?p_code=B7026921929\n",
      "javascript:;\n",
      "/store/books/look.php?p_code=B7026921929\n",
      "/store/books/look.php?p_code=B4295361584\n",
      "javascript:;\n",
      "/store/books/look.php?p_code=B4295361584\n",
      "/store/books/look.php?p_code=B7346049104\n",
      "javascript:;\n",
      "/store/books/look.php?p_code=B7346049104\n",
      "/store/books/look.php?p_code=B9609283195\n",
      "javascript:;\n",
      "/store/books/look.php?p_code=B9609283195\n",
      "/store/books/look.php?p_code=B3126325886\n",
      "javascript:;\n",
      "/store/books/look.php?p_code=B3126325886\n"
     ]
    }
   ],
   "source": [
    "for a in root.cssselect('.view_box a'):\n",
    "    url = a.get('href')\n",
    "    print(url)"
   ]
  },
  {
   "cell_type": "code",
   "execution_count": 47,
   "metadata": {
    "scrolled": true
   },
   "outputs": [
    {
     "name": "stdout",
     "output_type": "stream",
     "text": [
      "https://www.hanbit.co.kr/images/common/icon_view_detail.png\n",
      "https://www.hanbit.co.kr/images/common/icon_add_cart.png\n",
      "/data/books/B8460934222_m.jpg\n",
      "https://www.hanbit.co.kr/images/common/icon_view_detail.png\n",
      "https://www.hanbit.co.kr/images/common/icon_add_cart.png\n",
      "/data/books/B5877288702_m.jpg\n",
      "https://www.hanbit.co.kr/images/common/icon_view_detail.png\n",
      "https://www.hanbit.co.kr/images/common/icon_add_cart.png\n",
      "/data/books/B5937482728_m.jpg\n",
      "https://www.hanbit.co.kr/images/common/icon_view_detail.png\n",
      "https://www.hanbit.co.kr/images/common/icon_add_cart.png\n",
      "/data/books/B8656803901_m.jpg\n",
      "https://www.hanbit.co.kr/images/common/icon_view_detail.png\n",
      "https://www.hanbit.co.kr/images/common/icon_add_cart.png\n",
      "/data/books/B3397547488_m.jpg\n",
      "https://www.hanbit.co.kr/images/common/icon_view_detail.png\n",
      "https://www.hanbit.co.kr/images/common/icon_add_cart.png\n",
      "/data/books/B7448405310_m.jpg\n",
      "https://www.hanbit.co.kr/images/common/icon_view_detail.png\n",
      "https://www.hanbit.co.kr/images/common/icon_add_cart.png\n",
      "/data/books/B5555860904_m.jpg\n",
      "https://www.hanbit.co.kr/images/common/icon_view_detail.png\n",
      "https://www.hanbit.co.kr/images/common/icon_add_cart.png\n",
      "/data/books/B7126889829_m.jpg\n",
      "https://www.hanbit.co.kr/images/common/icon_view_detail.png\n",
      "https://www.hanbit.co.kr/images/common/icon_add_cart.png\n",
      "/data/books/B9697194640_m.jpg\n",
      "https://www.hanbit.co.kr/images/common/icon_view_detail.png\n",
      "https://www.hanbit.co.kr/images/common/icon_add_cart.png\n",
      "/data/books/B8404138031_m.jpg\n",
      "https://www.hanbit.co.kr/images/common/icon_view_detail.png\n",
      "https://www.hanbit.co.kr/images/common/icon_add_cart.png\n",
      "/data/books/B8573612142_m.jpg\n",
      "https://www.hanbit.co.kr/images/common/icon_view_detail.png\n",
      "https://www.hanbit.co.kr/images/common/icon_add_cart.png\n",
      "/data/books/B8658821149_m.jpg\n",
      "https://www.hanbit.co.kr/images/common/icon_view_detail.png\n",
      "https://www.hanbit.co.kr/images/common/icon_add_cart.png\n",
      "/data/books/B7926921440_m.jpg\n",
      "https://www.hanbit.co.kr/images/common/icon_view_detail.png\n",
      "https://www.hanbit.co.kr/images/common/icon_add_cart.png\n",
      "/data/books/B7748014142_m.jpg\n",
      "https://www.hanbit.co.kr/images/common/icon_view_detail.png\n",
      "https://www.hanbit.co.kr/images/common/icon_add_cart.png\n",
      "/data/books/B3745711486_m.jpg\n",
      "https://www.hanbit.co.kr/images/common/icon_view_detail.png\n",
      "https://www.hanbit.co.kr/images/common/icon_add_cart.png\n",
      "/data/books/B7026921929_m.jpg\n",
      "https://www.hanbit.co.kr/images/common/icon_view_detail.png\n",
      "https://www.hanbit.co.kr/images/common/icon_add_cart.png\n",
      "/data/books/B4295361584_m.jpg\n",
      "https://www.hanbit.co.kr/images/common/icon_view_detail.png\n",
      "https://www.hanbit.co.kr/images/common/icon_add_cart.png\n",
      "/data/books/B7346049104_m.jpg\n",
      "https://www.hanbit.co.kr/images/common/icon_view_detail.png\n",
      "https://www.hanbit.co.kr/images/common/icon_add_cart.png\n",
      "/data/books/B9609283195_m.jpg\n",
      "https://www.hanbit.co.kr/images/common/icon_view_detail.png\n",
      "https://www.hanbit.co.kr/images/common/icon_add_cart.png\n",
      "/data/books/B3126325886_m.jpg\n"
     ]
    }
   ],
   "source": [
    "# 이미지 링크\n",
    "for i in root.cssselect('.view_box img'):\n",
    "    img = i.get('src')\n",
    "    print(img)"
   ]
  },
  {
   "cell_type": "markdown",
   "metadata": {},
   "source": [
    "# python_crawler_2"
   ]
  },
  {
   "cell_type": "code",
   "execution_count": null,
   "metadata": {},
   "outputs": [],
   "source": [
    "import requests\n",
    "import lxml.html"
   ]
  },
  {
   "cell_type": "code",
   "execution_count": 48,
   "metadata": {},
   "outputs": [],
   "source": [
    "response = requests.get('http://www.hanbit.co.kr/store/books/new_book_list.html')\n",
    "root = lxml.html.fromstring(response.content)"
   ]
  },
  {
   "cell_type": "code",
   "execution_count": 49,
   "metadata": {},
   "outputs": [],
   "source": [
    "root.make_links_absolute(response.url) # 상대경로>절대경로 변환"
   ]
  },
  {
   "cell_type": "code",
   "execution_count": 50,
   "metadata": {
    "scrolled": true
   },
   "outputs": [
    {
     "name": "stdout",
     "output_type": "stream",
     "text": [
      "https://www.hanbit.co.kr/store/books/look.php?p_code=B8460934222\n",
      "https://www.hanbit.co.kr/store/books/look.php?p_code=B5877288702\n",
      "https://www.hanbit.co.kr/store/books/look.php?p_code=B5937482728\n",
      "https://www.hanbit.co.kr/store/books/look.php?p_code=B8656803901\n",
      "https://www.hanbit.co.kr/store/books/look.php?p_code=B3397547488\n",
      "https://www.hanbit.co.kr/store/books/look.php?p_code=B7448405310\n",
      "https://www.hanbit.co.kr/store/books/look.php?p_code=B5555860904\n",
      "https://www.hanbit.co.kr/store/books/look.php?p_code=B7126889829\n",
      "https://www.hanbit.co.kr/store/books/look.php?p_code=B9697194640\n",
      "https://www.hanbit.co.kr/store/books/look.php?p_code=B8404138031\n",
      "https://www.hanbit.co.kr/store/books/look.php?p_code=B8573612142\n",
      "https://www.hanbit.co.kr/store/books/look.php?p_code=B8658821149\n",
      "https://www.hanbit.co.kr/store/books/look.php?p_code=B7926921440\n",
      "https://www.hanbit.co.kr/store/books/look.php?p_code=B7748014142\n",
      "https://www.hanbit.co.kr/store/books/look.php?p_code=B3745711486\n",
      "https://www.hanbit.co.kr/store/books/look.php?p_code=B7026921929\n",
      "https://www.hanbit.co.kr/store/books/look.php?p_code=B4295361584\n",
      "https://www.hanbit.co.kr/store/books/look.php?p_code=B7346049104\n",
      "https://www.hanbit.co.kr/store/books/look.php?p_code=B9609283195\n",
      "https://www.hanbit.co.kr/store/books/look.php?p_code=B3126325886\n"
     ]
    }
   ],
   "source": [
    "# 이미지 링크\n",
    "for a in root.cssselect('.view_box .book_tit a'):\n",
    "    url = a.get('href')\n",
    "    print(url)"
   ]
  },
  {
   "cell_type": "markdown",
   "metadata": {},
   "source": [
    "# python_crawler_3"
   ]
  },
  {
   "cell_type": "markdown",
   "metadata": {},
   "source": [
    "세션을 활용한 웹 크롤링"
   ]
  },
  {
   "cell_type": "code",
   "execution_count": null,
   "metadata": {},
   "outputs": [],
   "source": [
    "import requests\n",
    "import lxml.html"
   ]
  },
  {
   "cell_type": "code",
   "execution_count": 51,
   "metadata": {},
   "outputs": [],
   "source": [
    "def main():\n",
    "    \"\"\"\n",
    "    크롤러의 메인 함수\n",
    "    \"\"\"\n",
    "    session = requests.Session()\n",
    "    response = session.get('http://www.hanbit.co.kr/store/books/new_book_list.html')\n",
    "    urls = scrape_list_page(response)\n",
    "    for url in urls:\n",
    "        print(url)"
   ]
  },
  {
   "cell_type": "code",
   "execution_count": 52,
   "metadata": {},
   "outputs": [],
   "source": [
    "def scrape_list_page(response):\n",
    "    root = lxml.html.fromstring(response.content)\n",
    "    root.make_links_absolute(response.url)\n",
    "    for a in root.cssselect('.view_box .book_tit a'):\n",
    "        url = a.get('href')\n",
    "        yield url"
   ]
  },
  {
   "cell_type": "code",
   "execution_count": 53,
   "metadata": {
    "scrolled": true
   },
   "outputs": [
    {
     "name": "stdout",
     "output_type": "stream",
     "text": [
      "https://www.hanbit.co.kr/store/books/look.php?p_code=B8460934222\n",
      "https://www.hanbit.co.kr/store/books/look.php?p_code=B5877288702\n",
      "https://www.hanbit.co.kr/store/books/look.php?p_code=B5937482728\n",
      "https://www.hanbit.co.kr/store/books/look.php?p_code=B8656803901\n",
      "https://www.hanbit.co.kr/store/books/look.php?p_code=B3397547488\n",
      "https://www.hanbit.co.kr/store/books/look.php?p_code=B7448405310\n",
      "https://www.hanbit.co.kr/store/books/look.php?p_code=B5555860904\n",
      "https://www.hanbit.co.kr/store/books/look.php?p_code=B7126889829\n",
      "https://www.hanbit.co.kr/store/books/look.php?p_code=B9697194640\n",
      "https://www.hanbit.co.kr/store/books/look.php?p_code=B8404138031\n",
      "https://www.hanbit.co.kr/store/books/look.php?p_code=B8573612142\n",
      "https://www.hanbit.co.kr/store/books/look.php?p_code=B8658821149\n",
      "https://www.hanbit.co.kr/store/books/look.php?p_code=B7926921440\n",
      "https://www.hanbit.co.kr/store/books/look.php?p_code=B7748014142\n",
      "https://www.hanbit.co.kr/store/books/look.php?p_code=B3745711486\n",
      "https://www.hanbit.co.kr/store/books/look.php?p_code=B7026921929\n",
      "https://www.hanbit.co.kr/store/books/look.php?p_code=B4295361584\n",
      "https://www.hanbit.co.kr/store/books/look.php?p_code=B7346049104\n",
      "https://www.hanbit.co.kr/store/books/look.php?p_code=B9609283195\n",
      "https://www.hanbit.co.kr/store/books/look.php?p_code=B3126325886\n"
     ]
    }
   ],
   "source": [
    "if __name__ == '__main__':\n",
    "    main()"
   ]
  },
  {
   "cell_type": "markdown",
   "metadata": {},
   "source": [
    "# python_crawler_4"
   ]
  },
  {
   "cell_type": "code",
   "execution_count": null,
   "metadata": {},
   "outputs": [],
   "source": [
    "import requests\n",
    "import lxml.html"
   ]
  },
  {
   "cell_type": "code",
   "execution_count": 63,
   "metadata": {},
   "outputs": [],
   "source": [
    "def main():\n",
    "    session = requests.Session()\n",
    "    response = session.get('http://www.hanbit.co.kr/store/books/new_book_list.html')\n",
    "    urls = scrape_list_page(response)\n",
    "    for url in urls:\n",
    "        response = session.get(url)\n",
    "        ebook = scrape_detail_page(response)\n",
    "        print(ebook)\n",
    "        break"
   ]
  },
  {
   "cell_type": "code",
   "execution_count": 60,
   "metadata": {},
   "outputs": [],
   "source": [
    "def scrape_list_page(response):\n",
    "    root = lxml.html.fromstring(response.content)\n",
    "    root.make_links_absolute(response.url)\n",
    "    for a in root.cssselect('.view_box .book_tit a'):\n",
    "        url = a.get('href')\n",
    "        yield url"
   ]
  },
  {
   "cell_type": "code",
   "execution_count": 59,
   "metadata": {},
   "outputs": [],
   "source": [
    "def scrape_detail_page(response):\n",
    "    root = lxml.html.fromstring(response.content)\n",
    "    ebook = {\n",
    "        'url': response.url,\n",
    "        'title': root.cssselect('.store_product_info_box h3')[0].text_content(),\n",
    "        'price': root.cssselect('.pbr strong')[0].text_content(),\n",
    "        'content': [p.text_content() for p in root.cssselect('#tabs_3 .hanbit_edit_view p')]\n",
    "    }\n",
    "    return ebook"
   ]
  },
  {
   "cell_type": "code",
   "execution_count": 64,
   "metadata": {
    "scrolled": true
   },
   "outputs": [
    {
     "name": "stdout",
     "output_type": "stream",
     "text": [
      "{'url': 'https://www.hanbit.co.kr/store/books/look.php?p_code=B8460934222', 'title': '유닉스의 탄생', 'price': '18,000', 'content': ['', '\\r\\n\\t\\t\\t\\t\\t1장 벨 연구소\\r\\n', '__ 벨 연구소의 자연과학 연구', '__ 통신 기술과 컴퓨터 과학', '__ 벨 연구소로 향하다', '__ 사무실의 이웃들', '__ 137 → 127 → 1127 → 11276', '\\xa0', '\\r\\n\\t\\t\\t\\t\\t2장 유닉스 프로토타입(1969)\\r\\n', '__ 약간의 기술적 배경', '__ CTSS와 멀틱스', '__ 유닉스의 기원', '__ 이름의 유래', '__ 인물 탐방: 켄 톰프슨', '\\xa0', '\\r\\n\\t\\t\\t\\t\\t3장 유닉스 제1판(1971)\\r\\n', '__ 특허출원서 생성용 유닉스', '__ 유닉스 방', '__ 유닉스 프로그래머 매뉴얼', '__ 메모리에 대한 몇 가지 이야기', '__ 인물 탐방: 데니스 리치', '\\xa0', '\\r\\n\\t\\t\\t\\t\\t4장 유닉스 제6판(1975)\\r\\n', '__ 파일 시스템\\xa0', '__ 시스템 호출', '__ 셸\\xa0', '__ 파이프', '__ grep', '__ 정규 표현식\\xa0', '__ C 프로그래밍 언어', '__ 소프트웨어 도구와 랫포', '__ 인물 탐방: 더글러스 매클로이', '\\xa0', '\\r\\n\\t\\t\\t\\t\\t5장 유닉스 제7판(1976~1979)\\r\\n', '__ 본 셸', '__ Yacc, Lex, Make', '__ 문서 생성\\xa0', '__ Sed와 Awk', '__ 다른 언어들', '__ 다른 기여들', '\\xa0', '\\r\\n\\t\\t\\t\\t\\t6장 연구소를 넘어서\\r\\n', '__ 프로그래머 워크벤치', '__ 대학교용 라이선스', '__ 사용자 그룹과 유즈닉스', '__ 존 라이언스의 해설서', '__ 이식성', '\\xa0', '\\r\\n\\t\\t\\t\\t\\t7장 사업화\\r\\n', '__ 기업 분할', '__ USL과 SVR4', '__ UNIXTM', '__ 홍보 활동', '\\xa0', '\\r\\n\\t\\t\\t\\t\\t8장 후손\\r\\n', '__ BSD', '__ 유닉스 전쟁', '__ 미닉스와 리눅스', '__ 플랜 9', '__ 해산', '\\xa0', '\\r\\n\\t\\t\\t\\t\\t9장 유산\\r\\n', '__ 기술 측면', '__ 조직 측면', '__ 인정과 평가', '__ 역사는 반복될 수 있을까?']}\n"
     ]
    }
   ],
   "source": [
    "if __name__ == '__main__':\n",
    "    main()"
   ]
  },
  {
   "cell_type": "markdown",
   "metadata": {},
   "source": [
    "# python_crawler_5"
   ]
  },
  {
   "cell_type": "code",
   "execution_count": 94,
   "metadata": {},
   "outputs": [],
   "source": [
    "import requests\n",
    "import lxml.html\n",
    "import re"
   ]
  },
  {
   "cell_type": "code",
   "execution_count": 95,
   "metadata": {},
   "outputs": [],
   "source": [
    "def main():\n",
    "    session = requests.Session()  \n",
    "    response = session.get('http://www.hanbit.co.kr/store/books/new_book_list.html')\n",
    "    urls = scrape_list_page(response)\n",
    "    for url in urls:\n",
    "        response = session.get(url)\n",
    "        ebook = scrape_detail_page(response) \n",
    "        print(ebook)\n",
    "        break  "
   ]
  },
  {
   "cell_type": "code",
   "execution_count": 96,
   "metadata": {},
   "outputs": [],
   "source": [
    "def scrape_list_page(response):\n",
    "    root = lxml.html.fromstring(response.content)\n",
    "    root.make_links_absolute(response.url)\n",
    "    for a in root.cssselect('.view_box .book_tit a'):\n",
    "        url = a.get('href')\n",
    "        yield url"
   ]
  },
  {
   "cell_type": "code",
   "execution_count": 97,
   "metadata": {},
   "outputs": [],
   "source": [
    "def scrape_detail_page(response):\n",
    "    root = lxml.html.fromstring(response.content)\n",
    "    ebook = {\n",
    "        'url': response.url,\n",
    "        'title': root.cssselect('.store_product_info_box h3')[0].text_content(),\n",
    "        'price': root.cssselect('.pbr strong')[0].text_content(),\n",
    "        'content': [normalize_spaces(p.text_content())\n",
    "            for p in root.cssselect('#tabs_3 .hanbit_edit_view p')\n",
    "            if normalize_spaces(p.text_content()) != '']\n",
    "    }\n",
    "    return ebook"
   ]
  },
  {
   "cell_type": "code",
   "execution_count": 98,
   "metadata": {},
   "outputs": [],
   "source": [
    "def normalize_spaces(s):\n",
    "    return re.sub(r'\\s+', ' ', s).strip() # 연결된 공백을 하나의 공백으로 변경"
   ]
  },
  {
   "cell_type": "code",
   "execution_count": 99,
   "metadata": {},
   "outputs": [
    {
     "name": "stdout",
     "output_type": "stream",
     "text": [
      "{'url': 'https://www.hanbit.co.kr/store/books/look.php?p_code=B8460934222', 'title': '유닉스의 탄생', 'price': '18,000', 'content': ['1장 벨 연구소', '__ 벨 연구소의 자연과학 연구', '__ 통신 기술과 컴퓨터 과학', '__ 벨 연구소로 향하다', '__ 사무실의 이웃들', '__ 137 → 127 → 1127 → 11276', '2장 유닉스 프로토타입(1969)', '__ 약간의 기술적 배경', '__ CTSS와 멀틱스', '__ 유닉스의 기원', '__ 이름의 유래', '__ 인물 탐방: 켄 톰프슨', '3장 유닉스 제1판(1971)', '__ 특허출원서 생성용 유닉스', '__ 유닉스 방', '__ 유닉스 프로그래머 매뉴얼', '__ 메모리에 대한 몇 가지 이야기', '__ 인물 탐방: 데니스 리치', '4장 유닉스 제6판(1975)', '__ 파일 시스템', '__ 시스템 호출', '__ 셸', '__ 파이프', '__ grep', '__ 정규 표현식', '__ C 프로그래밍 언어', '__ 소프트웨어 도구와 랫포', '__ 인물 탐방: 더글러스 매클로이', '5장 유닉스 제7판(1976~1979)', '__ 본 셸', '__ Yacc, Lex, Make', '__ 문서 생성', '__ Sed와 Awk', '__ 다른 언어들', '__ 다른 기여들', '6장 연구소를 넘어서', '__ 프로그래머 워크벤치', '__ 대학교용 라이선스', '__ 사용자 그룹과 유즈닉스', '__ 존 라이언스의 해설서', '__ 이식성', '7장 사업화', '__ 기업 분할', '__ USL과 SVR4', '__ UNIXTM', '__ 홍보 활동', '8장 후손', '__ BSD', '__ 유닉스 전쟁', '__ 미닉스와 리눅스', '__ 플랜 9', '__ 해산', '9장 유산', '__ 기술 측면', '__ 조직 측면', '__ 인정과 평가', '__ 역사는 반복될 수 있을까?']}\n"
     ]
    }
   ],
   "source": [
    "if __name__ == '__main__':\n",
    "    main()"
   ]
  },
  {
   "cell_type": "markdown",
   "metadata": {},
   "source": [
    "# python_crawler_6"
   ]
  },
  {
   "cell_type": "code",
   "execution_count": 100,
   "metadata": {},
   "outputs": [],
   "source": [
    "import time\n",
    "import re \n",
    "import requests\n",
    "import lxml.html"
   ]
  },
  {
   "cell_type": "code",
   "execution_count": 101,
   "metadata": {},
   "outputs": [],
   "source": [
    "def main():\n",
    "    session = requests.Session()\n",
    "    response = session.get('http://www.hanbit.co.kr/store/books/new_book_list.html')\n",
    "    urls = scrape_list_page(response)\n",
    "    for url in urls:\n",
    "        time.sleep(1)\n",
    "        response = session.get(url)\n",
    "        ebook = scrape_detail_page(response)\n",
    "        print(ebook)"
   ]
  },
  {
   "cell_type": "code",
   "execution_count": 102,
   "metadata": {},
   "outputs": [],
   "source": [
    "def scrape_list_page(response):\n",
    "    root = lxml.html.fromstring(response.content)\n",
    "    root.make_links_absolute(response.url)\n",
    "    for a in root.cssselect('.view_box .book_tit a'):\n",
    "        url = a.get('href')\n",
    "        yield url"
   ]
  },
  {
   "cell_type": "code",
   "execution_count": 103,
   "metadata": {},
   "outputs": [],
   "source": [
    "def scrape_detail_page(response):\n",
    "    root = lxml.html.fromstring(response.content)\n",
    "    ebook = {\n",
    "        'url': response.url,\n",
    "        'title': root.cssselect('.store_product_info_box h3')[0].text_content(),\n",
    "        'price': root.cssselect('.pbr strong')[0].text_content(),\n",
    "        'content': [normalize_spaces(p.text_content())\n",
    "            for p in root.cssselect('#tabs_3 .hanbit_edit_view p')\n",
    "            if normalize_spaces(p.text_content()) != '']\n",
    "    }\n",
    "    return ebook"
   ]
  },
  {
   "cell_type": "code",
   "execution_count": 104,
   "metadata": {},
   "outputs": [],
   "source": [
    "def normalize_spaces(s):\n",
    "    return re.sub(r'\\s+', ' ', s).strip()"
   ]
  },
  {
   "cell_type": "code",
   "execution_count": 105,
   "metadata": {
    "scrolled": true
   },
   "outputs": [
    {
     "name": "stdout",
     "output_type": "stream",
     "text": [
      "{'url': 'https://www.hanbit.co.kr/store/books/look.php?p_code=B8460934222', 'title': '유닉스의 탄생', 'price': '18,000', 'content': ['1장 벨 연구소', '__ 벨 연구소의 자연과학 연구', '__ 통신 기술과 컴퓨터 과학', '__ 벨 연구소로 향하다', '__ 사무실의 이웃들', '__ 137 → 127 → 1127 → 11276', '2장 유닉스 프로토타입(1969)', '__ 약간의 기술적 배경', '__ CTSS와 멀틱스', '__ 유닉스의 기원', '__ 이름의 유래', '__ 인물 탐방: 켄 톰프슨', '3장 유닉스 제1판(1971)', '__ 특허출원서 생성용 유닉스', '__ 유닉스 방', '__ 유닉스 프로그래머 매뉴얼', '__ 메모리에 대한 몇 가지 이야기', '__ 인물 탐방: 데니스 리치', '4장 유닉스 제6판(1975)', '__ 파일 시스템', '__ 시스템 호출', '__ 셸', '__ 파이프', '__ grep', '__ 정규 표현식', '__ C 프로그래밍 언어', '__ 소프트웨어 도구와 랫포', '__ 인물 탐방: 더글러스 매클로이', '5장 유닉스 제7판(1976~1979)', '__ 본 셸', '__ Yacc, Lex, Make', '__ 문서 생성', '__ Sed와 Awk', '__ 다른 언어들', '__ 다른 기여들', '6장 연구소를 넘어서', '__ 프로그래머 워크벤치', '__ 대학교용 라이선스', '__ 사용자 그룹과 유즈닉스', '__ 존 라이언스의 해설서', '__ 이식성', '7장 사업화', '__ 기업 분할', '__ USL과 SVR4', '__ UNIXTM', '__ 홍보 활동', '8장 후손', '__ BSD', '__ 유닉스 전쟁', '__ 미닉스와 리눅스', '__ 플랜 9', '__ 해산', '9장 유산', '__ 기술 측면', '__ 조직 측면', '__ 인정과 평가', '__ 역사는 반복될 수 있을까?']}\n",
      "{'url': 'https://www.hanbit.co.kr/store/books/look.php?p_code=B5877288702', 'title': '별, 걔 다 그립네', 'price': '10,080', 'content': ['머리말', '1부 새벽 두 시 반', '2부 달콤, 달, 달', '3부 하늘에 별이 빛난다', '4부 선율을 입은 가사들', '부록 밤하늘']}\n",
      "{'url': 'https://www.hanbit.co.kr/store/books/look.php?p_code=B5937482728', 'title': 'IT CookBook, 따라 하면서 배우는 사물인터넷', 'price': '25,200', 'content': ['PART 01 사물인터넷 이론', 'CHAPTER 01 사물인터넷 시작하기', 'SECTION 01 사물인터넷이란?', 'SECTION 02 아두이노 개발 보드 살펴보기', 'SECTION 03 학습을 위한 준비물', 'CHAPTER 02 아두이노 프로그램 만들기', 'SECTION 01 아두이노 IDE 설치하기', 'SECTION 02 아두이노 IDE 기본 사용법 익히기', 'SECTION 03 아두이노 프로그램 구조 이해하기', 'CHAPTER 03 다양한 변수 다루기', 'SECTION 01 변수에 대한 이해', 'SECTION 02 숫자형 변수', 'SECTION 03 배열', 'SECTION 04 문자형 변수', 'SECTION 05 String 클래스', 'CHAPTER 04 선택문과 반복문 다루기', 'SECTION 01 조건문', 'SECTION 02 선택문', 'SECTION 03 반복문', 'CHAPTER 05 시리얼 사용하기', 'SECTION 01 시리얼 통신', 'SECTION 02 시리얼 모니터로 출력하기', 'SECTION 03 시리얼 모니터에서 입력받기', 'CHAPTER 06 논블로킹 프로그램 만들기', 'SECTION 01 주기적으로 if 블록 실행하기', 'SECTION 02 LED 제어하기', 'SECTION 03 타이머 사용하기', 'CHAPTER 07 함수와 클래스 만들기', 'SECTION 01 함수 만들기', 'SECTION 02 클래스 만들기', 'CHAPTER 08 아두이노 라이브러리 활용하기', 'SECTION 01 아두이노 파일 구조', 'SECTION 02 라이브러리 활용하기', 'SECTION 03 스니펫 활용하기', 'CHAPTER 09 기본 클래스 다루기', 'SECTION 01 기본 클래스에 대하여', 'SECTION 02 AimSerial 클래스', 'SECTION 03 AimTimer 클래스', 'SECTION 04 AimOutput 클래스', 'SECTION 05 AimInput 클래스', 'SECTION 06 AimPass 클래스', 'SECTION 07 AimConfig 클래스', 'SECTION 08 AimAlarm 클래스', 'SECTION 09 AimSandglass 클래스', 'CHAPTER 10 MQTT 구현하기', 'SECTION 01 MQTT 개요', 'SECTION 02 Mosquitto 시작하기', 'SECTION 03 MQTT 테스트하기', 'CHAPTER 11 Node-RED 설치 및 활용하기', 'SECTION 01 Node-RED에 대하여', 'SECTION 02 Node-RED 설치하기', 'SECTION 03 Node-RED 편집하기', 'SECTION 04 MQTT 제어하기', 'SECTION 05 자바스크립트로 코딩하기', 'SECTION 06 플로우 가져오기와 내보내기', 'SECTION 07 대시보드 사용하기', 'CHAPTER 12 MQTT 프로그램 만들기', 'SECTION 01 MQTT 통신 라이브러리', 'SECTION 02 아두이노 디바이스 프로그램', 'SECTION 03 Node-RED 플로우 만들기', 'PART 02 사물인터넷 실습', 'CHAPTER 13 보드와 실드 다루기', 'SECTION 01 ESP8266과 LOLIN D1 mini 보드', 'SECTION 02 LOLIN D1 mini 실드', 'CHAPTER 14 핀 사용법 이해하기', 'SECTION 01 LOLIN D1 mini 보드의 핀 구성', 'SECTION 02 핀 관련 아두이노 함수', 'SECTION 03 디지털 출력', 'SECTION 04 디지털 입력', 'SECTION 05 아날로그 출력', 'SECTION 06 아날로그 입력', 'CHAPTER 15 릴레이 제어하기', 'SECTION 01 회로 구성하기', 'SECTION 02 아두이노 프로그램 만들기', 'SECTION 03 대시보드 만들기', 'CHAPTER 16 온습도 모니터링하기', 'SECTION 01 회로 구성하기', 'SECTION 02 아두이노 프로그램 만들기', 'SECTION 03 대시보드 만들기', 'CHAPTER 17 경보 시스템 구성하기', 'SECTION 01 회로 구성하기', 'SECTION 02 아두이노 프로그램 만들기', 'SECTION 03 대시보드 만들기']}\n",
      "{'url': 'https://www.hanbit.co.kr/store/books/look.php?p_code=B8656803901', 'title': '우리 아이 처음 놀이', 'price': '13,500', 'content': ['머리말 아이가 가장 좋아하는 놀이는 엄마와 아빠가 함께하는 놀이다', '1장 아이는 놀면서 큰다', '잘 놀아야 잘 자고 잘 먹는다', '아이에게는 모든 것이 놀이다', '그래도 아이가 가장 좋아하는 건 엄마와 아빠다', '그래도 엄마는 가끔 쉬고 싶다', '아이에게 혼자 놀기를 허하라', '놀이를 시작하기 전에 알아야 할 몇 가지 이야기', '2장 매일매일 일상 놀이', '01 말과 관련된 놀이', '첫 상호 놀이는 옹알이 따라 하기', '베이비토크', '일상 이야기하기', '책 읽기', '노래하기, 동요 들려주기', '02 몸과 관련된 놀이', '아이 얼굴 터치, 터치, 터치', '오르락내리락 엘리베이터 놀이', '떴다 떴다 비행기 놀이', '개운한 기저귀 갈기', '신나는 옷 갈아입기와 몸 닦기', '평온한 목욕 놀이', '몸 튼튼, 마음 튼튼 베이비 마사지', '03 몸과 관련된 놀이', '오전에는 햇빛 테라피', '갑갑해 보이지만 알고 보면 편안한 속싸개', '거친 신체 놀이', '청각 자극', '흔들림 자극', '시각 자극', '04 잠에 도움되는 낮 놀이', '‘그대로 멈춰라’ 놀이', '낮에도 잠자리 놀이', '미니 마사지 놀이', '‘잠깐만’ 놀이', '쪽쪽이 놀이', '05 낮잠 시간 전 놀이', '차량 세기', '06 잠을 깨우는 놀이', '07 1:1 집중 놀이', '3장 월령별 놀이', '출생~3개월', '출생~3개월 아이의 일반적인 발달', '터미타임', '지퍼백 놀이', '거울 보기&옆으로 누워서 놀기', '모빌 놀이', '풍선 놀이', '꿀벌 간지럼 놀이', '메롱 놀이', '메롱이냐 손이냐', '노래, 노래, 노래!', '윗몸일으키기', '자전거 타기 놀이', '팔다리 스트레칭', '신생아 반사 반응 테스트', '베이비 레그프레스', '김밥 말기', '손수건 살랑살랑 놀이', '공차기 놀이', '손발 짝! 놀이', '손보다 발이 먼저!', '편하게 살자 1', '4~6개월 놀이', '4~6개월 아이의 일반적인 발달', '사과-오렌지 후각 놀이', '공 타기', '‘사라졌다’ 놀이', '신비한 슬링키', '시각 놀이 물병', '은박 포장지 감각 놀이', '전지에 아이 몸 따라 그리기', '아기체육관 변형하기', '비눗방울 놀이', '얼음도 촉감 놀이로!', '별 헤는 상자', '거미 센서', '촉감 장갑 놀이', '라디오 스타', '이불썰매 놀이', '편하게 살자 2', '7~12개월 놀이', '7~12개월 아이의 일반적인 발달', '아이랑 마주 앉아 블록 놀이', '굴린 공 따라 잡아오기 놀이', '컵 쌓기', '잡아당기기 놀이', '도리도리 곤지곤지 지암지암 작작궁작작궁', '곰돌이와 함께 우아한 식사 시간', '젤라틴 화석 놀이', '원인과 결과 놀이', '용기 채우고 비우기', '용기에 작은 물건을 떨어트리기', '온갖 접착테이프 떼기', '장난감 구출 작전', '제3의 장난감 주기', '장난감 악기 놀이/집 안 물건의 악기화', '먹어도 좋은 모래 놀이', '인형 다 모아 놀이', '먹을 수 있는 핑거페인트', '건강한 슬라임 놀이', '베이비사인 딱 네 개만', '눈 크게 뜨고 보세요! 불가능 큐브', '달님 안녕!', '상자 동물 맘마 먹이기', '대상영속성 놀이 셋', '청각 놀이', '뽑아도 뽑아도 물티슈', 'DIY 팝업북', '촉감 국수 놀이(+먹기)', '대형 얼음 물감 놀이', '선샤인 페인팅', '터널 놀이', '쿠션 오르기', '왕면봉 끼워 넣기 놀이', '빨래 바구니 밀기', '편하게 살자 3', '13~18개월 놀이', '13~18개월 아이의 일반적인 발달', '뽁뽁이 도장 놀이', '왕면봉으로 따라 그리기', '돌 이후 아이 립스틱 실험', '색종이 붙이기', '물병에 빨대 넣기', '손 거품기 놀이', '물 페인트 놀이', '간단 비지 보드', '벨크로와 폼폼 짝꿍 벽 놀이', '파스타 면+빨대 놀이', '유아용 점보 볼트와 너트', '폼폼 놀이', '화장지 탑 쌓기', '쿠킹 포일 속 장난감 찾기', '탁구공 옮기기', '펠트 빼기/끼우기', '편하게 살자 4', '19~24개월 놀이', '19~24개월 아이의 일반적인 발달', '구멍에 모루와 빨대 꽂기', '빨대 꿰기', '손톱깎이 세트 퍼즐', '비눗방울 불기', '분유통 저금통 놀이', '주방 세제 거품 내기', '거품 물감 촉감 놀이', '하드 막대 꽂기', '낚시 놀이', '쏙쏙 이쑤시개 놀이', '하드 막대 연결 놀이', '플레이도우 찍기 놀이', '작은 장난감 집 찾아주기', '미니 자동차 블록 미로', '블록 퍼즐 맞추기', '그림자 놀이', '빨래집게 놀이', 'CD 무지개 놀이', '편하게 살자 5', '24개월 이후 놀이', '24개월 이후 아이의 일반적인 발달', '헤어 롤 놀이', '마스킹테이프 놀이', '벽에 낙서를 허하라', '도화지 손톱깎이 놀이', '도화지에 비눗방울 불기', '컵 세트에 과자 넣기', '자석이 끌어올리는 모루', '국자 뜨기 놀이', '색 도화지 붙이기', '사진 속 장소 찾기 놀이', '장난감 씻기 놀이', '수제 스티커 딱풀 붙이기', '안 먹는 아이를 위한 스티커 놀이', '이쑤시개 연결 놀이', '하드 막대 퍼즐 맞추기', '라벨 퍼즐 놀이', '블록 포장하기', '마스킹테이프 도로와 블록 시티', '풍선에 그림 그리기', '신문지 찢어 던지기', '키친타월 물감 놀이', '드라이아이스 연기', '흔들흔들 예술', '바느질 놀이', '모로 반사 테스트 운동', '펜싱 반사 테스트 운동', '팔머 반사 테스트 운동', '편하게 살자 6', '맺음말 아이는 놀면서 ‘뭐’ 해']}\n",
      "{'url': 'https://www.hanbit.co.kr/store/books/look.php?p_code=B3397547488', 'title': '재미있고 빠른 첫 한글 4권 쌍자음∙받침', 'price': '5,850', 'content': ['1일 모음∙자음', '2일 ㄲ 배우기', '3일 ㄸ 배우기', '4일 ㄲㄸ 복습', '5일 ㅃ 배우기', '6일 ㅆ 배우기', '7일 ㅉ 배우기', '8일 ㅃㅆㅉ 복습', '9일 쌍자음 복습', '10일 받침ㅇ 배우기', '11일 받침ㄱ 배우기', '12일 받침ㅇㄱ 복습', '13일 받침ㄴ 배우기', '14일 받침ㄹ 배우기', '15일 받침ㄴㄹ 복습', '16일 받침ㅁ 배우기', '17일 받침ㅂ 배우기', '18일 받침ㅅ 배우기', '19일 받침ㅁㅂㅅ 복습', '20일 받침 복습', '21일 전체 복습', '22일 전체 복습']}\n"
     ]
    },
    {
     "ename": "KeyboardInterrupt",
     "evalue": "",
     "output_type": "error",
     "traceback": [
      "\u001b[1;31m---------------------------------------------------------------------------\u001b[0m",
      "\u001b[1;31mKeyboardInterrupt\u001b[0m                         Traceback (most recent call last)",
      "\u001b[1;32m<ipython-input-105-c7bc734e5e35>\u001b[0m in \u001b[0;36m<module>\u001b[1;34m\u001b[0m\n\u001b[0;32m      1\u001b[0m \u001b[1;32mif\u001b[0m \u001b[0m__name__\u001b[0m \u001b[1;33m==\u001b[0m \u001b[1;34m'__main__'\u001b[0m\u001b[1;33m:\u001b[0m\u001b[1;33m\u001b[0m\u001b[1;33m\u001b[0m\u001b[0m\n\u001b[1;32m----> 2\u001b[1;33m     \u001b[0mmain\u001b[0m\u001b[1;33m(\u001b[0m\u001b[1;33m)\u001b[0m\u001b[1;33m\u001b[0m\u001b[1;33m\u001b[0m\u001b[0m\n\u001b[0m",
      "\u001b[1;32m<ipython-input-101-0bd2fe0e74c1>\u001b[0m in \u001b[0;36mmain\u001b[1;34m()\u001b[0m\n\u001b[0;32m      4\u001b[0m     \u001b[0murls\u001b[0m \u001b[1;33m=\u001b[0m \u001b[0mscrape_list_page\u001b[0m\u001b[1;33m(\u001b[0m\u001b[0mresponse\u001b[0m\u001b[1;33m)\u001b[0m\u001b[1;33m\u001b[0m\u001b[1;33m\u001b[0m\u001b[0m\n\u001b[0;32m      5\u001b[0m     \u001b[1;32mfor\u001b[0m \u001b[0murl\u001b[0m \u001b[1;32min\u001b[0m \u001b[0murls\u001b[0m\u001b[1;33m:\u001b[0m\u001b[1;33m\u001b[0m\u001b[1;33m\u001b[0m\u001b[0m\n\u001b[1;32m----> 6\u001b[1;33m         \u001b[0mtime\u001b[0m\u001b[1;33m.\u001b[0m\u001b[0msleep\u001b[0m\u001b[1;33m(\u001b[0m\u001b[1;36m1\u001b[0m\u001b[1;33m)\u001b[0m\u001b[1;33m\u001b[0m\u001b[1;33m\u001b[0m\u001b[0m\n\u001b[0m\u001b[0;32m      7\u001b[0m         \u001b[0mresponse\u001b[0m \u001b[1;33m=\u001b[0m \u001b[0msession\u001b[0m\u001b[1;33m.\u001b[0m\u001b[0mget\u001b[0m\u001b[1;33m(\u001b[0m\u001b[0murl\u001b[0m\u001b[1;33m)\u001b[0m\u001b[1;33m\u001b[0m\u001b[1;33m\u001b[0m\u001b[0m\n\u001b[0;32m      8\u001b[0m         \u001b[0mebook\u001b[0m \u001b[1;33m=\u001b[0m \u001b[0mscrape_detail_page\u001b[0m\u001b[1;33m(\u001b[0m\u001b[0mresponse\u001b[0m\u001b[1;33m)\u001b[0m\u001b[1;33m\u001b[0m\u001b[1;33m\u001b[0m\u001b[0m\n",
      "\u001b[1;31mKeyboardInterrupt\u001b[0m: "
     ]
    }
   ],
   "source": [
    "if __name__ == '__main__':\n",
    "    main()"
   ]
  },
  {
   "cell_type": "markdown",
   "metadata": {},
   "source": [
    "# python_crawler_final"
   ]
  },
  {
   "cell_type": "code",
   "execution_count": 79,
   "metadata": {},
   "outputs": [
    {
     "name": "stdout",
     "output_type": "stream",
     "text": [
      "Collecting pymongo\n",
      "  Downloading pymongo-3.10.1-cp37-cp37m-win_amd64.whl (354 kB)\n",
      "Installing collected packages: pymongo\n",
      "Successfully installed pymongo-3.10.1\n"
     ]
    }
   ],
   "source": [
    "# ! pip install pymongo"
   ]
  },
  {
   "cell_type": "code",
   "execution_count": 106,
   "metadata": {},
   "outputs": [],
   "source": [
    "import time\n",
    "import re \n",
    "import requests\n",
    "import lxml.html\n",
    "from pymongo import MongoClient"
   ]
  },
  {
   "cell_type": "code",
   "execution_count": 107,
   "metadata": {},
   "outputs": [],
   "source": [
    "def main():\n",
    "    client = MongoClient('localhost', 27017)\n",
    "    collection = client.scraping.ebooks \n",
    "    collection.create_index('key', unique=True)\n",
    "\n",
    "    response = requests.get('http://www.hanbit.co.kr/store/books/new_book_list.html')\n",
    "    urls = scrape_list_page(response)\n",
    "    for url in urls:\n",
    "        key = extract_key(url)\n",
    "        ebook = collection.find_one({'key': key})\n",
    "        if not ebook:\n",
    "            time.sleep(1)\n",
    "            response = requests.get(url)\n",
    "            ebook = scrape_detail_page(response)\n",
    "            collection.insert_one(ebook)\n",
    "        print(ebook)"
   ]
  },
  {
   "cell_type": "code",
   "execution_count": 82,
   "metadata": {},
   "outputs": [],
   "source": [
    "def scrape_list_page(response):\n",
    "    root = lxml.html.fromstring(response.content)\n",
    "    root.make_links_absolute(response.url)\n",
    "    for a in root.cssselect('.view_box .book_tit a'):\n",
    "        url = a.get('href')\n",
    "        yield url"
   ]
  },
  {
   "cell_type": "code",
   "execution_count": 83,
   "metadata": {},
   "outputs": [],
   "source": [
    "def scrape_detail_page(response):\n",
    "    root = lxml.html.fromstring(response.content)\n",
    "    ebook = {\n",
    "        'url': response.url,\n",
    "        'key': extract_key(response.url),\n",
    "        'title': root.cssselect('.store_product_info_box h3')[0].text_content(),\n",
    "        'price': root.cssselect('.pbr strong')[0].text_content(),\n",
    "        'content': \"생략\"\n",
    "    }\n",
    "    return ebook"
   ]
  },
  {
   "cell_type": "code",
   "execution_count": 84,
   "metadata": {},
   "outputs": [],
   "source": [
    "def extract_key(url):\n",
    "    m = re.search(r\"p_code=(.+)\", url)\n",
    "    return m.group(1)"
   ]
  },
  {
   "cell_type": "code",
   "execution_count": 85,
   "metadata": {},
   "outputs": [],
   "source": [
    "def normalize_spaces(s):\n",
    "    return re.sub(r'\\s+', ' ', s).strip()"
   ]
  },
  {
   "cell_type": "code",
   "execution_count": 86,
   "metadata": {
    "scrolled": true
   },
   "outputs": [
    {
     "ename": "ServerSelectionTimeoutError",
     "evalue": "localhost:27017: [WinError 10061] 대상 컴퓨터에서 연결을 거부했으므로 연결하지 못했습니다",
     "output_type": "error",
     "traceback": [
      "\u001b[1;31m---------------------------------------------------------------------------\u001b[0m",
      "\u001b[1;31mServerSelectionTimeoutError\u001b[0m               Traceback (most recent call last)",
      "\u001b[1;32m<ipython-input-86-c7bc734e5e35>\u001b[0m in \u001b[0;36m<module>\u001b[1;34m\u001b[0m\n\u001b[0;32m      1\u001b[0m \u001b[1;32mif\u001b[0m \u001b[0m__name__\u001b[0m \u001b[1;33m==\u001b[0m \u001b[1;34m'__main__'\u001b[0m\u001b[1;33m:\u001b[0m\u001b[1;33m\u001b[0m\u001b[1;33m\u001b[0m\u001b[0m\n\u001b[1;32m----> 2\u001b[1;33m     \u001b[0mmain\u001b[0m\u001b[1;33m(\u001b[0m\u001b[1;33m)\u001b[0m\u001b[1;33m\u001b[0m\u001b[1;33m\u001b[0m\u001b[0m\n\u001b[0m",
      "\u001b[1;32m<ipython-input-81-bb6ae0327abe>\u001b[0m in \u001b[0;36mmain\u001b[1;34m()\u001b[0m\n\u001b[0;32m      5\u001b[0m     \u001b[0mcollection\u001b[0m \u001b[1;33m=\u001b[0m \u001b[0mclient\u001b[0m\u001b[1;33m.\u001b[0m\u001b[0mscraping\u001b[0m\u001b[1;33m.\u001b[0m\u001b[0mebooks\u001b[0m\u001b[1;33m\u001b[0m\u001b[1;33m\u001b[0m\u001b[0m\n\u001b[0;32m      6\u001b[0m     \u001b[1;31m# 데이터를 식별할 수 있는 유일키를 저장할 key 필드에 인덱스를 생성합니다.\u001b[0m\u001b[1;33m\u001b[0m\u001b[1;33m\u001b[0m\u001b[1;33m\u001b[0m\u001b[0m\n\u001b[1;32m----> 7\u001b[1;33m     \u001b[0mcollection\u001b[0m\u001b[1;33m.\u001b[0m\u001b[0mcreate_index\u001b[0m\u001b[1;33m(\u001b[0m\u001b[1;34m'key'\u001b[0m\u001b[1;33m,\u001b[0m \u001b[0munique\u001b[0m\u001b[1;33m=\u001b[0m\u001b[1;32mTrue\u001b[0m\u001b[1;33m)\u001b[0m\u001b[1;33m\u001b[0m\u001b[1;33m\u001b[0m\u001b[0m\n\u001b[0m\u001b[0;32m      8\u001b[0m \u001b[1;33m\u001b[0m\u001b[0m\n\u001b[0;32m      9\u001b[0m     \u001b[1;31m# 목록 페이지를 추출합니다.\u001b[0m\u001b[1;33m\u001b[0m\u001b[1;33m\u001b[0m\u001b[1;33m\u001b[0m\u001b[0m\n",
      "\u001b[1;32m~\\anaconda3\\lib\\site-packages\\pymongo\\collection.py\u001b[0m in \u001b[0;36mcreate_index\u001b[1;34m(self, keys, session, **kwargs)\u001b[0m\n\u001b[0;32m   1993\u001b[0m         \u001b[1;32mif\u001b[0m \u001b[1;34m\"maxTimeMS\"\u001b[0m \u001b[1;32min\u001b[0m \u001b[0mkwargs\u001b[0m\u001b[1;33m:\u001b[0m\u001b[1;33m\u001b[0m\u001b[1;33m\u001b[0m\u001b[0m\n\u001b[0;32m   1994\u001b[0m             \u001b[0mcmd_options\u001b[0m\u001b[1;33m[\u001b[0m\u001b[1;34m\"maxTimeMS\"\u001b[0m\u001b[1;33m]\u001b[0m \u001b[1;33m=\u001b[0m \u001b[0mkwargs\u001b[0m\u001b[1;33m.\u001b[0m\u001b[0mpop\u001b[0m\u001b[1;33m(\u001b[0m\u001b[1;34m\"maxTimeMS\"\u001b[0m\u001b[1;33m)\u001b[0m\u001b[1;33m\u001b[0m\u001b[1;33m\u001b[0m\u001b[0m\n\u001b[1;32m-> 1995\u001b[1;33m         \u001b[0mself\u001b[0m\u001b[1;33m.\u001b[0m\u001b[0m__create_index\u001b[0m\u001b[1;33m(\u001b[0m\u001b[0mkeys\u001b[0m\u001b[1;33m,\u001b[0m \u001b[0mkwargs\u001b[0m\u001b[1;33m,\u001b[0m \u001b[0msession\u001b[0m\u001b[1;33m,\u001b[0m \u001b[1;33m**\u001b[0m\u001b[0mcmd_options\u001b[0m\u001b[1;33m)\u001b[0m\u001b[1;33m\u001b[0m\u001b[1;33m\u001b[0m\u001b[0m\n\u001b[0m\u001b[0;32m   1996\u001b[0m         \u001b[1;32mreturn\u001b[0m \u001b[0mname\u001b[0m\u001b[1;33m\u001b[0m\u001b[1;33m\u001b[0m\u001b[0m\n\u001b[0;32m   1997\u001b[0m \u001b[1;33m\u001b[0m\u001b[0m\n",
      "\u001b[1;32m~\\anaconda3\\lib\\site-packages\\pymongo\\collection.py\u001b[0m in \u001b[0;36m__create_index\u001b[1;34m(self, keys, index_options, session, **kwargs)\u001b[0m\n\u001b[0;32m   1879\u001b[0m         \u001b[0mindex\u001b[0m\u001b[1;33m.\u001b[0m\u001b[0mupdate\u001b[0m\u001b[1;33m(\u001b[0m\u001b[0mindex_options\u001b[0m\u001b[1;33m)\u001b[0m\u001b[1;33m\u001b[0m\u001b[1;33m\u001b[0m\u001b[0m\n\u001b[0;32m   1880\u001b[0m \u001b[1;33m\u001b[0m\u001b[0m\n\u001b[1;32m-> 1881\u001b[1;33m         \u001b[1;32mwith\u001b[0m \u001b[0mself\u001b[0m\u001b[1;33m.\u001b[0m\u001b[0m_socket_for_writes\u001b[0m\u001b[1;33m(\u001b[0m\u001b[0msession\u001b[0m\u001b[1;33m)\u001b[0m \u001b[1;32mas\u001b[0m \u001b[0msock_info\u001b[0m\u001b[1;33m:\u001b[0m\u001b[1;33m\u001b[0m\u001b[1;33m\u001b[0m\u001b[0m\n\u001b[0m\u001b[0;32m   1882\u001b[0m             \u001b[1;32mif\u001b[0m \u001b[0mcollation\u001b[0m \u001b[1;32mis\u001b[0m \u001b[1;32mnot\u001b[0m \u001b[1;32mNone\u001b[0m\u001b[1;33m:\u001b[0m\u001b[1;33m\u001b[0m\u001b[1;33m\u001b[0m\u001b[0m\n\u001b[0;32m   1883\u001b[0m                 \u001b[1;32mif\u001b[0m \u001b[0msock_info\u001b[0m\u001b[1;33m.\u001b[0m\u001b[0mmax_wire_version\u001b[0m \u001b[1;33m<\u001b[0m \u001b[1;36m5\u001b[0m\u001b[1;33m:\u001b[0m\u001b[1;33m\u001b[0m\u001b[1;33m\u001b[0m\u001b[0m\n",
      "\u001b[1;32m~\\anaconda3\\lib\\site-packages\\pymongo\\collection.py\u001b[0m in \u001b[0;36m_socket_for_writes\u001b[1;34m(self, session)\u001b[0m\n\u001b[0;32m    193\u001b[0m \u001b[1;33m\u001b[0m\u001b[0m\n\u001b[0;32m    194\u001b[0m     \u001b[1;32mdef\u001b[0m \u001b[0m_socket_for_writes\u001b[0m\u001b[1;33m(\u001b[0m\u001b[0mself\u001b[0m\u001b[1;33m,\u001b[0m \u001b[0msession\u001b[0m\u001b[1;33m)\u001b[0m\u001b[1;33m:\u001b[0m\u001b[1;33m\u001b[0m\u001b[1;33m\u001b[0m\u001b[0m\n\u001b[1;32m--> 195\u001b[1;33m         \u001b[1;32mreturn\u001b[0m \u001b[0mself\u001b[0m\u001b[1;33m.\u001b[0m\u001b[0m__database\u001b[0m\u001b[1;33m.\u001b[0m\u001b[0mclient\u001b[0m\u001b[1;33m.\u001b[0m\u001b[0m_socket_for_writes\u001b[0m\u001b[1;33m(\u001b[0m\u001b[0msession\u001b[0m\u001b[1;33m)\u001b[0m\u001b[1;33m\u001b[0m\u001b[1;33m\u001b[0m\u001b[0m\n\u001b[0m\u001b[0;32m    196\u001b[0m \u001b[1;33m\u001b[0m\u001b[0m\n\u001b[0;32m    197\u001b[0m     def _command(self, sock_info, command, slave_ok=False,\n",
      "\u001b[1;32m~\\anaconda3\\lib\\site-packages\\pymongo\\mongo_client.py\u001b[0m in \u001b[0;36m_socket_for_writes\u001b[1;34m(self, session)\u001b[0m\n\u001b[0;32m   1264\u001b[0m \u001b[1;33m\u001b[0m\u001b[0m\n\u001b[0;32m   1265\u001b[0m     \u001b[1;32mdef\u001b[0m \u001b[0m_socket_for_writes\u001b[0m\u001b[1;33m(\u001b[0m\u001b[0mself\u001b[0m\u001b[1;33m,\u001b[0m \u001b[0msession\u001b[0m\u001b[1;33m)\u001b[0m\u001b[1;33m:\u001b[0m\u001b[1;33m\u001b[0m\u001b[1;33m\u001b[0m\u001b[0m\n\u001b[1;32m-> 1266\u001b[1;33m         \u001b[0mserver\u001b[0m \u001b[1;33m=\u001b[0m \u001b[0mself\u001b[0m\u001b[1;33m.\u001b[0m\u001b[0m_select_server\u001b[0m\u001b[1;33m(\u001b[0m\u001b[0mwritable_server_selector\u001b[0m\u001b[1;33m,\u001b[0m \u001b[0msession\u001b[0m\u001b[1;33m)\u001b[0m\u001b[1;33m\u001b[0m\u001b[1;33m\u001b[0m\u001b[0m\n\u001b[0m\u001b[0;32m   1267\u001b[0m         \u001b[1;32mreturn\u001b[0m \u001b[0mself\u001b[0m\u001b[1;33m.\u001b[0m\u001b[0m_get_socket\u001b[0m\u001b[1;33m(\u001b[0m\u001b[0mserver\u001b[0m\u001b[1;33m,\u001b[0m \u001b[0msession\u001b[0m\u001b[1;33m)\u001b[0m\u001b[1;33m\u001b[0m\u001b[1;33m\u001b[0m\u001b[0m\n\u001b[0;32m   1268\u001b[0m \u001b[1;33m\u001b[0m\u001b[0m\n",
      "\u001b[1;32m~\\anaconda3\\lib\\site-packages\\pymongo\\mongo_client.py\u001b[0m in \u001b[0;36m_select_server\u001b[1;34m(self, server_selector, session, address)\u001b[0m\n\u001b[0;32m   1251\u001b[0m                                         % address)\n\u001b[0;32m   1252\u001b[0m             \u001b[1;32melse\u001b[0m\u001b[1;33m:\u001b[0m\u001b[1;33m\u001b[0m\u001b[1;33m\u001b[0m\u001b[0m\n\u001b[1;32m-> 1253\u001b[1;33m                 \u001b[0mserver\u001b[0m \u001b[1;33m=\u001b[0m \u001b[0mtopology\u001b[0m\u001b[1;33m.\u001b[0m\u001b[0mselect_server\u001b[0m\u001b[1;33m(\u001b[0m\u001b[0mserver_selector\u001b[0m\u001b[1;33m)\u001b[0m\u001b[1;33m\u001b[0m\u001b[1;33m\u001b[0m\u001b[0m\n\u001b[0m\u001b[0;32m   1254\u001b[0m                 \u001b[1;31m# Pin this session to the selected server if it's performing a\u001b[0m\u001b[1;33m\u001b[0m\u001b[1;33m\u001b[0m\u001b[1;33m\u001b[0m\u001b[0m\n\u001b[0;32m   1255\u001b[0m                 \u001b[1;31m# sharded transaction.\u001b[0m\u001b[1;33m\u001b[0m\u001b[1;33m\u001b[0m\u001b[1;33m\u001b[0m\u001b[0m\n",
      "\u001b[1;32m~\\anaconda3\\lib\\site-packages\\pymongo\\topology.py\u001b[0m in \u001b[0;36mselect_server\u001b[1;34m(self, selector, server_selection_timeout, address)\u001b[0m\n\u001b[0;32m    233\u001b[0m         return random.choice(self.select_servers(selector,\n\u001b[0;32m    234\u001b[0m                                                  \u001b[0mserver_selection_timeout\u001b[0m\u001b[1;33m,\u001b[0m\u001b[1;33m\u001b[0m\u001b[1;33m\u001b[0m\u001b[0m\n\u001b[1;32m--> 235\u001b[1;33m                                                  address))\n\u001b[0m\u001b[0;32m    236\u001b[0m \u001b[1;33m\u001b[0m\u001b[0m\n\u001b[0;32m    237\u001b[0m     def select_server_by_address(self, address,\n",
      "\u001b[1;32m~\\anaconda3\\lib\\site-packages\\pymongo\\topology.py\u001b[0m in \u001b[0;36mselect_servers\u001b[1;34m(self, selector, server_selection_timeout, address)\u001b[0m\n\u001b[0;32m    191\u001b[0m         \u001b[1;32mwith\u001b[0m \u001b[0mself\u001b[0m\u001b[1;33m.\u001b[0m\u001b[0m_lock\u001b[0m\u001b[1;33m:\u001b[0m\u001b[1;33m\u001b[0m\u001b[1;33m\u001b[0m\u001b[0m\n\u001b[0;32m    192\u001b[0m             server_descriptions = self._select_servers_loop(\n\u001b[1;32m--> 193\u001b[1;33m                 selector, server_timeout, address)\n\u001b[0m\u001b[0;32m    194\u001b[0m \u001b[1;33m\u001b[0m\u001b[0m\n\u001b[0;32m    195\u001b[0m             return [self.get_server_by_address(sd.address)\n",
      "\u001b[1;32m~\\anaconda3\\lib\\site-packages\\pymongo\\topology.py\u001b[0m in \u001b[0;36m_select_servers_loop\u001b[1;34m(self, selector, timeout, address)\u001b[0m\n\u001b[0;32m    207\u001b[0m             \u001b[1;32mif\u001b[0m \u001b[0mtimeout\u001b[0m \u001b[1;33m==\u001b[0m \u001b[1;36m0\u001b[0m \u001b[1;32mor\u001b[0m \u001b[0mnow\u001b[0m \u001b[1;33m>\u001b[0m \u001b[0mend_time\u001b[0m\u001b[1;33m:\u001b[0m\u001b[1;33m\u001b[0m\u001b[1;33m\u001b[0m\u001b[0m\n\u001b[0;32m    208\u001b[0m                 raise ServerSelectionTimeoutError(\n\u001b[1;32m--> 209\u001b[1;33m                     self._error_message(selector))\n\u001b[0m\u001b[0;32m    210\u001b[0m \u001b[1;33m\u001b[0m\u001b[0m\n\u001b[0;32m    211\u001b[0m             \u001b[0mself\u001b[0m\u001b[1;33m.\u001b[0m\u001b[0m_ensure_opened\u001b[0m\u001b[1;33m(\u001b[0m\u001b[1;33m)\u001b[0m\u001b[1;33m\u001b[0m\u001b[1;33m\u001b[0m\u001b[0m\n",
      "\u001b[1;31mServerSelectionTimeoutError\u001b[0m: localhost:27017: [WinError 10061] 대상 컴퓨터에서 연결을 거부했으므로 연결하지 못했습니다"
     ]
    }
   ],
   "source": [
    "if __name__ == '__main__':\n",
    "    main()"
   ]
  }
 ],
 "metadata": {
  "kernelspec": {
   "display_name": "Python 3",
   "language": "python",
   "name": "python3"
  },
  "language_info": {
   "codemirror_mode": {
    "name": "ipython",
    "version": 3
   },
   "file_extension": ".py",
   "mimetype": "text/x-python",
   "name": "python",
   "nbconvert_exporter": "python",
   "pygments_lexer": "ipython3",
   "version": "3.7.6"
  },
  "toc": {
   "base_numbering": 1,
   "nav_menu": {},
   "number_sections": true,
   "sideBar": true,
   "skip_h1_title": false,
   "title_cell": "Table of Contents",
   "title_sidebar": "Contents",
   "toc_cell": false,
   "toc_position": {
    "height": "calc(100% - 180px)",
    "left": "10px",
    "top": "150px",
    "width": "165px"
   },
   "toc_section_display": true,
   "toc_window_display": true
  }
 },
 "nbformat": 4,
 "nbformat_minor": 4
}
