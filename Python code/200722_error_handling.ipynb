{
 "cells": [
  {
   "cell_type": "code",
   "execution_count": 2,
   "metadata": {},
   "outputs": [],
   "source": [
    "import time\n",
    "\n",
    "import requests\n",
    "# 일시적인 오류를 나타내는 상태 코드를 지정합니다.\n",
    "TEMPORARY_ERROR_CODES = (408, 500, 502, 503, 504)  \n",
    "\n",
    "def main():\n",
    "    \"\"\"\n",
    "    메인 처리입니다.\n",
    "    \"\"\"\n",
    "    response = fetch('http://httpbin.org/status/200,404,503')\n",
    "    if 200 <= response.status_code < 300:\n",
    "        print('Success!')\n",
    "    else:\n",
    "        print('Error!')"
   ]
  },
  {
   "cell_type": "code",
   "execution_count": 3,
   "metadata": {},
   "outputs": [],
   "source": [
    "def fetch(url):\n",
    "    \"\"\"\n",
    "    지정한 URL에 요청한 뒤 Response 객체를 반환합니다.\n",
    "    일시적인 오류가 발생하면 최대 3번 재시도합니다.\n",
    "    \"\"\"\n",
    "    max_retries = 3  # 최대 3번 재시도합니다.\n",
    "    retries = 0  # 현재 재시도 횟수를 나타내는 변수입니다.\n",
    "    while True:\n",
    "        try:\n",
    "            print('Retrieving {0}...'.format(url))\n",
    "            response = requests.get(url)\n",
    "            print('Status: {0}'.format(response.status_code))\n",
    "            if response.status_code not in TEMPORARY_ERROR_CODES:\n",
    "                return response  # 일시적인 오류가 아니라면 response를 반환합니다.\n",
    "        except requests.exceptions.RequestException as ex:\n",
    "            # 네트워크 레벨 오류(RequestException)의 경우 재시도합니다.\n",
    "            print('Exception occured: {0}'.format(ex))\n",
    "            retries += 1\n",
    "            if retries >= max_retries:\n",
    "                # 재시도 횟수 상한을 넘으면 예외를 발생시켜버립니다.\n",
    "                raise Exception('Too many retries.')  \n",
    "            # 지수 함수적으로 재시도 간격을 증가합니다(**는 제곱 연산자입니다).\n",
    "            wait = 2**(retries - 1)  \n",
    "            print('Waiting {0} seconds...'.format(wait))\n",
    "            time.sleep(wait)  # 대기합니다.\n",
    "\n"
   ]
  },
  {
   "cell_type": "code",
   "execution_count": 4,
   "metadata": {},
   "outputs": [
    {
     "name": "stdout",
     "output_type": "stream",
     "text": [
      "Retrieving http://httpbin.org/status/200,404,503...\n",
      "Status: 404\n",
      "Error!\n"
     ]
    }
   ],
   "source": [
    "if __name__ == '__main__':\n",
    "    main()"
   ]
  },
  {
   "cell_type": "code",
   "execution_count": null,
   "metadata": {},
   "outputs": [],
   "source": []
  }
 ],
 "metadata": {
  "kernelspec": {
   "display_name": "Python 3",
   "language": "python",
   "name": "python3"
  },
  "language_info": {
   "codemirror_mode": {
    "name": "ipython",
    "version": 3
   },
   "file_extension": ".py",
   "mimetype": "text/x-python",
   "name": "python",
   "nbconvert_exporter": "python",
   "pygments_lexer": "ipython3",
   "version": "3.7.6"
  },
  "toc": {
   "base_numbering": 1,
   "nav_menu": {},
   "number_sections": true,
   "sideBar": true,
   "skip_h1_title": false,
   "title_cell": "Table of Contents",
   "title_sidebar": "Contents",
   "toc_cell": false,
   "toc_position": {},
   "toc_section_display": true,
   "toc_window_display": false
  }
 },
 "nbformat": 4,
 "nbformat_minor": 2
}
