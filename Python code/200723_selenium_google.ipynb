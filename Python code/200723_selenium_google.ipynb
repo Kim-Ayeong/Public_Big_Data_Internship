{
 "cells": [
  {
   "cell_type": "code",
   "execution_count": 1,
   "metadata": {},
   "outputs": [
    {
     "name": "stdout",
     "output_type": "stream",
     "text": [
      "Requirement already satisfied: selenium in c:\\users\\admin\\anaconda3\\lib\\site-packages (3.141.0)\n",
      "Requirement already satisfied: urllib3 in c:\\users\\admin\\anaconda3\\lib\\site-packages (from selenium) (1.25.8)\n"
     ]
    }
   ],
   "source": [
    "!pip install selenium"
   ]
  },
  {
   "cell_type": "markdown",
   "metadata": {},
   "source": [
    "# Selenium 설치¶\n",
    "\n",
    "\n",
    "\n",
    " 1.명령창에 pip install selenium\n",
    " \n",
    " 2.Selenium 홈페이지 접속(http://www.seleniumhq.org/download/)\n",
    "\n",
    " 3.Selenium Standalone Server를 작업 폴더에 다운로드\n",
    "\n",
    " 4.원하는 웹 브라우저의 드라이버를 작업 폴더에 다운로드\n",
    "\n",
    " - Chrome: https://sites.google.com/a/chromium.org/chromedriver/downloads\n",
    " - Edge: https://developer.microsoft.com/en-us/microsoft-edge/tools/webdriver/\n",
    " - Firefox: https://github.com/mozilla/geckodriver/releases\n",
    " - Safari: https://webkit.org/blog/6900/webdriver-support-in-safari-10/\n",
    "\n",
    "# 크롬 띄우기"
   ]
  },
  {
   "cell_type": "code",
   "execution_count": 2,
   "metadata": {},
   "outputs": [
    {
     "name": "stderr",
     "output_type": "stream",
     "text": [
      "C:\\Users\\Admin\\anaconda3\\lib\\site-packages\\selenium\\webdriver\\phantomjs\\webdriver.py:49: UserWarning: Selenium support for PhantomJS has been deprecated, please use headless versions of Chrome or Firefox instead\n",
      "  warnings.warn('Selenium support for PhantomJS has been deprecated, please use headless '\n"
     ]
    }
   ],
   "source": [
    "from selenium import webdriver\n",
    "from selenium.webdriver.common.keys import Keys\n",
    "\n",
    "# PhantomJS 모듈의 WebDriver 객체를 생성합니다.\n",
    "driver = webdriver.PhantomJS()\n",
    "\n",
    "# Google 메인 페이지를 엽니다.\n",
    "driver.get('https://www.google.co.kr/')\n",
    "\n",
    "# 타이틀에 'Google'이 포함돼 있는지 확인합니다.\n",
    "assert 'Google' in driver.title\n",
    "\n",
    "# 검색어를 입력하고 검색합니다.\n",
    "input_element = driver.find_element_by_name('q')\n",
    "input_element.send_keys('Python')\n",
    "input_element.send_keys(Keys.RETURN)\n",
    "\n",
    "# 타이틀에 'Python'이 포함돼 있는지 확인합니다.\n",
    "assert 'Python' in driver.title\n",
    "\n",
    "# 스크린샷을 찍습니다.\n",
    "driver.save_screenshot('search_results.png')\n",
    "\n",
    "# 검색 결과를 출력합니다.\n",
    "for a in driver.find_elements_by_css_selector('h3 > a'):\n",
    "    print(a.text)\n",
    "    print(a.get_attribute('href'))\n",
    "    print()"
   ]
  },
  {
   "cell_type": "code",
   "execution_count": null,
   "metadata": {},
   "outputs": [],
   "source": []
  }
 ],
 "metadata": {
  "kernelspec": {
   "display_name": "Python 3",
   "language": "python",
   "name": "python3"
  },
  "language_info": {
   "codemirror_mode": {
    "name": "ipython",
    "version": 3
   },
   "file_extension": ".py",
   "mimetype": "text/x-python",
   "name": "python",
   "nbconvert_exporter": "python",
   "pygments_lexer": "ipython3",
   "version": "3.7.6"
  },
  "toc": {
   "base_numbering": 1,
   "nav_menu": {},
   "number_sections": true,
   "sideBar": true,
   "skip_h1_title": false,
   "title_cell": "Table of Contents",
   "title_sidebar": "Contents",
   "toc_cell": false,
   "toc_position": {},
   "toc_section_display": true,
   "toc_window_display": false
  }
 },
 "nbformat": 4,
 "nbformat_minor": 2
}
