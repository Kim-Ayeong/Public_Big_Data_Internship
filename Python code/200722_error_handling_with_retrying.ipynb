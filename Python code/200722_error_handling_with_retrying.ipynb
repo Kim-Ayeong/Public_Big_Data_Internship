{
 "cells": [
  {
   "cell_type": "code",
   "execution_count": 2,
   "metadata": {},
   "outputs": [
    {
     "name": "stdout",
     "output_type": "stream",
     "text": [
      "Collecting retrying\n",
      "  Downloading retrying-1.3.3.tar.gz (10 kB)\n",
      "Requirement already satisfied: six>=1.7.0 in c:\\users\\youngwoo\\anaconda3\\lib\\site-packages (from retrying) (1.14.0)\n",
      "Building wheels for collected packages: retrying\n",
      "  Building wheel for retrying (setup.py): started\n",
      "  Building wheel for retrying (setup.py): finished with status 'done'\n",
      "  Created wheel for retrying: filename=retrying-1.3.3-py3-none-any.whl size=9571 sha256=84c646b526f642dc8f3accbe072f8a347316a829c387df5d8be18ed73934d7b6\n",
      "  Stored in directory: c:\\users\\youngwoo\\appdata\\local\\pip\\cache\\wheels\\ac\\cb\\8a\\b27bf6323e2f4c462dcbf77d70b7c5e7868a7fbe12871770cf\n",
      "Successfully built retrying\n",
      "Installing collected packages: retrying\n",
      "Successfully installed retrying-1.3.3\n"
     ]
    }
   ],
   "source": [
    "!pip install retrying"
   ]
  },
  {
   "cell_type": "code",
   "execution_count": 3,
   "metadata": {},
   "outputs": [
    {
     "name": "stdout",
     "output_type": "stream",
     "text": [
      "Retrieving http://httpbin.org/status/200,404,503...\n",
      "Status: 503\n",
      "Retrieving http://httpbin.org/status/200,404,503...\n",
      "Status: 503\n",
      "Retrieving http://httpbin.org/status/200,404,503...\n",
      "Status: 200\n",
      "Success!\n"
     ]
    }
   ],
   "source": [
    "import requests\n",
    "from retrying import retry  # pip install retrying\n",
    "import time\n",
    "# 일시적인 오류를 나타내는 상태 코드를 지정합니다.\n",
    "TEMPORARY_ERROR_CODES = (408, 500, 502, 503, 504)  \n",
    "\n",
    "def main():\n",
    "    \"\"\"\n",
    "    메인 처리입니다.\n",
    "    \"\"\"\n",
    "    response = fetch('http://httpbin.org/status/200,404,503')\n",
    "    if 200 <= response.status_code < 300:\n",
    "        print('Success!')\n",
    "    else:\n",
    "        print('Error!')\n",
    "\n",
    "# stop_max_attempt_number로 최대 재시도 횟수를 지정합니다.\n",
    "# wait_exponential_multiplier로 특정한 시간 만큼 대기하고 재시도하게 합니다. 단위는 밀리초로 입력합니다.\n",
    "@retry(stop_max_attempt_number=3, wait_exponential_multiplier=1000)\n",
    "def fetch(url):\n",
    "    \"\"\"\n",
    "    지정한 URL에 접근한 뒤 Response 객체를 반환합니다.\n",
    "    일시적인 오류가 발생할 경우 3번까지 재시도합니다.\n",
    "    \"\"\"\n",
    "    print('Retrieving {0}...'.format(url))\n",
    "    response = requests.get(url)\n",
    "    print('Status: {0}'.format(response.status_code))\n",
    "    if response.status_code not in TEMPORARY_ERROR_CODES:\n",
    "        # 오류가 없다면 response를 반환합니다.\n",
    "        return response\n",
    "    # 오류가 있다면 예외를 발생시킵니다.\n",
    "    raise Exception('Temporary Error: {0}'.format(response.status_code))\n",
    "\n",
    "if __name__ == '__main__':\n",
    "    main()"
   ]
  },
  {
   "cell_type": "code",
   "execution_count": null,
   "metadata": {},
   "outputs": [],
   "source": []
  }
 ],
 "metadata": {
  "kernelspec": {
   "display_name": "Python 3",
   "language": "python",
   "name": "python3"
  },
  "language_info": {
   "codemirror_mode": {
    "name": "ipython",
    "version": 3
   },
   "file_extension": ".py",
   "mimetype": "text/x-python",
   "name": "python",
   "nbconvert_exporter": "python",
   "pygments_lexer": "ipython3",
   "version": "3.7.6"
  },
  "toc": {
   "base_numbering": 1,
   "nav_menu": {},
   "number_sections": true,
   "sideBar": true,
   "skip_h1_title": false,
   "title_cell": "Table of Contents",
   "title_sidebar": "Contents",
   "toc_cell": false,
   "toc_position": {},
   "toc_section_display": true,
   "toc_window_display": false
  }
 },
 "nbformat": 4,
 "nbformat_minor": 2
}
