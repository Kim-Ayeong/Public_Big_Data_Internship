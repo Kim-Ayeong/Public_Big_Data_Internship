{
 "cells": [
  {
   "cell_type": "markdown",
   "metadata": {},
   "source": [
    "# 인천시 국민청원 사이트\n",
    "- https://www.incheon.go.kr/cool/COOL010201?srchPetitClCode=&srchPetitSttusCode=&srchOrderSe=ORDER_APPRVL&srchKey=&srchWord="
   ]
  },
  {
   "cell_type": "code",
   "execution_count": 1,
   "metadata": {},
   "outputs": [],
   "source": [
    "import requests\n",
    "from bs4 import BeautifulSoup\n",
    "import pandas as pd"
   ]
  },
  {
   "cell_type": "code",
   "execution_count": 2,
   "metadata": {},
   "outputs": [
    {
     "data": {
      "text/html": [
       "<div>\n",
       "<style scoped>\n",
       "    .dataframe tbody tr th:only-of-type {\n",
       "        vertical-align: middle;\n",
       "    }\n",
       "\n",
       "    .dataframe tbody tr th {\n",
       "        vertical-align: top;\n",
       "    }\n",
       "\n",
       "    .dataframe thead th {\n",
       "        text-align: right;\n",
       "    }\n",
       "</style>\n",
       "<table border=\"1\" class=\"dataframe\">\n",
       "  <thead>\n",
       "    <tr style=\"text-align: right;\">\n",
       "      <th></th>\n",
       "      <th>청원번호</th>\n",
       "      <th>분야</th>\n",
       "      <th>제목</th>\n",
       "      <th>청원기간</th>\n",
       "      <th>공감수</th>\n",
       "    </tr>\n",
       "  </thead>\n",
       "  <tbody>\n",
       "  </tbody>\n",
       "</table>\n",
       "</div>"
      ],
      "text/plain": [
       "Empty DataFrame\n",
       "Columns: [청원번호, 분야, 제목, 청원기간, 공감수]\n",
       "Index: []"
      ]
     },
     "execution_count": 2,
     "metadata": {},
     "output_type": "execute_result"
    }
   ],
   "source": [
    "df = pd.DataFrame(columns=['청원번호', '분야', '제목', '청원기간', '공감수'])\n",
    "df"
   ]
  },
  {
   "cell_type": "markdown",
   "metadata": {},
   "source": [
    "## 1페이지"
   ]
  },
  {
   "cell_type": "code",
   "execution_count": 3,
   "metadata": {},
   "outputs": [],
   "source": [
    "url = 'https://www.incheon.go.kr/cool/COOL010201?curPage=1&srchKey=&srchOrderSe=ORDER_APPRVL&srchPetitSttusCode=&srchWord=&srchPetitClCode='\n",
    "\n",
    "f = requests.get(url)\n",
    "f_html = f.content\n",
    "f_soup = BeautifulSoup(f_html, 'html.parser')\n",
    "petition = f_soup.select('#content > div.content-body > div > section > div.section-body > div.board-wrap > div.board-data-list.board-has-sm-view.layout-fixed > table > tbody > tr') "
   ]
  },
  {
   "cell_type": "code",
   "execution_count": 4,
   "metadata": {
    "scrolled": true
   },
   "outputs": [],
   "source": [
    "for i in range(len(petition)):\n",
    "    no = petition[i].find_all('td')[0].text.strip()\n",
    "    sub = petition[i].find_all('td')[1].text.strip()\n",
    "    title = petition[i].find_all('td')[2].text.replace('\\n', '').strip()\n",
    "    time = petition[i].find_all('td')[3].text.strip()\n",
    "    agree = petition[i].find_all('td')[5].text.strip()\n",
    "    \n",
    "    new_data = [no, sub, title, time, agree]\n",
    "    df.loc[len(df)] = new_data"
   ]
  },
  {
   "cell_type": "code",
   "execution_count": 5,
   "metadata": {},
   "outputs": [
    {
     "data": {
      "text/html": [
       "<div>\n",
       "<style scoped>\n",
       "    .dataframe tbody tr th:only-of-type {\n",
       "        vertical-align: middle;\n",
       "    }\n",
       "\n",
       "    .dataframe tbody tr th {\n",
       "        vertical-align: top;\n",
       "    }\n",
       "\n",
       "    .dataframe thead th {\n",
       "        text-align: right;\n",
       "    }\n",
       "</style>\n",
       "<table border=\"1\" class=\"dataframe\">\n",
       "  <thead>\n",
       "    <tr style=\"text-align: right;\">\n",
       "      <th></th>\n",
       "      <th>청원번호</th>\n",
       "      <th>분야</th>\n",
       "      <th>제목</th>\n",
       "      <th>청원기간</th>\n",
       "      <th>공감수</th>\n",
       "    </tr>\n",
       "  </thead>\n",
       "  <tbody>\n",
       "    <tr>\n",
       "      <th>0</th>\n",
       "      <td>2011180</td>\n",
       "      <td>환경(안전)</td>\n",
       "      <td>우리 마을을 구해 주세요. 주민 몰래 들어온 내 집 앞의 발전소 곧 여러분들의 일이...</td>\n",
       "      <td>2019-05-23~ 2019-06-22</td>\n",
       "      <td>3,791</td>\n",
       "    </tr>\n",
       "    <tr>\n",
       "      <th>1</th>\n",
       "      <td>2010999</td>\n",
       "      <td>환경(안전)</td>\n",
       "      <td>제목 : 인천시와 인천항만공사가 짝짝꿍 하는 이유가 뭡니까?(9공구 화물주차장 계획...</td>\n",
       "      <td>2019-05-21~ 2019-06-20</td>\n",
       "      <td>3,277</td>\n",
       "    </tr>\n",
       "    <tr>\n",
       "      <th>2</th>\n",
       "      <td>2000918</td>\n",
       "      <td>도시(건설)</td>\n",
       "      <td>송도 R2블럭 원안복귀 청원합니다.</td>\n",
       "      <td>2019-01-14~ 2019-02-13</td>\n",
       "      <td>3,257</td>\n",
       "    </tr>\n",
       "    <tr>\n",
       "      <th>3</th>\n",
       "      <td>2005161</td>\n",
       "      <td>환경(안전)</td>\n",
       "      <td>인천에 쓰레기 매립지를 종료하라 했더니 기존 매립지 코앞. 청라&amp;영종&amp;서구 검단 사...</td>\n",
       "      <td>2019-03-21~ 2019-04-20</td>\n",
       "      <td>3,201</td>\n",
       "    </tr>\n",
       "    <tr>\n",
       "      <th>4</th>\n",
       "      <td>1998814</td>\n",
       "      <td>도시(건설)</td>\n",
       "      <td>청라국제도시의 발전을 저해하고 청라주민을 우롱하는 김진용 경자청장의 사퇴를 요청합니다.</td>\n",
       "      <td>2018-12-10~ 2019-01-09</td>\n",
       "      <td>3,193</td>\n",
       "    </tr>\n",
       "  </tbody>\n",
       "</table>\n",
       "</div>"
      ],
      "text/plain": [
       "      청원번호      분야                                                 제목  \\\n",
       "0  2011180  환경(안전)  우리 마을을 구해 주세요. 주민 몰래 들어온 내 집 앞의 발전소 곧 여러분들의 일이...   \n",
       "1  2010999  환경(안전)  제목 : 인천시와 인천항만공사가 짝짝꿍 하는 이유가 뭡니까?(9공구 화물주차장 계획...   \n",
       "2  2000918  도시(건설)                                송도 R2블럭 원안복귀 청원합니다.   \n",
       "3  2005161  환경(안전)  인천에 쓰레기 매립지를 종료하라 했더니 기존 매립지 코앞. 청라&영종&서구 검단 사...   \n",
       "4  1998814  도시(건설)   청라국제도시의 발전을 저해하고 청라주민을 우롱하는 김진용 경자청장의 사퇴를 요청합니다.   \n",
       "\n",
       "                     청원기간    공감수  \n",
       "0  2019-05-23~ 2019-06-22  3,791  \n",
       "1  2019-05-21~ 2019-06-20  3,277  \n",
       "2  2019-01-14~ 2019-02-13  3,257  \n",
       "3  2019-03-21~ 2019-04-20  3,201  \n",
       "4  2018-12-10~ 2019-01-09  3,193  "
      ]
     },
     "execution_count": 5,
     "metadata": {},
     "output_type": "execute_result"
    }
   ],
   "source": [
    "df.head()"
   ]
  },
  {
   "cell_type": "code",
   "execution_count": 6,
   "metadata": {},
   "outputs": [
    {
     "data": {
      "text/plain": [
       "(10, 5)"
      ]
     },
     "execution_count": 6,
     "metadata": {},
     "output_type": "execute_result"
    }
   ],
   "source": [
    "df.shape"
   ]
  },
  {
   "cell_type": "markdown",
   "metadata": {},
   "source": [
    "## 2~10 페이지\n",
    "- url 구조가 다름"
   ]
  },
  {
   "cell_type": "code",
   "execution_count": 7,
   "metadata": {},
   "outputs": [],
   "source": [
    "url_start = 'https://www.incheon.go.kr/cool/COOL010201?curPage='\n",
    "url_end = '&srchKey=&srchOrderSe=ORDER_APPRVL&srchPetitSttusCode=&srchWord=&srchPetitClCode='\n",
    "\n",
    "page_num = 2"
   ]
  },
  {
   "cell_type": "code",
   "execution_count": 8,
   "metadata": {},
   "outputs": [
    {
     "name": "stdout",
     "output_type": "stream",
     "text": [
      "2 페이지\n",
      "3 페이지\n",
      "4 페이지\n",
      "5 페이지\n",
      "6 페이지\n",
      "7 페이지\n",
      "8 페이지\n",
      "9 페이지\n",
      "10 페이지\n"
     ]
    }
   ],
   "source": [
    "for x in range(1, 10):\n",
    "    url = url_start + str(page_num) + url_end\n",
    "    print(page_num, '페이지')\n",
    "\n",
    "    f = requests.get(url)\n",
    "    f_html = f.content\n",
    "    f_soup = BeautifulSoup(f_html, 'html.parser')\n",
    "    petition = f_soup.select('#content > div.content-body > div > section > div.section-body > div.board-wrap > div.board-data-list.board-has-sm-view.layout-fixed > table > tbody > tr') \n",
    "    \n",
    "    for i in range(len(petition)):\n",
    "        no = petition[i].find_all('td')[0].text.strip()\n",
    "        sub = petition[i].find_all('td')[1].text.strip()\n",
    "        title = petition[i].find_all('td')[2].text.replace('\\n', '').strip()\n",
    "        time = petition[i].find_all('td')[3].text.strip()\n",
    "        agree = petition[i].find_all('td')[5].text.strip()\n",
    "    \n",
    "        new_data = [no, sub, title, time, agree]\n",
    "        df.loc[len(df)] = new_data\n",
    "     \n",
    "    page_num += 1"
   ]
  },
  {
   "cell_type": "code",
   "execution_count": 9,
   "metadata": {},
   "outputs": [
    {
     "data": {
      "text/html": [
       "<div>\n",
       "<style scoped>\n",
       "    .dataframe tbody tr th:only-of-type {\n",
       "        vertical-align: middle;\n",
       "    }\n",
       "\n",
       "    .dataframe tbody tr th {\n",
       "        vertical-align: top;\n",
       "    }\n",
       "\n",
       "    .dataframe thead th {\n",
       "        text-align: right;\n",
       "    }\n",
       "</style>\n",
       "<table border=\"1\" class=\"dataframe\">\n",
       "  <thead>\n",
       "    <tr style=\"text-align: right;\">\n",
       "      <th></th>\n",
       "      <th>청원번호</th>\n",
       "      <th>분야</th>\n",
       "      <th>제목</th>\n",
       "      <th>청원기간</th>\n",
       "      <th>공감수</th>\n",
       "    </tr>\n",
       "  </thead>\n",
       "  <tbody>\n",
       "    <tr>\n",
       "      <th>0</th>\n",
       "      <td>2011180</td>\n",
       "      <td>환경(안전)</td>\n",
       "      <td>우리 마을을 구해 주세요. 주민 몰래 들어온 내 집 앞의 발전소 곧 여러분들의 일이...</td>\n",
       "      <td>2019-05-23~ 2019-06-22</td>\n",
       "      <td>3,791</td>\n",
       "    </tr>\n",
       "    <tr>\n",
       "      <th>1</th>\n",
       "      <td>2010999</td>\n",
       "      <td>환경(안전)</td>\n",
       "      <td>제목 : 인천시와 인천항만공사가 짝짝꿍 하는 이유가 뭡니까?(9공구 화물주차장 계획...</td>\n",
       "      <td>2019-05-21~ 2019-06-20</td>\n",
       "      <td>3,277</td>\n",
       "    </tr>\n",
       "    <tr>\n",
       "      <th>2</th>\n",
       "      <td>2000918</td>\n",
       "      <td>도시(건설)</td>\n",
       "      <td>송도 R2블럭 원안복귀 청원합니다.</td>\n",
       "      <td>2019-01-14~ 2019-02-13</td>\n",
       "      <td>3,257</td>\n",
       "    </tr>\n",
       "    <tr>\n",
       "      <th>3</th>\n",
       "      <td>2005161</td>\n",
       "      <td>환경(안전)</td>\n",
       "      <td>인천에 쓰레기 매립지를 종료하라 했더니 기존 매립지 코앞. 청라&amp;영종&amp;서구 검단 사...</td>\n",
       "      <td>2019-03-21~ 2019-04-20</td>\n",
       "      <td>3,201</td>\n",
       "    </tr>\n",
       "    <tr>\n",
       "      <th>4</th>\n",
       "      <td>1998814</td>\n",
       "      <td>도시(건설)</td>\n",
       "      <td>청라국제도시의 발전을 저해하고 청라주민을 우롱하는 김진용 경자청장의 사퇴를 요청합니다.</td>\n",
       "      <td>2018-12-10~ 2019-01-09</td>\n",
       "      <td>3,193</td>\n",
       "    </tr>\n",
       "  </tbody>\n",
       "</table>\n",
       "</div>"
      ],
      "text/plain": [
       "      청원번호      분야                                                 제목  \\\n",
       "0  2011180  환경(안전)  우리 마을을 구해 주세요. 주민 몰래 들어온 내 집 앞의 발전소 곧 여러분들의 일이...   \n",
       "1  2010999  환경(안전)  제목 : 인천시와 인천항만공사가 짝짝꿍 하는 이유가 뭡니까?(9공구 화물주차장 계획...   \n",
       "2  2000918  도시(건설)                                송도 R2블럭 원안복귀 청원합니다.   \n",
       "3  2005161  환경(안전)  인천에 쓰레기 매립지를 종료하라 했더니 기존 매립지 코앞. 청라&영종&서구 검단 사...   \n",
       "4  1998814  도시(건설)   청라국제도시의 발전을 저해하고 청라주민을 우롱하는 김진용 경자청장의 사퇴를 요청합니다.   \n",
       "\n",
       "                     청원기간    공감수  \n",
       "0  2019-05-23~ 2019-06-22  3,791  \n",
       "1  2019-05-21~ 2019-06-20  3,277  \n",
       "2  2019-01-14~ 2019-02-13  3,257  \n",
       "3  2019-03-21~ 2019-04-20  3,201  \n",
       "4  2018-12-10~ 2019-01-09  3,193  "
      ]
     },
     "execution_count": 9,
     "metadata": {},
     "output_type": "execute_result"
    }
   ],
   "source": [
    "df.head()"
   ]
  },
  {
   "cell_type": "code",
   "execution_count": 10,
   "metadata": {},
   "outputs": [
    {
     "data": {
      "text/plain": [
       "(100, 5)"
      ]
     },
     "execution_count": 10,
     "metadata": {},
     "output_type": "execute_result"
    }
   ],
   "source": [
    "df.shape"
   ]
  },
  {
   "cell_type": "code",
   "execution_count": 10,
   "metadata": {},
   "outputs": [],
   "source": [
    "df.to_csv('./data/인천시 국민청원.csv', index=False, encoding='euc-kr')"
   ]
  },
  {
   "cell_type": "code",
   "execution_count": null,
   "metadata": {},
   "outputs": [],
   "source": []
  }
 ],
 "metadata": {
  "kernelspec": {
   "display_name": "Python 3",
   "language": "python",
   "name": "python3"
  },
  "language_info": {
   "codemirror_mode": {
    "name": "ipython",
    "version": 3
   },
   "file_extension": ".py",
   "mimetype": "text/x-python",
   "name": "python",
   "nbconvert_exporter": "python",
   "pygments_lexer": "ipython3",
   "version": "3.7.6"
  },
  "toc": {
   "base_numbering": 1,
   "nav_menu": {},
   "number_sections": true,
   "sideBar": true,
   "skip_h1_title": false,
   "title_cell": "Table of Contents",
   "title_sidebar": "Contents",
   "toc_cell": false,
   "toc_position": {},
   "toc_section_display": true,
   "toc_window_display": true
  }
 },
 "nbformat": 4,
 "nbformat_minor": 4
}
